{
  "nbformat": 4,
  "nbformat_minor": 0,
  "metadata": {
    "colab": {
      "provenance": [],
      "toc_visible": true,
      "authorship_tag": "ABX9TyMtUY6LzGNI/1e1CDmM1IZQ",
      "include_colab_link": true
    },
    "kernelspec": {
      "name": "python3",
      "display_name": "Python 3"
    },
    "language_info": {
      "name": "python"
    }
  },
  "cells": [
    {
      "cell_type": "markdown",
      "metadata": {
        "id": "view-in-github",
        "colab_type": "text"
      },
      "source": [
        "<a href=\"https://colab.research.google.com/github/wksiazak/Earthquake_classifcation_project/blob/master/Earthquake_Perception.ipynb\" target=\"_parent\"><img src=\"https://colab.research.google.com/assets/colab-badge.svg\" alt=\"Open In Colab\"/></a>"
      ]
    },
    {
      "cell_type": "markdown",
      "source": [
        "## Intro & goal\n",
        "\n",
        "It is analysis prepared based on [Earthquake Perception Dataset](https://www.kaggle.com/datasets/antoniocola/earthquake-perception-dataset?resource=download)\n",
        "\n",
        "\n",
        "Main goal is to analyse data, look for some relations between main features and try to use classification models to predict some features for example \"change_of_residence_earthquake\" - which is \"Willingness to change residence due to an earthquake\"\n"
      ],
      "metadata": {
        "id": "gDqV3Ag5xZN2"
      }
    },
    {
      "cell_type": "markdown",
      "source": [
        "## Import Libraries & Initial data analysis"
      ],
      "metadata": {
        "id": "dhmu4IuNxRCb"
      }
    },
    {
      "cell_type": "code",
      "execution_count": 1,
      "metadata": {
        "id": "0W1Mq_KyPf0P",
        "collapsed": true
      },
      "outputs": [],
      "source": [
        "import pandas as pd\n",
        "pd.set_option('display.max_columns', None)\n",
        "\n",
        "import matplotlib.pyplot as plt\n",
        "import seaborn as sns\n",
        "\n",
        "from sklearn.ensemble import RandomForestClassifier\n",
        "from sklearn.model_selection import train_test_split\n",
        "\n",
        "import numpy as np\n",
        "\n",
        "from sklearn.preprocessing import LabelEncoder, OneHotEncoder\n",
        "\n",
        "from sklearn.linear_model import LogisticRegression\n",
        "from sklearn.metrics import classification_report\n",
        "\n",
        "from sklearn.metrics import classification_report, confusion_matrix\n",
        "\n",
        "from sklearn.svm import SVC\n",
        "from sklearn.model_selection import GridSearchCV\n",
        "\n",
        "from sklearn.naive_bayes import GaussianNB, MultinomialNB, BernoulliNB\n",
        "\n",
        "from sklearn.cluster import KMeans\n",
        "from sklearn.metrics import silhouette_score\n",
        "from sklearn.mixture import GaussianMixture\n",
        "\n",
        "from sklearn.ensemble import BaggingClassifier\n",
        "from sklearn.ensemble import RandomForestClassifier\n",
        "\n",
        "from sklearn.ensemble import AdaBoostClassifier\n",
        "from sklearn.ensemble import GradientBoostingClassifier\n",
        "\n",
        "import xgboost as xgb\n",
        "from sklearn.metrics import accuracy_score"
      ]
    },
    {
      "cell_type": "code",
      "source": [
        "!pip install fancyimpute"
      ],
      "metadata": {
        "colab": {
          "base_uri": "https://localhost:8080/"
        },
        "collapsed": true,
        "id": "164dmtYGleDR",
        "outputId": "022ee60a-359f-47f8-cb39-a5721fdfeece"
      },
      "execution_count": 2,
      "outputs": [
        {
          "output_type": "stream",
          "name": "stdout",
          "text": [
            "Collecting fancyimpute\n",
            "  Downloading fancyimpute-0.7.0.tar.gz (25 kB)\n",
            "  Preparing metadata (setup.py) ... \u001b[?25l\u001b[?25hdone\n",
            "Collecting knnimpute>=0.1.0 (from fancyimpute)\n",
            "  Downloading knnimpute-0.1.0.tar.gz (8.3 kB)\n",
            "  Preparing metadata (setup.py) ... \u001b[?25l\u001b[?25hdone\n",
            "Requirement already satisfied: scikit-learn>=0.24.2 in /usr/local/lib/python3.10/dist-packages (from fancyimpute) (1.2.2)\n",
            "Requirement already satisfied: cvxpy in /usr/local/lib/python3.10/dist-packages (from fancyimpute) (1.3.4)\n",
            "Requirement already satisfied: cvxopt in /usr/local/lib/python3.10/dist-packages (from fancyimpute) (1.3.2)\n",
            "Requirement already satisfied: pytest in /usr/local/lib/python3.10/dist-packages (from fancyimpute) (7.4.4)\n",
            "Collecting nose (from fancyimpute)\n",
            "  Downloading nose-1.3.7-py3-none-any.whl (154 kB)\n",
            "\u001b[2K     \u001b[90m━━━━━━━━━━━━━━━━━━━━━━━━━━━━━━━━━━━━━━━━\u001b[0m \u001b[32m154.7/154.7 kB\u001b[0m \u001b[31m8.1 MB/s\u001b[0m eta \u001b[36m0:00:00\u001b[0m\n",
            "\u001b[?25hRequirement already satisfied: six in /usr/local/lib/python3.10/dist-packages (from knnimpute>=0.1.0->fancyimpute) (1.16.0)\n",
            "Requirement already satisfied: numpy>=1.10 in /usr/local/lib/python3.10/dist-packages (from knnimpute>=0.1.0->fancyimpute) (1.25.2)\n",
            "Requirement already satisfied: scipy>=1.3.2 in /usr/local/lib/python3.10/dist-packages (from scikit-learn>=0.24.2->fancyimpute) (1.11.4)\n",
            "Requirement already satisfied: joblib>=1.1.1 in /usr/local/lib/python3.10/dist-packages (from scikit-learn>=0.24.2->fancyimpute) (1.4.2)\n",
            "Requirement already satisfied: threadpoolctl>=2.0.0 in /usr/local/lib/python3.10/dist-packages (from scikit-learn>=0.24.2->fancyimpute) (3.5.0)\n",
            "Requirement already satisfied: osqp>=0.4.1 in /usr/local/lib/python3.10/dist-packages (from cvxpy->fancyimpute) (0.6.2.post8)\n",
            "Requirement already satisfied: ecos>=2 in /usr/local/lib/python3.10/dist-packages (from cvxpy->fancyimpute) (2.0.14)\n",
            "Requirement already satisfied: scs>=1.1.6 in /usr/local/lib/python3.10/dist-packages (from cvxpy->fancyimpute) (3.2.5)\n",
            "Requirement already satisfied: setuptools>65.5.1 in /usr/local/lib/python3.10/dist-packages (from cvxpy->fancyimpute) (67.7.2)\n",
            "Requirement already satisfied: iniconfig in /usr/local/lib/python3.10/dist-packages (from pytest->fancyimpute) (2.0.0)\n",
            "Requirement already satisfied: packaging in /usr/local/lib/python3.10/dist-packages (from pytest->fancyimpute) (24.1)\n",
            "Requirement already satisfied: pluggy<2.0,>=0.12 in /usr/local/lib/python3.10/dist-packages (from pytest->fancyimpute) (1.5.0)\n",
            "Requirement already satisfied: exceptiongroup>=1.0.0rc8 in /usr/local/lib/python3.10/dist-packages (from pytest->fancyimpute) (1.2.1)\n",
            "Requirement already satisfied: tomli>=1.0.0 in /usr/local/lib/python3.10/dist-packages (from pytest->fancyimpute) (2.0.1)\n",
            "Requirement already satisfied: qdldl in /usr/local/lib/python3.10/dist-packages (from osqp>=0.4.1->cvxpy->fancyimpute) (0.1.7.post4)\n",
            "Building wheels for collected packages: fancyimpute, knnimpute\n",
            "  Building wheel for fancyimpute (setup.py) ... \u001b[?25l\u001b[?25hdone\n",
            "  Created wheel for fancyimpute: filename=fancyimpute-0.7.0-py3-none-any.whl size=29881 sha256=fdf24f9976c3fc1efe6fc7f7c7f33b9fdea6a652633483078fdfbc073dee9d1f\n",
            "  Stored in directory: /root/.cache/pip/wheels/7b/0c/d3/ee82d1fbdcc0858d96434af108608d01703505d453720c84ed\n",
            "  Building wheel for knnimpute (setup.py) ... \u001b[?25l\u001b[?25hdone\n",
            "  Created wheel for knnimpute: filename=knnimpute-0.1.0-py3-none-any.whl size=11330 sha256=d73b8a9b5d9c297b1d0d22ad7573f2501ff339a6184659142e843df2ede1b973\n",
            "  Stored in directory: /root/.cache/pip/wheels/46/06/a5/45a724630562413c374e29c08732411d496092408b3a7bf754\n",
            "Successfully built fancyimpute knnimpute\n",
            "Installing collected packages: nose, knnimpute, fancyimpute\n",
            "Successfully installed fancyimpute-0.7.0 knnimpute-0.1.0 nose-1.3.7\n"
          ]
        }
      ]
    },
    {
      "cell_type": "code",
      "source": [
        "from fancyimpute import KNN"
      ],
      "metadata": {
        "id": "qSlynxUOlrso"
      },
      "execution_count": 3,
      "outputs": []
    },
    {
      "cell_type": "code",
      "source": [
        "data  = pd.read_csv('Earthquake Perception Dataset.csv')"
      ],
      "metadata": {
        "id": "r_GcncXpQAwW"
      },
      "execution_count": 4,
      "outputs": []
    },
    {
      "cell_type": "code",
      "source": [
        "data.info()"
      ],
      "metadata": {
        "colab": {
          "base_uri": "https://localhost:8080/"
        },
        "id": "TFGbUPW0QLrO",
        "outputId": "ec3d7a5c-7a41-46d3-8f01-427fde13669e"
      },
      "execution_count": 5,
      "outputs": [
        {
          "output_type": "stream",
          "name": "stdout",
          "text": [
            "<class 'pandas.core.frame.DataFrame'>\n",
            "RangeIndex: 472 entries, 0 to 471\n",
            "Data columns (total 43 columns):\n",
            " #   Column                          Non-Null Count  Dtype  \n",
            "---  ------                          --------------  -----  \n",
            " 0   age                             456 non-null    float64\n",
            " 1   sex                             470 non-null    object \n",
            " 2   marital_status                  472 non-null    object \n",
            " 3   residence                       468 non-null    object \n",
            " 4   education                       472 non-null    object \n",
            " 5   occupation                      472 non-null    object \n",
            " 6   out_of_region_employment        472 non-null    object \n",
            " 7   family_members                  472 non-null    object \n",
            " 8   family_disabilities             464 non-null    object \n",
            " 9   house_floor                     472 non-null    object \n",
            " 10  earthquake80                    472 non-null    object \n",
            " 11  political_orientation           202 non-null    object \n",
            " 12  shocks                          472 non-null    int64  \n",
            " 13  fear                            472 non-null    int64  \n",
            " 14  anxiety                         472 non-null    int64  \n",
            " 15  physiological_symptoms          472 non-null    int64  \n",
            " 16  decision_timeliness             472 non-null    int64  \n",
            " 17  insomnia                        472 non-null    int64  \n",
            " 18  seismic_concern                 472 non-null    int64  \n",
            " 19  abroad                          472 non-null    object \n",
            " 20  out_of_region                   472 non-null    object \n",
            " 21  out_of_region_earthquake        472 non-null    object \n",
            " 22  change_of_residence             472 non-null    object \n",
            " 23  change_of_residence_earthquake  472 non-null    object \n",
            " 24  red_zone_frequency              472 non-null    object \n",
            " 25  radio_info                      472 non-null    int64  \n",
            " 26  TV_info                         472 non-null    int64  \n",
            " 27  social_media_info               472 non-null    int64  \n",
            " 28  newspaper_info                  472 non-null    int64  \n",
            " 29  app_info                        472 non-null    int64  \n",
            " 30  municipal_institutions_trust    472 non-null    int64  \n",
            " 31  regional_institutions_trust     472 non-null    int64  \n",
            " 32  national_institutions_trust     472 non-null    int64  \n",
            " 33  INGV_trust                      472 non-null    int64  \n",
            " 34  security                        472 non-null    int64  \n",
            " 35  reception_centers               472 non-null    object \n",
            " 36  property_house                  472 non-null    object \n",
            " 37  housing_type                    472 non-null    object \n",
            " 38  elevator                        472 non-null    object \n",
            " 39  n_vehicles                      472 non-null    int64  \n",
            " 40  vehicle_type                    409 non-null    object \n",
            " 41  end_of_month                    472 non-null    int64  \n",
            " 42  salary                          304 non-null    object \n",
            "dtypes: float64(1), int64(19), object(23)\n",
            "memory usage: 158.7+ KB\n"
          ]
        }
      ]
    },
    {
      "cell_type": "markdown",
      "source": [
        "In Classification model we may try to build model which will clasify if particular person will decide to change residence of earthquake?\n",
        "y  could be \"change_of_residence_earthquake\""
      ],
      "metadata": {
        "id": "8hxlnIZRTH29"
      }
    },
    {
      "cell_type": "code",
      "source": [
        "data.isna().sum().sort_values(ascending = False)"
      ],
      "metadata": {
        "colab": {
          "base_uri": "https://localhost:8080/"
        },
        "id": "JFhovsubRO7g",
        "outputId": "470b5c55-0bb1-45b7-946c-df1b9bf730de"
      },
      "execution_count": 6,
      "outputs": [
        {
          "output_type": "execute_result",
          "data": {
            "text/plain": [
              "political_orientation             270\n",
              "salary                            168\n",
              "vehicle_type                       63\n",
              "age                                16\n",
              "family_disabilities                 8\n",
              "residence                           4\n",
              "sex                                 2\n",
              "education                           0\n",
              "INGV_trust                          0\n",
              "social_media_info                   0\n",
              "newspaper_info                      0\n",
              "app_info                            0\n",
              "municipal_institutions_trust        0\n",
              "regional_institutions_trust         0\n",
              "national_institutions_trust         0\n",
              "reception_centers                   0\n",
              "security                            0\n",
              "radio_info                          0\n",
              "property_house                      0\n",
              "housing_type                        0\n",
              "elevator                            0\n",
              "n_vehicles                          0\n",
              "marital_status                      0\n",
              "end_of_month                        0\n",
              "TV_info                             0\n",
              "change_of_residence_earthquake      0\n",
              "red_zone_frequency                  0\n",
              "anxiety                             0\n",
              "out_of_region_employment            0\n",
              "family_members                      0\n",
              "house_floor                         0\n",
              "earthquake80                        0\n",
              "shocks                              0\n",
              "fear                                0\n",
              "physiological_symptoms              0\n",
              "occupation                          0\n",
              "decision_timeliness                 0\n",
              "insomnia                            0\n",
              "seismic_concern                     0\n",
              "abroad                              0\n",
              "out_of_region                       0\n",
              "change_of_residence                 0\n",
              "out_of_region_earthquake            0\n",
              "dtype: int64"
            ]
          },
          "metadata": {},
          "execution_count": 6
        }
      ]
    },
    {
      "cell_type": "code",
      "source": [
        "data.head()"
      ],
      "metadata": {
        "colab": {
          "base_uri": "https://localhost:8080/",
          "height": 451
        },
        "id": "AycTv14fRgnV",
        "outputId": "c36c2f74-37ae-44d3-faa3-0fc97984c309"
      },
      "execution_count": 7,
      "outputs": [
        {
          "output_type": "execute_result",
          "data": {
            "text/plain": [
              "    age     sex marital_status        residence               education  \\\n",
              "0  21.0    Male      Unmarried           Napoli  Upper Secondary School   \n",
              "1  21.0  Female      Unmarried           Napoli  Upper Secondary School   \n",
              "2  21.0  Female      Unmarried           Napoli  Upper Secondary School   \n",
              "3  23.0    Male      Unmarried           Quarto  Upper Secondary School   \n",
              "4  64.0  Female      Unmarried  Somma Vesuviana                  Degree   \n",
              "\n",
              "       occupation out_of_region_employment family_members family_disabilities  \\\n",
              "0         Student                       No              4                  No   \n",
              "1         Student                       No              5                  No   \n",
              "2  Student Worker                       No              5                  No   \n",
              "3         Student                       No              5                  No   \n",
              "4         Retired                       No              1                  No   \n",
              "\n",
              "  house_floor earthquake80 political_orientation  shocks  fear  anxiety  \\\n",
              "0           1           No                  Left       3     2        2   \n",
              "1           4           No                Center       1     2        2   \n",
              "2           4           No                  Left       3     2        2   \n",
              "3           2           No                   NaN       3     3        3   \n",
              "4           2          Yes                  Left       4     4        4   \n",
              "\n",
              "   physiological_symptoms  decision_timeliness  insomnia  seismic_concern  \\\n",
              "0                       2                    3         1                2   \n",
              "1                       1                    3         2                4   \n",
              "2                       1                    4         2                3   \n",
              "3                       3                    1         3                4   \n",
              "4                       3                    2         3                4   \n",
              "\n",
              "  abroad out_of_region out_of_region_earthquake change_of_residence  \\\n",
              "0    Yes           Yes                       No                  No   \n",
              "1    Yes           Yes                       No                 Yes   \n",
              "2    Yes           Yes                      Yes                 Yes   \n",
              "3    Yes           Yes                      Yes                 Yes   \n",
              "4    Yes            No                       No                 Yes   \n",
              "\n",
              "  change_of_residence_earthquake red_zone_frequency  radio_info  TV_info  \\\n",
              "0                             No                 No           3        4   \n",
              "1                             No                Yes           3        2   \n",
              "2                            Yes                Yes           2        2   \n",
              "3                            Yes                Yes           1        1   \n",
              "4                            Yes                Yes           3        3   \n",
              "\n",
              "   social_media_info  newspaper_info  app_info  municipal_institutions_trust  \\\n",
              "0                  2               4         4                             3   \n",
              "1                  2               2         2                             2   \n",
              "2                  2               2         2                             2   \n",
              "3                  1               1         1                             1   \n",
              "4                  3               3         3                             2   \n",
              "\n",
              "   regional_institutions_trust  national_institutions_trust  INGV_trust  \\\n",
              "0                            3                            3           4   \n",
              "1                            2                            2           3   \n",
              "2                            2                            2           5   \n",
              "3                            1                            1           1   \n",
              "4                            3                            2           4   \n",
              "\n",
              "   security reception_centers property_house housing_type elevator  \\\n",
              "0         2                No            Yes    Apartment      Yes   \n",
              "1         1                No            Yes        Other      Yes   \n",
              "2         3               Yes            Yes    Apartment      Yes   \n",
              "3         1                No             No    Apartment       No   \n",
              "4         2                No             No    Apartment      Yes   \n",
              "\n",
              "   n_vehicles        vehicle_type  end_of_month                     salary  \n",
              "0           0                 NaN             1               Up to €15000  \n",
              "1           5  Car and Motorcycle             1  Between €28000 and €50000  \n",
              "2           0                 NaN             1  Between €15000 and €28000  \n",
              "3           2                 Car             5               Up to €15000  \n",
              "4           0                 NaN             3  Between €15000 and €28000  "
            ],
            "text/html": [
              "\n",
              "  <div id=\"df-0e6067f8-9478-4730-872f-79201fcd2db6\" class=\"colab-df-container\">\n",
              "    <div>\n",
              "<style scoped>\n",
              "    .dataframe tbody tr th:only-of-type {\n",
              "        vertical-align: middle;\n",
              "    }\n",
              "\n",
              "    .dataframe tbody tr th {\n",
              "        vertical-align: top;\n",
              "    }\n",
              "\n",
              "    .dataframe thead th {\n",
              "        text-align: right;\n",
              "    }\n",
              "</style>\n",
              "<table border=\"1\" class=\"dataframe\">\n",
              "  <thead>\n",
              "    <tr style=\"text-align: right;\">\n",
              "      <th></th>\n",
              "      <th>age</th>\n",
              "      <th>sex</th>\n",
              "      <th>marital_status</th>\n",
              "      <th>residence</th>\n",
              "      <th>education</th>\n",
              "      <th>occupation</th>\n",
              "      <th>out_of_region_employment</th>\n",
              "      <th>family_members</th>\n",
              "      <th>family_disabilities</th>\n",
              "      <th>house_floor</th>\n",
              "      <th>earthquake80</th>\n",
              "      <th>political_orientation</th>\n",
              "      <th>shocks</th>\n",
              "      <th>fear</th>\n",
              "      <th>anxiety</th>\n",
              "      <th>physiological_symptoms</th>\n",
              "      <th>decision_timeliness</th>\n",
              "      <th>insomnia</th>\n",
              "      <th>seismic_concern</th>\n",
              "      <th>abroad</th>\n",
              "      <th>out_of_region</th>\n",
              "      <th>out_of_region_earthquake</th>\n",
              "      <th>change_of_residence</th>\n",
              "      <th>change_of_residence_earthquake</th>\n",
              "      <th>red_zone_frequency</th>\n",
              "      <th>radio_info</th>\n",
              "      <th>TV_info</th>\n",
              "      <th>social_media_info</th>\n",
              "      <th>newspaper_info</th>\n",
              "      <th>app_info</th>\n",
              "      <th>municipal_institutions_trust</th>\n",
              "      <th>regional_institutions_trust</th>\n",
              "      <th>national_institutions_trust</th>\n",
              "      <th>INGV_trust</th>\n",
              "      <th>security</th>\n",
              "      <th>reception_centers</th>\n",
              "      <th>property_house</th>\n",
              "      <th>housing_type</th>\n",
              "      <th>elevator</th>\n",
              "      <th>n_vehicles</th>\n",
              "      <th>vehicle_type</th>\n",
              "      <th>end_of_month</th>\n",
              "      <th>salary</th>\n",
              "    </tr>\n",
              "  </thead>\n",
              "  <tbody>\n",
              "    <tr>\n",
              "      <th>0</th>\n",
              "      <td>21.0</td>\n",
              "      <td>Male</td>\n",
              "      <td>Unmarried</td>\n",
              "      <td>Napoli</td>\n",
              "      <td>Upper Secondary School</td>\n",
              "      <td>Student</td>\n",
              "      <td>No</td>\n",
              "      <td>4</td>\n",
              "      <td>No</td>\n",
              "      <td>1</td>\n",
              "      <td>No</td>\n",
              "      <td>Left</td>\n",
              "      <td>3</td>\n",
              "      <td>2</td>\n",
              "      <td>2</td>\n",
              "      <td>2</td>\n",
              "      <td>3</td>\n",
              "      <td>1</td>\n",
              "      <td>2</td>\n",
              "      <td>Yes</td>\n",
              "      <td>Yes</td>\n",
              "      <td>No</td>\n",
              "      <td>No</td>\n",
              "      <td>No</td>\n",
              "      <td>No</td>\n",
              "      <td>3</td>\n",
              "      <td>4</td>\n",
              "      <td>2</td>\n",
              "      <td>4</td>\n",
              "      <td>4</td>\n",
              "      <td>3</td>\n",
              "      <td>3</td>\n",
              "      <td>3</td>\n",
              "      <td>4</td>\n",
              "      <td>2</td>\n",
              "      <td>No</td>\n",
              "      <td>Yes</td>\n",
              "      <td>Apartment</td>\n",
              "      <td>Yes</td>\n",
              "      <td>0</td>\n",
              "      <td>NaN</td>\n",
              "      <td>1</td>\n",
              "      <td>Up to €15000</td>\n",
              "    </tr>\n",
              "    <tr>\n",
              "      <th>1</th>\n",
              "      <td>21.0</td>\n",
              "      <td>Female</td>\n",
              "      <td>Unmarried</td>\n",
              "      <td>Napoli</td>\n",
              "      <td>Upper Secondary School</td>\n",
              "      <td>Student</td>\n",
              "      <td>No</td>\n",
              "      <td>5</td>\n",
              "      <td>No</td>\n",
              "      <td>4</td>\n",
              "      <td>No</td>\n",
              "      <td>Center</td>\n",
              "      <td>1</td>\n",
              "      <td>2</td>\n",
              "      <td>2</td>\n",
              "      <td>1</td>\n",
              "      <td>3</td>\n",
              "      <td>2</td>\n",
              "      <td>4</td>\n",
              "      <td>Yes</td>\n",
              "      <td>Yes</td>\n",
              "      <td>No</td>\n",
              "      <td>Yes</td>\n",
              "      <td>No</td>\n",
              "      <td>Yes</td>\n",
              "      <td>3</td>\n",
              "      <td>2</td>\n",
              "      <td>2</td>\n",
              "      <td>2</td>\n",
              "      <td>2</td>\n",
              "      <td>2</td>\n",
              "      <td>2</td>\n",
              "      <td>2</td>\n",
              "      <td>3</td>\n",
              "      <td>1</td>\n",
              "      <td>No</td>\n",
              "      <td>Yes</td>\n",
              "      <td>Other</td>\n",
              "      <td>Yes</td>\n",
              "      <td>5</td>\n",
              "      <td>Car and Motorcycle</td>\n",
              "      <td>1</td>\n",
              "      <td>Between €28000 and €50000</td>\n",
              "    </tr>\n",
              "    <tr>\n",
              "      <th>2</th>\n",
              "      <td>21.0</td>\n",
              "      <td>Female</td>\n",
              "      <td>Unmarried</td>\n",
              "      <td>Napoli</td>\n",
              "      <td>Upper Secondary School</td>\n",
              "      <td>Student Worker</td>\n",
              "      <td>No</td>\n",
              "      <td>5</td>\n",
              "      <td>No</td>\n",
              "      <td>4</td>\n",
              "      <td>No</td>\n",
              "      <td>Left</td>\n",
              "      <td>3</td>\n",
              "      <td>2</td>\n",
              "      <td>2</td>\n",
              "      <td>1</td>\n",
              "      <td>4</td>\n",
              "      <td>2</td>\n",
              "      <td>3</td>\n",
              "      <td>Yes</td>\n",
              "      <td>Yes</td>\n",
              "      <td>Yes</td>\n",
              "      <td>Yes</td>\n",
              "      <td>Yes</td>\n",
              "      <td>Yes</td>\n",
              "      <td>2</td>\n",
              "      <td>2</td>\n",
              "      <td>2</td>\n",
              "      <td>2</td>\n",
              "      <td>2</td>\n",
              "      <td>2</td>\n",
              "      <td>2</td>\n",
              "      <td>2</td>\n",
              "      <td>5</td>\n",
              "      <td>3</td>\n",
              "      <td>Yes</td>\n",
              "      <td>Yes</td>\n",
              "      <td>Apartment</td>\n",
              "      <td>Yes</td>\n",
              "      <td>0</td>\n",
              "      <td>NaN</td>\n",
              "      <td>1</td>\n",
              "      <td>Between €15000 and €28000</td>\n",
              "    </tr>\n",
              "    <tr>\n",
              "      <th>3</th>\n",
              "      <td>23.0</td>\n",
              "      <td>Male</td>\n",
              "      <td>Unmarried</td>\n",
              "      <td>Quarto</td>\n",
              "      <td>Upper Secondary School</td>\n",
              "      <td>Student</td>\n",
              "      <td>No</td>\n",
              "      <td>5</td>\n",
              "      <td>No</td>\n",
              "      <td>2</td>\n",
              "      <td>No</td>\n",
              "      <td>NaN</td>\n",
              "      <td>3</td>\n",
              "      <td>3</td>\n",
              "      <td>3</td>\n",
              "      <td>3</td>\n",
              "      <td>1</td>\n",
              "      <td>3</td>\n",
              "      <td>4</td>\n",
              "      <td>Yes</td>\n",
              "      <td>Yes</td>\n",
              "      <td>Yes</td>\n",
              "      <td>Yes</td>\n",
              "      <td>Yes</td>\n",
              "      <td>Yes</td>\n",
              "      <td>1</td>\n",
              "      <td>1</td>\n",
              "      <td>1</td>\n",
              "      <td>1</td>\n",
              "      <td>1</td>\n",
              "      <td>1</td>\n",
              "      <td>1</td>\n",
              "      <td>1</td>\n",
              "      <td>1</td>\n",
              "      <td>1</td>\n",
              "      <td>No</td>\n",
              "      <td>No</td>\n",
              "      <td>Apartment</td>\n",
              "      <td>No</td>\n",
              "      <td>2</td>\n",
              "      <td>Car</td>\n",
              "      <td>5</td>\n",
              "      <td>Up to €15000</td>\n",
              "    </tr>\n",
              "    <tr>\n",
              "      <th>4</th>\n",
              "      <td>64.0</td>\n",
              "      <td>Female</td>\n",
              "      <td>Unmarried</td>\n",
              "      <td>Somma Vesuviana</td>\n",
              "      <td>Degree</td>\n",
              "      <td>Retired</td>\n",
              "      <td>No</td>\n",
              "      <td>1</td>\n",
              "      <td>No</td>\n",
              "      <td>2</td>\n",
              "      <td>Yes</td>\n",
              "      <td>Left</td>\n",
              "      <td>4</td>\n",
              "      <td>4</td>\n",
              "      <td>4</td>\n",
              "      <td>3</td>\n",
              "      <td>2</td>\n",
              "      <td>3</td>\n",
              "      <td>4</td>\n",
              "      <td>Yes</td>\n",
              "      <td>No</td>\n",
              "      <td>No</td>\n",
              "      <td>Yes</td>\n",
              "      <td>Yes</td>\n",
              "      <td>Yes</td>\n",
              "      <td>3</td>\n",
              "      <td>3</td>\n",
              "      <td>3</td>\n",
              "      <td>3</td>\n",
              "      <td>3</td>\n",
              "      <td>2</td>\n",
              "      <td>3</td>\n",
              "      <td>2</td>\n",
              "      <td>4</td>\n",
              "      <td>2</td>\n",
              "      <td>No</td>\n",
              "      <td>No</td>\n",
              "      <td>Apartment</td>\n",
              "      <td>Yes</td>\n",
              "      <td>0</td>\n",
              "      <td>NaN</td>\n",
              "      <td>3</td>\n",
              "      <td>Between €15000 and €28000</td>\n",
              "    </tr>\n",
              "  </tbody>\n",
              "</table>\n",
              "</div>\n",
              "    <div class=\"colab-df-buttons\">\n",
              "\n",
              "  <div class=\"colab-df-container\">\n",
              "    <button class=\"colab-df-convert\" onclick=\"convertToInteractive('df-0e6067f8-9478-4730-872f-79201fcd2db6')\"\n",
              "            title=\"Convert this dataframe to an interactive table.\"\n",
              "            style=\"display:none;\">\n",
              "\n",
              "  <svg xmlns=\"http://www.w3.org/2000/svg\" height=\"24px\" viewBox=\"0 -960 960 960\">\n",
              "    <path d=\"M120-120v-720h720v720H120Zm60-500h600v-160H180v160Zm220 220h160v-160H400v160Zm0 220h160v-160H400v160ZM180-400h160v-160H180v160Zm440 0h160v-160H620v160ZM180-180h160v-160H180v160Zm440 0h160v-160H620v160Z\"/>\n",
              "  </svg>\n",
              "    </button>\n",
              "\n",
              "  <style>\n",
              "    .colab-df-container {\n",
              "      display:flex;\n",
              "      gap: 12px;\n",
              "    }\n",
              "\n",
              "    .colab-df-convert {\n",
              "      background-color: #E8F0FE;\n",
              "      border: none;\n",
              "      border-radius: 50%;\n",
              "      cursor: pointer;\n",
              "      display: none;\n",
              "      fill: #1967D2;\n",
              "      height: 32px;\n",
              "      padding: 0 0 0 0;\n",
              "      width: 32px;\n",
              "    }\n",
              "\n",
              "    .colab-df-convert:hover {\n",
              "      background-color: #E2EBFA;\n",
              "      box-shadow: 0px 1px 2px rgba(60, 64, 67, 0.3), 0px 1px 3px 1px rgba(60, 64, 67, 0.15);\n",
              "      fill: #174EA6;\n",
              "    }\n",
              "\n",
              "    .colab-df-buttons div {\n",
              "      margin-bottom: 4px;\n",
              "    }\n",
              "\n",
              "    [theme=dark] .colab-df-convert {\n",
              "      background-color: #3B4455;\n",
              "      fill: #D2E3FC;\n",
              "    }\n",
              "\n",
              "    [theme=dark] .colab-df-convert:hover {\n",
              "      background-color: #434B5C;\n",
              "      box-shadow: 0px 1px 3px 1px rgba(0, 0, 0, 0.15);\n",
              "      filter: drop-shadow(0px 1px 2px rgba(0, 0, 0, 0.3));\n",
              "      fill: #FFFFFF;\n",
              "    }\n",
              "  </style>\n",
              "\n",
              "    <script>\n",
              "      const buttonEl =\n",
              "        document.querySelector('#df-0e6067f8-9478-4730-872f-79201fcd2db6 button.colab-df-convert');\n",
              "      buttonEl.style.display =\n",
              "        google.colab.kernel.accessAllowed ? 'block' : 'none';\n",
              "\n",
              "      async function convertToInteractive(key) {\n",
              "        const element = document.querySelector('#df-0e6067f8-9478-4730-872f-79201fcd2db6');\n",
              "        const dataTable =\n",
              "          await google.colab.kernel.invokeFunction('convertToInteractive',\n",
              "                                                    [key], {});\n",
              "        if (!dataTable) return;\n",
              "\n",
              "        const docLinkHtml = 'Like what you see? Visit the ' +\n",
              "          '<a target=\"_blank\" href=https://colab.research.google.com/notebooks/data_table.ipynb>data table notebook</a>'\n",
              "          + ' to learn more about interactive tables.';\n",
              "        element.innerHTML = '';\n",
              "        dataTable['output_type'] = 'display_data';\n",
              "        await google.colab.output.renderOutput(dataTable, element);\n",
              "        const docLink = document.createElement('div');\n",
              "        docLink.innerHTML = docLinkHtml;\n",
              "        element.appendChild(docLink);\n",
              "      }\n",
              "    </script>\n",
              "  </div>\n",
              "\n",
              "\n",
              "<div id=\"df-f5d7e70c-dad0-48e2-ac55-205a68c51eaf\">\n",
              "  <button class=\"colab-df-quickchart\" onclick=\"quickchart('df-f5d7e70c-dad0-48e2-ac55-205a68c51eaf')\"\n",
              "            title=\"Suggest charts\"\n",
              "            style=\"display:none;\">\n",
              "\n",
              "<svg xmlns=\"http://www.w3.org/2000/svg\" height=\"24px\"viewBox=\"0 0 24 24\"\n",
              "     width=\"24px\">\n",
              "    <g>\n",
              "        <path d=\"M19 3H5c-1.1 0-2 .9-2 2v14c0 1.1.9 2 2 2h14c1.1 0 2-.9 2-2V5c0-1.1-.9-2-2-2zM9 17H7v-7h2v7zm4 0h-2V7h2v10zm4 0h-2v-4h2v4z\"/>\n",
              "    </g>\n",
              "</svg>\n",
              "  </button>\n",
              "\n",
              "<style>\n",
              "  .colab-df-quickchart {\n",
              "      --bg-color: #E8F0FE;\n",
              "      --fill-color: #1967D2;\n",
              "      --hover-bg-color: #E2EBFA;\n",
              "      --hover-fill-color: #174EA6;\n",
              "      --disabled-fill-color: #AAA;\n",
              "      --disabled-bg-color: #DDD;\n",
              "  }\n",
              "\n",
              "  [theme=dark] .colab-df-quickchart {\n",
              "      --bg-color: #3B4455;\n",
              "      --fill-color: #D2E3FC;\n",
              "      --hover-bg-color: #434B5C;\n",
              "      --hover-fill-color: #FFFFFF;\n",
              "      --disabled-bg-color: #3B4455;\n",
              "      --disabled-fill-color: #666;\n",
              "  }\n",
              "\n",
              "  .colab-df-quickchart {\n",
              "    background-color: var(--bg-color);\n",
              "    border: none;\n",
              "    border-radius: 50%;\n",
              "    cursor: pointer;\n",
              "    display: none;\n",
              "    fill: var(--fill-color);\n",
              "    height: 32px;\n",
              "    padding: 0;\n",
              "    width: 32px;\n",
              "  }\n",
              "\n",
              "  .colab-df-quickchart:hover {\n",
              "    background-color: var(--hover-bg-color);\n",
              "    box-shadow: 0 1px 2px rgba(60, 64, 67, 0.3), 0 1px 3px 1px rgba(60, 64, 67, 0.15);\n",
              "    fill: var(--button-hover-fill-color);\n",
              "  }\n",
              "\n",
              "  .colab-df-quickchart-complete:disabled,\n",
              "  .colab-df-quickchart-complete:disabled:hover {\n",
              "    background-color: var(--disabled-bg-color);\n",
              "    fill: var(--disabled-fill-color);\n",
              "    box-shadow: none;\n",
              "  }\n",
              "\n",
              "  .colab-df-spinner {\n",
              "    border: 2px solid var(--fill-color);\n",
              "    border-color: transparent;\n",
              "    border-bottom-color: var(--fill-color);\n",
              "    animation:\n",
              "      spin 1s steps(1) infinite;\n",
              "  }\n",
              "\n",
              "  @keyframes spin {\n",
              "    0% {\n",
              "      border-color: transparent;\n",
              "      border-bottom-color: var(--fill-color);\n",
              "      border-left-color: var(--fill-color);\n",
              "    }\n",
              "    20% {\n",
              "      border-color: transparent;\n",
              "      border-left-color: var(--fill-color);\n",
              "      border-top-color: var(--fill-color);\n",
              "    }\n",
              "    30% {\n",
              "      border-color: transparent;\n",
              "      border-left-color: var(--fill-color);\n",
              "      border-top-color: var(--fill-color);\n",
              "      border-right-color: var(--fill-color);\n",
              "    }\n",
              "    40% {\n",
              "      border-color: transparent;\n",
              "      border-right-color: var(--fill-color);\n",
              "      border-top-color: var(--fill-color);\n",
              "    }\n",
              "    60% {\n",
              "      border-color: transparent;\n",
              "      border-right-color: var(--fill-color);\n",
              "    }\n",
              "    80% {\n",
              "      border-color: transparent;\n",
              "      border-right-color: var(--fill-color);\n",
              "      border-bottom-color: var(--fill-color);\n",
              "    }\n",
              "    90% {\n",
              "      border-color: transparent;\n",
              "      border-bottom-color: var(--fill-color);\n",
              "    }\n",
              "  }\n",
              "</style>\n",
              "\n",
              "  <script>\n",
              "    async function quickchart(key) {\n",
              "      const quickchartButtonEl =\n",
              "        document.querySelector('#' + key + ' button');\n",
              "      quickchartButtonEl.disabled = true;  // To prevent multiple clicks.\n",
              "      quickchartButtonEl.classList.add('colab-df-spinner');\n",
              "      try {\n",
              "        const charts = await google.colab.kernel.invokeFunction(\n",
              "            'suggestCharts', [key], {});\n",
              "      } catch (error) {\n",
              "        console.error('Error during call to suggestCharts:', error);\n",
              "      }\n",
              "      quickchartButtonEl.classList.remove('colab-df-spinner');\n",
              "      quickchartButtonEl.classList.add('colab-df-quickchart-complete');\n",
              "    }\n",
              "    (() => {\n",
              "      let quickchartButtonEl =\n",
              "        document.querySelector('#df-f5d7e70c-dad0-48e2-ac55-205a68c51eaf button');\n",
              "      quickchartButtonEl.style.display =\n",
              "        google.colab.kernel.accessAllowed ? 'block' : 'none';\n",
              "    })();\n",
              "  </script>\n",
              "</div>\n",
              "\n",
              "    </div>\n",
              "  </div>\n"
            ],
            "application/vnd.google.colaboratory.intrinsic+json": {
              "type": "dataframe",
              "variable_name": "data"
            }
          },
          "metadata": {},
          "execution_count": 7
        }
      ]
    },
    {
      "cell_type": "code",
      "source": [
        "data.describe()"
      ],
      "metadata": {
        "colab": {
          "base_uri": "https://localhost:8080/",
          "height": 320
        },
        "id": "AP400A0eSZhR",
        "outputId": "c561338f-8c0b-4e41-ad15-1426ac7e1c54"
      },
      "execution_count": null,
      "outputs": [
        {
          "output_type": "execute_result",
          "data": {
            "text/plain": [
              "              age      shocks        fear     anxiety  physiological_symptoms  \\\n",
              "count  456.000000  472.000000  472.000000  472.000000              472.000000   \n",
              "mean    38.872807    2.824153    3.180085    3.364407                2.207627   \n",
              "std     14.358412    1.125279    1.124607    1.202723                1.195935   \n",
              "min     18.000000    1.000000    1.000000    1.000000                1.000000   \n",
              "25%     25.000000    2.000000    3.000000    3.000000                1.000000   \n",
              "50%     37.000000    3.000000    3.000000    4.000000                2.000000   \n",
              "75%     50.000000    4.000000    4.000000    4.000000                3.000000   \n",
              "max     90.000000    5.000000    5.000000    5.000000                5.000000   \n",
              "\n",
              "       decision_timeliness    insomnia  seismic_concern  radio_info  \\\n",
              "count           472.000000  472.000000       472.000000  472.000000   \n",
              "mean              2.830508    2.921610         3.580508    2.442797   \n",
              "std               1.117740    1.397677         1.166537    1.018362   \n",
              "min               1.000000    1.000000         1.000000    1.000000   \n",
              "25%               2.000000    2.000000         3.000000    2.000000   \n",
              "50%               3.000000    3.000000         4.000000    2.000000   \n",
              "75%               4.000000    4.000000         4.250000    3.000000   \n",
              "max               5.000000    5.000000         5.000000    5.000000   \n",
              "\n",
              "          TV_info  social_media_info  newspaper_info    app_info  \\\n",
              "count  472.000000         472.000000      472.000000  472.000000   \n",
              "mean     2.489407           2.936441        2.569915    3.201271   \n",
              "std      1.038481           1.109784        0.957364    1.048585   \n",
              "min      1.000000           1.000000        1.000000    1.000000   \n",
              "25%      2.000000           2.000000        2.000000    3.000000   \n",
              "50%      2.000000           3.000000        3.000000    3.000000   \n",
              "75%      3.000000           4.000000        3.000000    4.000000   \n",
              "max      5.000000           5.000000        5.000000    5.000000   \n",
              "\n",
              "       municipal_institutions_trust  regional_institutions_trust  \\\n",
              "count                    472.000000                   472.000000   \n",
              "mean                       2.099576                     2.154661   \n",
              "std                        0.921920                     0.957382   \n",
              "min                        1.000000                     1.000000   \n",
              "25%                        1.000000                     1.000000   \n",
              "50%                        2.000000                     2.000000   \n",
              "75%                        3.000000                     3.000000   \n",
              "max                        5.000000                     5.000000   \n",
              "\n",
              "       national_institutions_trust  INGV_trust    security  n_vehicles  \\\n",
              "count                   472.000000  472.000000  472.000000  472.000000   \n",
              "mean                      2.065678    3.506356    2.129237    1.506356   \n",
              "std                       0.936366    0.891075    0.885261    0.990379   \n",
              "min                       1.000000    1.000000    1.000000    0.000000   \n",
              "25%                       1.000000    3.000000    1.000000    1.000000   \n",
              "50%                       2.000000    3.500000    2.000000    1.000000   \n",
              "75%                       3.000000    4.000000    3.000000    2.000000   \n",
              "max                       5.000000    5.000000    5.000000    5.000000   \n",
              "\n",
              "       end_of_month  \n",
              "count    472.000000  \n",
              "mean       2.525424  \n",
              "std        1.036177  \n",
              "min        1.000000  \n",
              "25%        2.000000  \n",
              "50%        3.000000  \n",
              "75%        3.000000  \n",
              "max        5.000000  "
            ],
            "text/html": [
              "\n",
              "  <div id=\"df-d7c6059d-746a-497f-8667-fd7e53bafa37\" class=\"colab-df-container\">\n",
              "    <div>\n",
              "<style scoped>\n",
              "    .dataframe tbody tr th:only-of-type {\n",
              "        vertical-align: middle;\n",
              "    }\n",
              "\n",
              "    .dataframe tbody tr th {\n",
              "        vertical-align: top;\n",
              "    }\n",
              "\n",
              "    .dataframe thead th {\n",
              "        text-align: right;\n",
              "    }\n",
              "</style>\n",
              "<table border=\"1\" class=\"dataframe\">\n",
              "  <thead>\n",
              "    <tr style=\"text-align: right;\">\n",
              "      <th></th>\n",
              "      <th>age</th>\n",
              "      <th>shocks</th>\n",
              "      <th>fear</th>\n",
              "      <th>anxiety</th>\n",
              "      <th>physiological_symptoms</th>\n",
              "      <th>decision_timeliness</th>\n",
              "      <th>insomnia</th>\n",
              "      <th>seismic_concern</th>\n",
              "      <th>radio_info</th>\n",
              "      <th>TV_info</th>\n",
              "      <th>social_media_info</th>\n",
              "      <th>newspaper_info</th>\n",
              "      <th>app_info</th>\n",
              "      <th>municipal_institutions_trust</th>\n",
              "      <th>regional_institutions_trust</th>\n",
              "      <th>national_institutions_trust</th>\n",
              "      <th>INGV_trust</th>\n",
              "      <th>security</th>\n",
              "      <th>n_vehicles</th>\n",
              "      <th>end_of_month</th>\n",
              "    </tr>\n",
              "  </thead>\n",
              "  <tbody>\n",
              "    <tr>\n",
              "      <th>count</th>\n",
              "      <td>456.000000</td>\n",
              "      <td>472.000000</td>\n",
              "      <td>472.000000</td>\n",
              "      <td>472.000000</td>\n",
              "      <td>472.000000</td>\n",
              "      <td>472.000000</td>\n",
              "      <td>472.000000</td>\n",
              "      <td>472.000000</td>\n",
              "      <td>472.000000</td>\n",
              "      <td>472.000000</td>\n",
              "      <td>472.000000</td>\n",
              "      <td>472.000000</td>\n",
              "      <td>472.000000</td>\n",
              "      <td>472.000000</td>\n",
              "      <td>472.000000</td>\n",
              "      <td>472.000000</td>\n",
              "      <td>472.000000</td>\n",
              "      <td>472.000000</td>\n",
              "      <td>472.000000</td>\n",
              "      <td>472.000000</td>\n",
              "    </tr>\n",
              "    <tr>\n",
              "      <th>mean</th>\n",
              "      <td>38.872807</td>\n",
              "      <td>2.824153</td>\n",
              "      <td>3.180085</td>\n",
              "      <td>3.364407</td>\n",
              "      <td>2.207627</td>\n",
              "      <td>2.830508</td>\n",
              "      <td>2.921610</td>\n",
              "      <td>3.580508</td>\n",
              "      <td>2.442797</td>\n",
              "      <td>2.489407</td>\n",
              "      <td>2.936441</td>\n",
              "      <td>2.569915</td>\n",
              "      <td>3.201271</td>\n",
              "      <td>2.099576</td>\n",
              "      <td>2.154661</td>\n",
              "      <td>2.065678</td>\n",
              "      <td>3.506356</td>\n",
              "      <td>2.129237</td>\n",
              "      <td>1.506356</td>\n",
              "      <td>2.525424</td>\n",
              "    </tr>\n",
              "    <tr>\n",
              "      <th>std</th>\n",
              "      <td>14.358412</td>\n",
              "      <td>1.125279</td>\n",
              "      <td>1.124607</td>\n",
              "      <td>1.202723</td>\n",
              "      <td>1.195935</td>\n",
              "      <td>1.117740</td>\n",
              "      <td>1.397677</td>\n",
              "      <td>1.166537</td>\n",
              "      <td>1.018362</td>\n",
              "      <td>1.038481</td>\n",
              "      <td>1.109784</td>\n",
              "      <td>0.957364</td>\n",
              "      <td>1.048585</td>\n",
              "      <td>0.921920</td>\n",
              "      <td>0.957382</td>\n",
              "      <td>0.936366</td>\n",
              "      <td>0.891075</td>\n",
              "      <td>0.885261</td>\n",
              "      <td>0.990379</td>\n",
              "      <td>1.036177</td>\n",
              "    </tr>\n",
              "    <tr>\n",
              "      <th>min</th>\n",
              "      <td>18.000000</td>\n",
              "      <td>1.000000</td>\n",
              "      <td>1.000000</td>\n",
              "      <td>1.000000</td>\n",
              "      <td>1.000000</td>\n",
              "      <td>1.000000</td>\n",
              "      <td>1.000000</td>\n",
              "      <td>1.000000</td>\n",
              "      <td>1.000000</td>\n",
              "      <td>1.000000</td>\n",
              "      <td>1.000000</td>\n",
              "      <td>1.000000</td>\n",
              "      <td>1.000000</td>\n",
              "      <td>1.000000</td>\n",
              "      <td>1.000000</td>\n",
              "      <td>1.000000</td>\n",
              "      <td>1.000000</td>\n",
              "      <td>1.000000</td>\n",
              "      <td>0.000000</td>\n",
              "      <td>1.000000</td>\n",
              "    </tr>\n",
              "    <tr>\n",
              "      <th>25%</th>\n",
              "      <td>25.000000</td>\n",
              "      <td>2.000000</td>\n",
              "      <td>3.000000</td>\n",
              "      <td>3.000000</td>\n",
              "      <td>1.000000</td>\n",
              "      <td>2.000000</td>\n",
              "      <td>2.000000</td>\n",
              "      <td>3.000000</td>\n",
              "      <td>2.000000</td>\n",
              "      <td>2.000000</td>\n",
              "      <td>2.000000</td>\n",
              "      <td>2.000000</td>\n",
              "      <td>3.000000</td>\n",
              "      <td>1.000000</td>\n",
              "      <td>1.000000</td>\n",
              "      <td>1.000000</td>\n",
              "      <td>3.000000</td>\n",
              "      <td>1.000000</td>\n",
              "      <td>1.000000</td>\n",
              "      <td>2.000000</td>\n",
              "    </tr>\n",
              "    <tr>\n",
              "      <th>50%</th>\n",
              "      <td>37.000000</td>\n",
              "      <td>3.000000</td>\n",
              "      <td>3.000000</td>\n",
              "      <td>4.000000</td>\n",
              "      <td>2.000000</td>\n",
              "      <td>3.000000</td>\n",
              "      <td>3.000000</td>\n",
              "      <td>4.000000</td>\n",
              "      <td>2.000000</td>\n",
              "      <td>2.000000</td>\n",
              "      <td>3.000000</td>\n",
              "      <td>3.000000</td>\n",
              "      <td>3.000000</td>\n",
              "      <td>2.000000</td>\n",
              "      <td>2.000000</td>\n",
              "      <td>2.000000</td>\n",
              "      <td>3.500000</td>\n",
              "      <td>2.000000</td>\n",
              "      <td>1.000000</td>\n",
              "      <td>3.000000</td>\n",
              "    </tr>\n",
              "    <tr>\n",
              "      <th>75%</th>\n",
              "      <td>50.000000</td>\n",
              "      <td>4.000000</td>\n",
              "      <td>4.000000</td>\n",
              "      <td>4.000000</td>\n",
              "      <td>3.000000</td>\n",
              "      <td>4.000000</td>\n",
              "      <td>4.000000</td>\n",
              "      <td>4.250000</td>\n",
              "      <td>3.000000</td>\n",
              "      <td>3.000000</td>\n",
              "      <td>4.000000</td>\n",
              "      <td>3.000000</td>\n",
              "      <td>4.000000</td>\n",
              "      <td>3.000000</td>\n",
              "      <td>3.000000</td>\n",
              "      <td>3.000000</td>\n",
              "      <td>4.000000</td>\n",
              "      <td>3.000000</td>\n",
              "      <td>2.000000</td>\n",
              "      <td>3.000000</td>\n",
              "    </tr>\n",
              "    <tr>\n",
              "      <th>max</th>\n",
              "      <td>90.000000</td>\n",
              "      <td>5.000000</td>\n",
              "      <td>5.000000</td>\n",
              "      <td>5.000000</td>\n",
              "      <td>5.000000</td>\n",
              "      <td>5.000000</td>\n",
              "      <td>5.000000</td>\n",
              "      <td>5.000000</td>\n",
              "      <td>5.000000</td>\n",
              "      <td>5.000000</td>\n",
              "      <td>5.000000</td>\n",
              "      <td>5.000000</td>\n",
              "      <td>5.000000</td>\n",
              "      <td>5.000000</td>\n",
              "      <td>5.000000</td>\n",
              "      <td>5.000000</td>\n",
              "      <td>5.000000</td>\n",
              "      <td>5.000000</td>\n",
              "      <td>5.000000</td>\n",
              "      <td>5.000000</td>\n",
              "    </tr>\n",
              "  </tbody>\n",
              "</table>\n",
              "</div>\n",
              "    <div class=\"colab-df-buttons\">\n",
              "\n",
              "  <div class=\"colab-df-container\">\n",
              "    <button class=\"colab-df-convert\" onclick=\"convertToInteractive('df-d7c6059d-746a-497f-8667-fd7e53bafa37')\"\n",
              "            title=\"Convert this dataframe to an interactive table.\"\n",
              "            style=\"display:none;\">\n",
              "\n",
              "  <svg xmlns=\"http://www.w3.org/2000/svg\" height=\"24px\" viewBox=\"0 -960 960 960\">\n",
              "    <path d=\"M120-120v-720h720v720H120Zm60-500h600v-160H180v160Zm220 220h160v-160H400v160Zm0 220h160v-160H400v160ZM180-400h160v-160H180v160Zm440 0h160v-160H620v160ZM180-180h160v-160H180v160Zm440 0h160v-160H620v160Z\"/>\n",
              "  </svg>\n",
              "    </button>\n",
              "\n",
              "  <style>\n",
              "    .colab-df-container {\n",
              "      display:flex;\n",
              "      gap: 12px;\n",
              "    }\n",
              "\n",
              "    .colab-df-convert {\n",
              "      background-color: #E8F0FE;\n",
              "      border: none;\n",
              "      border-radius: 50%;\n",
              "      cursor: pointer;\n",
              "      display: none;\n",
              "      fill: #1967D2;\n",
              "      height: 32px;\n",
              "      padding: 0 0 0 0;\n",
              "      width: 32px;\n",
              "    }\n",
              "\n",
              "    .colab-df-convert:hover {\n",
              "      background-color: #E2EBFA;\n",
              "      box-shadow: 0px 1px 2px rgba(60, 64, 67, 0.3), 0px 1px 3px 1px rgba(60, 64, 67, 0.15);\n",
              "      fill: #174EA6;\n",
              "    }\n",
              "\n",
              "    .colab-df-buttons div {\n",
              "      margin-bottom: 4px;\n",
              "    }\n",
              "\n",
              "    [theme=dark] .colab-df-convert {\n",
              "      background-color: #3B4455;\n",
              "      fill: #D2E3FC;\n",
              "    }\n",
              "\n",
              "    [theme=dark] .colab-df-convert:hover {\n",
              "      background-color: #434B5C;\n",
              "      box-shadow: 0px 1px 3px 1px rgba(0, 0, 0, 0.15);\n",
              "      filter: drop-shadow(0px 1px 2px rgba(0, 0, 0, 0.3));\n",
              "      fill: #FFFFFF;\n",
              "    }\n",
              "  </style>\n",
              "\n",
              "    <script>\n",
              "      const buttonEl =\n",
              "        document.querySelector('#df-d7c6059d-746a-497f-8667-fd7e53bafa37 button.colab-df-convert');\n",
              "      buttonEl.style.display =\n",
              "        google.colab.kernel.accessAllowed ? 'block' : 'none';\n",
              "\n",
              "      async function convertToInteractive(key) {\n",
              "        const element = document.querySelector('#df-d7c6059d-746a-497f-8667-fd7e53bafa37');\n",
              "        const dataTable =\n",
              "          await google.colab.kernel.invokeFunction('convertToInteractive',\n",
              "                                                    [key], {});\n",
              "        if (!dataTable) return;\n",
              "\n",
              "        const docLinkHtml = 'Like what you see? Visit the ' +\n",
              "          '<a target=\"_blank\" href=https://colab.research.google.com/notebooks/data_table.ipynb>data table notebook</a>'\n",
              "          + ' to learn more about interactive tables.';\n",
              "        element.innerHTML = '';\n",
              "        dataTable['output_type'] = 'display_data';\n",
              "        await google.colab.output.renderOutput(dataTable, element);\n",
              "        const docLink = document.createElement('div');\n",
              "        docLink.innerHTML = docLinkHtml;\n",
              "        element.appendChild(docLink);\n",
              "      }\n",
              "    </script>\n",
              "  </div>\n",
              "\n",
              "\n",
              "<div id=\"df-222ba8eb-e673-44f4-98ce-2dbef82dae59\">\n",
              "  <button class=\"colab-df-quickchart\" onclick=\"quickchart('df-222ba8eb-e673-44f4-98ce-2dbef82dae59')\"\n",
              "            title=\"Suggest charts\"\n",
              "            style=\"display:none;\">\n",
              "\n",
              "<svg xmlns=\"http://www.w3.org/2000/svg\" height=\"24px\"viewBox=\"0 0 24 24\"\n",
              "     width=\"24px\">\n",
              "    <g>\n",
              "        <path d=\"M19 3H5c-1.1 0-2 .9-2 2v14c0 1.1.9 2 2 2h14c1.1 0 2-.9 2-2V5c0-1.1-.9-2-2-2zM9 17H7v-7h2v7zm4 0h-2V7h2v10zm4 0h-2v-4h2v4z\"/>\n",
              "    </g>\n",
              "</svg>\n",
              "  </button>\n",
              "\n",
              "<style>\n",
              "  .colab-df-quickchart {\n",
              "      --bg-color: #E8F0FE;\n",
              "      --fill-color: #1967D2;\n",
              "      --hover-bg-color: #E2EBFA;\n",
              "      --hover-fill-color: #174EA6;\n",
              "      --disabled-fill-color: #AAA;\n",
              "      --disabled-bg-color: #DDD;\n",
              "  }\n",
              "\n",
              "  [theme=dark] .colab-df-quickchart {\n",
              "      --bg-color: #3B4455;\n",
              "      --fill-color: #D2E3FC;\n",
              "      --hover-bg-color: #434B5C;\n",
              "      --hover-fill-color: #FFFFFF;\n",
              "      --disabled-bg-color: #3B4455;\n",
              "      --disabled-fill-color: #666;\n",
              "  }\n",
              "\n",
              "  .colab-df-quickchart {\n",
              "    background-color: var(--bg-color);\n",
              "    border: none;\n",
              "    border-radius: 50%;\n",
              "    cursor: pointer;\n",
              "    display: none;\n",
              "    fill: var(--fill-color);\n",
              "    height: 32px;\n",
              "    padding: 0;\n",
              "    width: 32px;\n",
              "  }\n",
              "\n",
              "  .colab-df-quickchart:hover {\n",
              "    background-color: var(--hover-bg-color);\n",
              "    box-shadow: 0 1px 2px rgba(60, 64, 67, 0.3), 0 1px 3px 1px rgba(60, 64, 67, 0.15);\n",
              "    fill: var(--button-hover-fill-color);\n",
              "  }\n",
              "\n",
              "  .colab-df-quickchart-complete:disabled,\n",
              "  .colab-df-quickchart-complete:disabled:hover {\n",
              "    background-color: var(--disabled-bg-color);\n",
              "    fill: var(--disabled-fill-color);\n",
              "    box-shadow: none;\n",
              "  }\n",
              "\n",
              "  .colab-df-spinner {\n",
              "    border: 2px solid var(--fill-color);\n",
              "    border-color: transparent;\n",
              "    border-bottom-color: var(--fill-color);\n",
              "    animation:\n",
              "      spin 1s steps(1) infinite;\n",
              "  }\n",
              "\n",
              "  @keyframes spin {\n",
              "    0% {\n",
              "      border-color: transparent;\n",
              "      border-bottom-color: var(--fill-color);\n",
              "      border-left-color: var(--fill-color);\n",
              "    }\n",
              "    20% {\n",
              "      border-color: transparent;\n",
              "      border-left-color: var(--fill-color);\n",
              "      border-top-color: var(--fill-color);\n",
              "    }\n",
              "    30% {\n",
              "      border-color: transparent;\n",
              "      border-left-color: var(--fill-color);\n",
              "      border-top-color: var(--fill-color);\n",
              "      border-right-color: var(--fill-color);\n",
              "    }\n",
              "    40% {\n",
              "      border-color: transparent;\n",
              "      border-right-color: var(--fill-color);\n",
              "      border-top-color: var(--fill-color);\n",
              "    }\n",
              "    60% {\n",
              "      border-color: transparent;\n",
              "      border-right-color: var(--fill-color);\n",
              "    }\n",
              "    80% {\n",
              "      border-color: transparent;\n",
              "      border-right-color: var(--fill-color);\n",
              "      border-bottom-color: var(--fill-color);\n",
              "    }\n",
              "    90% {\n",
              "      border-color: transparent;\n",
              "      border-bottom-color: var(--fill-color);\n",
              "    }\n",
              "  }\n",
              "</style>\n",
              "\n",
              "  <script>\n",
              "    async function quickchart(key) {\n",
              "      const quickchartButtonEl =\n",
              "        document.querySelector('#' + key + ' button');\n",
              "      quickchartButtonEl.disabled = true;  // To prevent multiple clicks.\n",
              "      quickchartButtonEl.classList.add('colab-df-spinner');\n",
              "      try {\n",
              "        const charts = await google.colab.kernel.invokeFunction(\n",
              "            'suggestCharts', [key], {});\n",
              "      } catch (error) {\n",
              "        console.error('Error during call to suggestCharts:', error);\n",
              "      }\n",
              "      quickchartButtonEl.classList.remove('colab-df-spinner');\n",
              "      quickchartButtonEl.classList.add('colab-df-quickchart-complete');\n",
              "    }\n",
              "    (() => {\n",
              "      let quickchartButtonEl =\n",
              "        document.querySelector('#df-222ba8eb-e673-44f4-98ce-2dbef82dae59 button');\n",
              "      quickchartButtonEl.style.display =\n",
              "        google.colab.kernel.accessAllowed ? 'block' : 'none';\n",
              "    })();\n",
              "  </script>\n",
              "</div>\n",
              "\n",
              "    </div>\n",
              "  </div>\n"
            ],
            "application/vnd.google.colaboratory.intrinsic+json": {
              "type": "dataframe",
              "summary": "{\n  \"name\": \"data\",\n  \"rows\": 8,\n  \"fields\": [\n    {\n      \"column\": \"age\",\n      \"properties\": {\n        \"dtype\": \"number\",\n        \"std\": 149.33136103166436,\n        \"min\": 14.358412383312764,\n        \"max\": 456.0,\n        \"num_unique_values\": 8,\n        \"samples\": [\n          38.87280701754386,\n          37.0,\n          456.0\n        ],\n        \"semantic_type\": \"\",\n        \"description\": \"\"\n      }\n    },\n    {\n      \"column\": \"shocks\",\n      \"properties\": {\n        \"dtype\": \"number\",\n        \"std\": 165.9256822008746,\n        \"min\": 1.0,\n        \"max\": 472.0,\n        \"num_unique_values\": 8,\n        \"samples\": [\n          2.8241525423728815,\n          3.0,\n          472.0\n        ],\n        \"semantic_type\": \"\",\n        \"description\": \"\"\n      }\n    },\n    {\n      \"column\": \"fear\",\n      \"properties\": {\n        \"dtype\": \"number\",\n        \"std\": 165.85703353441502,\n        \"min\": 1.0,\n        \"max\": 472.0,\n        \"num_unique_values\": 7,\n        \"samples\": [\n          472.0,\n          3.180084745762712,\n          4.0\n        ],\n        \"semantic_type\": \"\",\n        \"description\": \"\"\n      }\n    },\n    {\n      \"column\": \"anxiety\",\n      \"properties\": {\n        \"dtype\": \"number\",\n        \"std\": 165.7936332468568,\n        \"min\": 1.0,\n        \"max\": 472.0,\n        \"num_unique_values\": 7,\n        \"samples\": [\n          472.0,\n          3.364406779661017,\n          4.0\n        ],\n        \"semantic_type\": \"\",\n        \"description\": \"\"\n      }\n    },\n    {\n      \"column\": \"physiological_symptoms\",\n      \"properties\": {\n        \"dtype\": \"number\",\n        \"std\": 166.1045388774033,\n        \"min\": 1.0,\n        \"max\": 472.0,\n        \"num_unique_values\": 7,\n        \"samples\": [\n          472.0,\n          2.207627118644068,\n          3.0\n        ],\n        \"semantic_type\": \"\",\n        \"description\": \"\"\n      }\n    },\n    {\n      \"column\": \"decision_timeliness\",\n      \"properties\": {\n        \"dtype\": \"number\",\n        \"std\": 165.925752868925,\n        \"min\": 1.0,\n        \"max\": 472.0,\n        \"num_unique_values\": 8,\n        \"samples\": [\n          2.830508474576271,\n          3.0,\n          472.0\n        ],\n        \"semantic_type\": \"\",\n        \"description\": \"\"\n      }\n    },\n    {\n      \"column\": \"insomnia\",\n      \"properties\": {\n        \"dtype\": \"number\",\n        \"std\": 165.90666868907562,\n        \"min\": 1.0,\n        \"max\": 472.0,\n        \"num_unique_values\": 8,\n        \"samples\": [\n          2.9216101694915255,\n          3.0,\n          472.0\n        ],\n        \"semantic_type\": \"\",\n        \"description\": \"\"\n      }\n    },\n    {\n      \"column\": \"seismic_concern\",\n      \"properties\": {\n        \"dtype\": \"number\",\n        \"std\": 165.772265580528,\n        \"min\": 1.0,\n        \"max\": 472.0,\n        \"num_unique_values\": 8,\n        \"samples\": [\n          3.580508474576271,\n          4.0,\n          472.0\n        ],\n        \"semantic_type\": \"\",\n        \"description\": \"\"\n      }\n    },\n    {\n      \"column\": \"radio_info\",\n      \"properties\": {\n        \"dtype\": \"number\",\n        \"std\": 166.05064477874552,\n        \"min\": 1.0,\n        \"max\": 472.0,\n        \"num_unique_values\": 7,\n        \"samples\": [\n          472.0,\n          2.4427966101694913,\n          3.0\n        ],\n        \"semantic_type\": \"\",\n        \"description\": \"\"\n      }\n    },\n    {\n      \"column\": \"TV_info\",\n      \"properties\": {\n        \"dtype\": \"number\",\n        \"std\": 166.04725591897804,\n        \"min\": 1.0,\n        \"max\": 472.0,\n        \"num_unique_values\": 7,\n        \"samples\": [\n          472.0,\n          2.489406779661017,\n          3.0\n        ],\n        \"semantic_type\": \"\",\n        \"description\": \"\"\n      }\n    },\n    {\n      \"column\": \"social_media_info\",\n      \"properties\": {\n        \"dtype\": \"number\",\n        \"std\": 165.9208309334706,\n        \"min\": 1.0,\n        \"max\": 472.0,\n        \"num_unique_values\": 8,\n        \"samples\": [\n          2.9364406779661016,\n          3.0,\n          472.0\n        ],\n        \"semantic_type\": \"\",\n        \"description\": \"\"\n      }\n    },\n    {\n      \"column\": \"newspaper_info\",\n      \"properties\": {\n        \"dtype\": \"number\",\n        \"std\": 165.99694549988308,\n        \"min\": 0.9573636799737307,\n        \"max\": 472.0,\n        \"num_unique_values\": 7,\n        \"samples\": [\n          472.0,\n          2.569915254237288,\n          3.0\n        ],\n        \"semantic_type\": \"\",\n        \"description\": \"\"\n      }\n    },\n    {\n      \"column\": \"app_info\",\n      \"properties\": {\n        \"dtype\": \"number\",\n        \"std\": 165.8599269210804,\n        \"min\": 1.0,\n        \"max\": 472.0,\n        \"num_unique_values\": 7,\n        \"samples\": [\n          472.0,\n          3.2012711864406778,\n          4.0\n        ],\n        \"semantic_type\": \"\",\n        \"description\": \"\"\n      }\n    },\n    {\n      \"column\": \"municipal_institutions_trust\",\n      \"properties\": {\n        \"dtype\": \"number\",\n        \"std\": 166.12409989079055,\n        \"min\": 0.9219198044326712,\n        \"max\": 472.0,\n        \"num_unique_values\": 7,\n        \"samples\": [\n          472.0,\n          2.0995762711864407,\n          3.0\n        ],\n        \"semantic_type\": \"\",\n        \"description\": \"\"\n      }\n    },\n    {\n      \"column\": \"regional_institutions_trust\",\n      \"properties\": {\n        \"dtype\": \"number\",\n        \"std\": 166.11948852776294,\n        \"min\": 0.9573824738288859,\n        \"max\": 472.0,\n        \"num_unique_values\": 7,\n        \"samples\": [\n          472.0,\n          2.1546610169491527,\n          3.0\n        ],\n        \"semantic_type\": \"\",\n        \"description\": \"\"\n      }\n    },\n    {\n      \"column\": \"national_institutions_trust\",\n      \"properties\": {\n        \"dtype\": \"number\",\n        \"std\": 166.12506904382465,\n        \"min\": 0.9363659970133118,\n        \"max\": 472.0,\n        \"num_unique_values\": 7,\n        \"samples\": [\n          472.0,\n          2.065677966101695,\n          3.0\n        ],\n        \"semantic_type\": \"\",\n        \"description\": \"\"\n      }\n    },\n    {\n      \"column\": \"INGV_trust\",\n      \"properties\": {\n        \"dtype\": \"number\",\n        \"std\": 165.8277306918577,\n        \"min\": 0.8910750350301069,\n        \"max\": 472.0,\n        \"num_unique_values\": 8,\n        \"samples\": [\n          3.5063559322033897,\n          3.5,\n          472.0\n        ],\n        \"semantic_type\": \"\",\n        \"description\": \"\"\n      }\n    },\n    {\n      \"column\": \"security\",\n      \"properties\": {\n        \"dtype\": \"number\",\n        \"std\": 166.12449168174015,\n        \"min\": 0.8852609166207663,\n        \"max\": 472.0,\n        \"num_unique_values\": 7,\n        \"samples\": [\n          472.0,\n          2.1292372881355934,\n          3.0\n        ],\n        \"semantic_type\": \"\",\n        \"description\": \"\"\n      }\n    },\n    {\n      \"column\": \"n_vehicles\",\n      \"properties\": {\n        \"dtype\": \"number\",\n        \"std\": 166.30312828091598,\n        \"min\": 0.0,\n        \"max\": 472.0,\n        \"num_unique_values\": 7,\n        \"samples\": [\n          472.0,\n          1.50635593220339,\n          2.0\n        ],\n        \"semantic_type\": \"\",\n        \"description\": \"\"\n      }\n    },\n    {\n      \"column\": \"end_of_month\",\n      \"properties\": {\n        \"dtype\": \"number\",\n        \"std\": 165.9951080799499,\n        \"min\": 1.0,\n        \"max\": 472.0,\n        \"num_unique_values\": 7,\n        \"samples\": [\n          472.0,\n          2.5254237288135593,\n          3.0\n        ],\n        \"semantic_type\": \"\",\n        \"description\": \"\"\n      }\n    }\n  ]\n}"
            }
          },
          "metadata": {},
          "execution_count": 8
        }
      ]
    },
    {
      "cell_type": "markdown",
      "source": [
        "Our dataset includes few characteristic which described level of trust like: radio_info... till security column.  "
      ],
      "metadata": {
        "id": "1H1zNqyjUpLN"
      }
    },
    {
      "cell_type": "code",
      "source": [
        "fig, ax = plt.subplots(figsize = (12,6))\n",
        "\n",
        "ax.boxplot([data['radio_info'].dropna(),\n",
        "            data['TV_info'].dropna(),\n",
        "            data['social_media_info'].dropna(),\n",
        "            data['newspaper_info'].dropna(),\n",
        "            data['app_info'].dropna(),\n",
        "            data['municipal_institutions_trust'].dropna(),\n",
        "            data['regional_institutions_trust'].dropna(),\n",
        "            data['national_institutions_trust'].dropna(),\n",
        "            data['INGV_trust'].dropna(),\n",
        "            data['security'].dropna()\n",
        "            ])\n",
        "ax.set_xticklabels([\"radio_info\", \"TV_info\", \"social_media_info\", \"newspaper_info\", \"app_info\",\"municipal_institutions_trust\",\n",
        "                    \"regional_institutions_trus\", \"national_institutions_trust\", \"INGV_trust\", \"security\"])\n",
        "\n",
        "plt.xticks(rotation=80)\n",
        "plt.title(\"Distribuiton of level of trust for each characteristic\")\n",
        "plt.show()\n",
        "#ax.set_ylabel(\"Siła wiatru\")\n",
        "#ax.set_title('Rozkład siły wiatru w zależności od kategorii pogody')\n",
        "\n",
        "plt.show()"
      ],
      "metadata": {
        "colab": {
          "base_uri": "https://localhost:8080/",
          "height": 722
        },
        "id": "m8_cRvb9Ygr4",
        "outputId": "1b24fd09-c6f8-4fa7-ce6e-54bf1b06e166"
      },
      "execution_count": null,
      "outputs": [
        {
          "output_type": "display_data",
          "data": {
            "text/plain": [
              "<Figure size 1200x600 with 1 Axes>"
            ],
            "image/png": "[encoded data removed]"
          },
          "metadata": {}
        }
      ]
    },
    {
      "cell_type": "markdown",
      "source": [
        "Based on above chart we can see that the highest median of trust is in INGV_trust which is \"Level of trust in the National Institute of Geophysics and Volcanology (INGV)\""
      ],
      "metadata": {
        "id": "aRjaYAcAFepJ"
      }
    },
    {
      "cell_type": "code",
      "source": [
        "fig, axs = plt.subplots(2, 2, figsize=(12, 10))\n",
        "\n",
        "sns.kdeplot(data=data, x='age', fill=False, hue = 'sex', ax=axs[0, 0])\n",
        "sns.kdeplot(data=data, x='age', fill=False, hue = 'marital_status', ax=axs[0, 1])\n",
        "sns.kdeplot(data=data, x='age', fill=False, hue = 'education', ax=axs[1, 0])\n",
        "sns.kdeplot(data=data, x='age', fill=False, hue = 'occupation', ax=axs[1, 1])\n",
        "#plt.xlabel('Temperatura [$^\\circ$C]')\n",
        "#plt.title('Rozkład zmiennej temp_max')"
      ],
      "metadata": {
        "colab": {
          "base_uri": "https://localhost:8080/",
          "height": 867
        },
        "id": "c2PlC3Eyv9ru",
        "outputId": "51339191-1db1-4975-fc62-65bc58a6fe88"
      },
      "execution_count": null,
      "outputs": [
        {
          "output_type": "execute_result",
          "data": {
            "text/plain": [
              "<Axes: xlabel='age', ylabel='Density'>"
            ]
          },
          "metadata": {},
          "execution_count": 10
        },
        {
          "output_type": "display_data",
          "data": {
            "text/plain": [
              "<Figure size 1200x1000 with 4 Axes>"
            ],
            "image/png": "[encoded data removed]"
          },
          "metadata": {}
        }
      ]
    },
    {
      "cell_type": "markdown",
      "source": [
        "## Filling empty  values"
      ],
      "metadata": {
        "id": "9PILhGiAnu4Y"
      }
    },
    {
      "cell_type": "markdown",
      "source": [
        "We will fulfill empty data for columns (below are names with number of missing values):\n",
        "\n",
        " - political_orientation             270 -> based on fancy imputer\n",
        " - salary                            168 -> based on random choice\n",
        " - vehicle_type                       63 -> based on random choice imputig\n",
        " - age                                16 -> repplacing by mode/  tutaj lepiej zastąpić **medianą**\n",
        " - family_disabilities                 8 -> replaced by most occuring value\n",
        " - residence                           4 -> replacing by mode\n",
        " - sex                                 2 -> replacing by mode"
      ],
      "metadata": {
        "id": "s192BMtTGjfe"
      }
    },
    {
      "cell_type": "code",
      "source": [
        "data.groupby('salary')['salary'].count()"
      ],
      "metadata": {
        "colab": {
          "base_uri": "https://localhost:8080/"
        },
        "id": "0ui0LWgRjho2",
        "outputId": "b0e1b829-278d-4603-b080-9f0339bb1e60"
      },
      "execution_count": 8,
      "outputs": [
        {
          "output_type": "execute_result",
          "data": {
            "text/plain": [
              "salary\n",
              "Between €15000 and €28000    104\n",
              "Between €28000 and €50000     59\n",
              "Over €50000                   14\n",
              "Up to €15000                 127\n",
              "Name: salary, dtype: int64"
            ]
          },
          "metadata": {},
          "execution_count": 8
        }
      ]
    },
    {
      "cell_type": "code",
      "source": [
        "data.groupby('political_orientation')['political_orientation'].count()"
      ],
      "metadata": {
        "colab": {
          "base_uri": "https://localhost:8080/"
        },
        "id": "JPNUng8KkXfm",
        "outputId": "fcbecfac-0d95-4f12-fa31-0e73580eced2"
      },
      "execution_count": 9,
      "outputs": [
        {
          "output_type": "execute_result",
          "data": {
            "text/plain": [
              "political_orientation\n",
              "Center     25\n",
              "Left      148\n",
              "Right      29\n",
              "Name: political_orientation, dtype: int64"
            ]
          },
          "metadata": {},
          "execution_count": 9
        }
      ]
    },
    {
      "cell_type": "code",
      "source": [
        "data[data['sex'].isna()]"
      ],
      "metadata": {
        "colab": {
          "base_uri": "https://localhost:8080/",
          "height": 167
        },
        "id": "_pMLkwuQresT",
        "outputId": "58111ad5-9440-405c-8bb4-92a60f599458"
      },
      "execution_count": 10,
      "outputs": [
        {
          "output_type": "execute_result",
          "data": {
            "text/plain": [
              "      age  sex marital_status residence education occupation  \\\n",
              "87   59.0  NaN        Married    Napoli    Degree   Employee   \n",
              "344  63.0  NaN        Married   Saviano    Degree   Employee   \n",
              "\n",
              "    out_of_region_employment family_members family_disabilities house_floor  \\\n",
              "87                        No              5                  No           5   \n",
              "344                       No              2                  No           1   \n",
              "\n",
              "    earthquake80 political_orientation  shocks  fear  anxiety  \\\n",
              "87            No                   NaN       3     3        3   \n",
              "344          Yes                 Right       1     3        2   \n",
              "\n",
              "     physiological_symptoms  decision_timeliness  insomnia  seismic_concern  \\\n",
              "87                        2                    2         4                3   \n",
              "344                       2                    4         3                2   \n",
              "\n",
              "    abroad out_of_region out_of_region_earthquake change_of_residence  \\\n",
              "87     Yes           Yes                       No                 Yes   \n",
              "344    Yes            No                       No                 Yes   \n",
              "\n",
              "    change_of_residence_earthquake red_zone_frequency  radio_info  TV_info  \\\n",
              "87                              No                 No           3        3   \n",
              "344                             No                 No           3        3   \n",
              "\n",
              "     social_media_info  newspaper_info  app_info  \\\n",
              "87                   2               3         4   \n",
              "344                  3               3         3   \n",
              "\n",
              "     municipal_institutions_trust  regional_institutions_trust  \\\n",
              "87                              2                            1   \n",
              "344                             2                            1   \n",
              "\n",
              "     national_institutions_trust  INGV_trust  security reception_centers  \\\n",
              "87                             1           3         2               Yes   \n",
              "344                            3           5         1               Yes   \n",
              "\n",
              "    property_house       housing_type elevator  n_vehicles  \\\n",
              "87             Yes          Apartment      Yes           4   \n",
              "344            Yes  Villa/Small Villa       No           2   \n",
              "\n",
              "           vehicle_type  end_of_month salary  \n",
              "87   Car and Motorcycle             3    NaN  \n",
              "344                 Car             2    NaN  "
            ],
            "text/html": [
              "\n",
              "  <div id=\"df-e8b173d2-9a28-437e-a7b6-18bd278957ce\" class=\"colab-df-container\">\n",
              "    <div>\n",
              "<style scoped>\n",
              "    .dataframe tbody tr th:only-of-type {\n",
              "        vertical-align: middle;\n",
              "    }\n",
              "\n",
              "    .dataframe tbody tr th {\n",
              "        vertical-align: top;\n",
              "    }\n",
              "\n",
              "    .dataframe thead th {\n",
              "        text-align: right;\n",
              "    }\n",
              "</style>\n",
              "<table border=\"1\" class=\"dataframe\">\n",
              "  <thead>\n",
              "    <tr style=\"text-align: right;\">\n",
              "      <th></th>\n",
              "      <th>age</th>\n",
              "      <th>sex</th>\n",
              "      <th>marital_status</th>\n",
              "      <th>residence</th>\n",
              "      <th>education</th>\n",
              "      <th>occupation</th>\n",
              "      <th>out_of_region_employment</th>\n",
              "      <th>family_members</th>\n",
              "      <th>family_disabilities</th>\n",
              "      <th>house_floor</th>\n",
              "      <th>earthquake80</th>\n",
              "      <th>political_orientation</th>\n",
              "      <th>shocks</th>\n",
              "      <th>fear</th>\n",
              "      <th>anxiety</th>\n",
              "      <th>physiological_symptoms</th>\n",
              "      <th>decision_timeliness</th>\n",
              "      <th>insomnia</th>\n",
              "      <th>seismic_concern</th>\n",
              "      <th>abroad</th>\n",
              "      <th>out_of_region</th>\n",
              "      <th>out_of_region_earthquake</th>\n",
              "      <th>change_of_residence</th>\n",
              "      <th>change_of_residence_earthquake</th>\n",
              "      <th>red_zone_frequency</th>\n",
              "      <th>radio_info</th>\n",
              "      <th>TV_info</th>\n",
              "      <th>social_media_info</th>\n",
              "      <th>newspaper_info</th>\n",
              "      <th>app_info</th>\n",
              "      <th>municipal_institutions_trust</th>\n",
              "      <th>regional_institutions_trust</th>\n",
              "      <th>national_institutions_trust</th>\n",
              "      <th>INGV_trust</th>\n",
              "      <th>security</th>\n",
              "      <th>reception_centers</th>\n",
              "      <th>property_house</th>\n",
              "      <th>housing_type</th>\n",
              "      <th>elevator</th>\n",
              "      <th>n_vehicles</th>\n",
              "      <th>vehicle_type</th>\n",
              "      <th>end_of_month</th>\n",
              "      <th>salary</th>\n",
              "    </tr>\n",
              "  </thead>\n",
              "  <tbody>\n",
              "    <tr>\n",
              "      <th>87</th>\n",
              "      <td>59.0</td>\n",
              "      <td>NaN</td>\n",
              "      <td>Married</td>\n",
              "      <td>Napoli</td>\n",
              "      <td>Degree</td>\n",
              "      <td>Employee</td>\n",
              "      <td>No</td>\n",
              "      <td>5</td>\n",
              "      <td>No</td>\n",
              "      <td>5</td>\n",
              "      <td>No</td>\n",
              "      <td>NaN</td>\n",
              "      <td>3</td>\n",
              "      <td>3</td>\n",
              "      <td>3</td>\n",
              "      <td>2</td>\n",
              "      <td>2</td>\n",
              "      <td>4</td>\n",
              "      <td>3</td>\n",
              "      <td>Yes</td>\n",
              "      <td>Yes</td>\n",
              "      <td>No</td>\n",
              "      <td>Yes</td>\n",
              "      <td>No</td>\n",
              "      <td>No</td>\n",
              "      <td>3</td>\n",
              "      <td>3</td>\n",
              "      <td>2</td>\n",
              "      <td>3</td>\n",
              "      <td>4</td>\n",
              "      <td>2</td>\n",
              "      <td>1</td>\n",
              "      <td>1</td>\n",
              "      <td>3</td>\n",
              "      <td>2</td>\n",
              "      <td>Yes</td>\n",
              "      <td>Yes</td>\n",
              "      <td>Apartment</td>\n",
              "      <td>Yes</td>\n",
              "      <td>4</td>\n",
              "      <td>Car and Motorcycle</td>\n",
              "      <td>3</td>\n",
              "      <td>NaN</td>\n",
              "    </tr>\n",
              "    <tr>\n",
              "      <th>344</th>\n",
              "      <td>63.0</td>\n",
              "      <td>NaN</td>\n",
              "      <td>Married</td>\n",
              "      <td>Saviano</td>\n",
              "      <td>Degree</td>\n",
              "      <td>Employee</td>\n",
              "      <td>No</td>\n",
              "      <td>2</td>\n",
              "      <td>No</td>\n",
              "      <td>1</td>\n",
              "      <td>Yes</td>\n",
              "      <td>Right</td>\n",
              "      <td>1</td>\n",
              "      <td>3</td>\n",
              "      <td>2</td>\n",
              "      <td>2</td>\n",
              "      <td>4</td>\n",
              "      <td>3</td>\n",
              "      <td>2</td>\n",
              "      <td>Yes</td>\n",
              "      <td>No</td>\n",
              "      <td>No</td>\n",
              "      <td>Yes</td>\n",
              "      <td>No</td>\n",
              "      <td>No</td>\n",
              "      <td>3</td>\n",
              "      <td>3</td>\n",
              "      <td>3</td>\n",
              "      <td>3</td>\n",
              "      <td>3</td>\n",
              "      <td>2</td>\n",
              "      <td>1</td>\n",
              "      <td>3</td>\n",
              "      <td>5</td>\n",
              "      <td>1</td>\n",
              "      <td>Yes</td>\n",
              "      <td>Yes</td>\n",
              "      <td>Villa/Small Villa</td>\n",
              "      <td>No</td>\n",
              "      <td>2</td>\n",
              "      <td>Car</td>\n",
              "      <td>2</td>\n",
              "      <td>NaN</td>\n",
              "    </tr>\n",
              "  </tbody>\n",
              "</table>\n",
              "</div>\n",
              "    <div class=\"colab-df-buttons\">\n",
              "\n",
              "  <div class=\"colab-df-container\">\n",
              "    <button class=\"colab-df-convert\" onclick=\"convertToInteractive('df-e8b173d2-9a28-437e-a7b6-18bd278957ce')\"\n",
              "            title=\"Convert this dataframe to an interactive table.\"\n",
              "            style=\"display:none;\">\n",
              "\n",
              "  <svg xmlns=\"http://www.w3.org/2000/svg\" height=\"24px\" viewBox=\"0 -960 960 960\">\n",
              "    <path d=\"M120-120v-720h720v720H120Zm60-500h600v-160H180v160Zm220 220h160v-160H400v160Zm0 220h160v-160H400v160ZM180-400h160v-160H180v160Zm440 0h160v-160H620v160ZM180-180h160v-160H180v160Zm440 0h160v-160H620v160Z\"/>\n",
              "  </svg>\n",
              "    </button>\n",
              "\n",
              "  <style>\n",
              "    .colab-df-container {\n",
              "      display:flex;\n",
              "      gap: 12px;\n",
              "    }\n",
              "\n",
              "    .colab-df-convert {\n",
              "      background-color: #E8F0FE;\n",
              "      border: none;\n",
              "      border-radius: 50%;\n",
              "      cursor: pointer;\n",
              "      display: none;\n",
              "      fill: #1967D2;\n",
              "      height: 32px;\n",
              "      padding: 0 0 0 0;\n",
              "      width: 32px;\n",
              "    }\n",
              "\n",
              "    .colab-df-convert:hover {\n",
              "      background-color: #E2EBFA;\n",
              "      box-shadow: 0px 1px 2px rgba(60, 64, 67, 0.3), 0px 1px 3px 1px rgba(60, 64, 67, 0.15);\n",
              "      fill: #174EA6;\n",
              "    }\n",
              "\n",
              "    .colab-df-buttons div {\n",
              "      margin-bottom: 4px;\n",
              "    }\n",
              "\n",
              "    [theme=dark] .colab-df-convert {\n",
              "      background-color: #3B4455;\n",
              "      fill: #D2E3FC;\n",
              "    }\n",
              "\n",
              "    [theme=dark] .colab-df-convert:hover {\n",
              "      background-color: #434B5C;\n",
              "      box-shadow: 0px 1px 3px 1px rgba(0, 0, 0, 0.15);\n",
              "      filter: drop-shadow(0px 1px 2px rgba(0, 0, 0, 0.3));\n",
              "      fill: #FFFFFF;\n",
              "    }\n",
              "  </style>\n",
              "\n",
              "    <script>\n",
              "      const buttonEl =\n",
              "        document.querySelector('#df-e8b173d2-9a28-437e-a7b6-18bd278957ce button.colab-df-convert');\n",
              "      buttonEl.style.display =\n",
              "        google.colab.kernel.accessAllowed ? 'block' : 'none';\n",
              "\n",
              "      async function convertToInteractive(key) {\n",
              "        const element = document.querySelector('#df-e8b173d2-9a28-437e-a7b6-18bd278957ce');\n",
              "        const dataTable =\n",
              "          await google.colab.kernel.invokeFunction('convertToInteractive',\n",
              "                                                    [key], {});\n",
              "        if (!dataTable) return;\n",
              "\n",
              "        const docLinkHtml = 'Like what you see? Visit the ' +\n",
              "          '<a target=\"_blank\" href=https://colab.research.google.com/notebooks/data_table.ipynb>data table notebook</a>'\n",
              "          + ' to learn more about interactive tables.';\n",
              "        element.innerHTML = '';\n",
              "        dataTable['output_type'] = 'display_data';\n",
              "        await google.colab.output.renderOutput(dataTable, element);\n",
              "        const docLink = document.createElement('div');\n",
              "        docLink.innerHTML = docLinkHtml;\n",
              "        element.appendChild(docLink);\n",
              "      }\n",
              "    </script>\n",
              "  </div>\n",
              "\n",
              "\n",
              "<div id=\"df-80dce024-441d-45a3-89b0-5fa57c033863\">\n",
              "  <button class=\"colab-df-quickchart\" onclick=\"quickchart('df-80dce024-441d-45a3-89b0-5fa57c033863')\"\n",
              "            title=\"Suggest charts\"\n",
              "            style=\"display:none;\">\n",
              "\n",
              "<svg xmlns=\"http://www.w3.org/2000/svg\" height=\"24px\"viewBox=\"0 0 24 24\"\n",
              "     width=\"24px\">\n",
              "    <g>\n",
              "        <path d=\"M19 3H5c-1.1 0-2 .9-2 2v14c0 1.1.9 2 2 2h14c1.1 0 2-.9 2-2V5c0-1.1-.9-2-2-2zM9 17H7v-7h2v7zm4 0h-2V7h2v10zm4 0h-2v-4h2v4z\"/>\n",
              "    </g>\n",
              "</svg>\n",
              "  </button>\n",
              "\n",
              "<style>\n",
              "  .colab-df-quickchart {\n",
              "      --bg-color: #E8F0FE;\n",
              "      --fill-color: #1967D2;\n",
              "      --hover-bg-color: #E2EBFA;\n",
              "      --hover-fill-color: #174EA6;\n",
              "      --disabled-fill-color: #AAA;\n",
              "      --disabled-bg-color: #DDD;\n",
              "  }\n",
              "\n",
              "  [theme=dark] .colab-df-quickchart {\n",
              "      --bg-color: #3B4455;\n",
              "      --fill-color: #D2E3FC;\n",
              "      --hover-bg-color: #434B5C;\n",
              "      --hover-fill-color: #FFFFFF;\n",
              "      --disabled-bg-color: #3B4455;\n",
              "      --disabled-fill-color: #666;\n",
              "  }\n",
              "\n",
              "  .colab-df-quickchart {\n",
              "    background-color: var(--bg-color);\n",
              "    border: none;\n",
              "    border-radius: 50%;\n",
              "    cursor: pointer;\n",
              "    display: none;\n",
              "    fill: var(--fill-color);\n",
              "    height: 32px;\n",
              "    padding: 0;\n",
              "    width: 32px;\n",
              "  }\n",
              "\n",
              "  .colab-df-quickchart:hover {\n",
              "    background-color: var(--hover-bg-color);\n",
              "    box-shadow: 0 1px 2px rgba(60, 64, 67, 0.3), 0 1px 3px 1px rgba(60, 64, 67, 0.15);\n",
              "    fill: var(--button-hover-fill-color);\n",
              "  }\n",
              "\n",
              "  .colab-df-quickchart-complete:disabled,\n",
              "  .colab-df-quickchart-complete:disabled:hover {\n",
              "    background-color: var(--disabled-bg-color);\n",
              "    fill: var(--disabled-fill-color);\n",
              "    box-shadow: none;\n",
              "  }\n",
              "\n",
              "  .colab-df-spinner {\n",
              "    border: 2px solid var(--fill-color);\n",
              "    border-color: transparent;\n",
              "    border-bottom-color: var(--fill-color);\n",
              "    animation:\n",
              "      spin 1s steps(1) infinite;\n",
              "  }\n",
              "\n",
              "  @keyframes spin {\n",
              "    0% {\n",
              "      border-color: transparent;\n",
              "      border-bottom-color: var(--fill-color);\n",
              "      border-left-color: var(--fill-color);\n",
              "    }\n",
              "    20% {\n",
              "      border-color: transparent;\n",
              "      border-left-color: var(--fill-color);\n",
              "      border-top-color: var(--fill-color);\n",
              "    }\n",
              "    30% {\n",
              "      border-color: transparent;\n",
              "      border-left-color: var(--fill-color);\n",
              "      border-top-color: var(--fill-color);\n",
              "      border-right-color: var(--fill-color);\n",
              "    }\n",
              "    40% {\n",
              "      border-color: transparent;\n",
              "      border-right-color: var(--fill-color);\n",
              "      border-top-color: var(--fill-color);\n",
              "    }\n",
              "    60% {\n",
              "      border-color: transparent;\n",
              "      border-right-color: var(--fill-color);\n",
              "    }\n",
              "    80% {\n",
              "      border-color: transparent;\n",
              "      border-right-color: var(--fill-color);\n",
              "      border-bottom-color: var(--fill-color);\n",
              "    }\n",
              "    90% {\n",
              "      border-color: transparent;\n",
              "      border-bottom-color: var(--fill-color);\n",
              "    }\n",
              "  }\n",
              "</style>\n",
              "\n",
              "  <script>\n",
              "    async function quickchart(key) {\n",
              "      const quickchartButtonEl =\n",
              "        document.querySelector('#' + key + ' button');\n",
              "      quickchartButtonEl.disabled = true;  // To prevent multiple clicks.\n",
              "      quickchartButtonEl.classList.add('colab-df-spinner');\n",
              "      try {\n",
              "        const charts = await google.colab.kernel.invokeFunction(\n",
              "            'suggestCharts', [key], {});\n",
              "      } catch (error) {\n",
              "        console.error('Error during call to suggestCharts:', error);\n",
              "      }\n",
              "      quickchartButtonEl.classList.remove('colab-df-spinner');\n",
              "      quickchartButtonEl.classList.add('colab-df-quickchart-complete');\n",
              "    }\n",
              "    (() => {\n",
              "      let quickchartButtonEl =\n",
              "        document.querySelector('#df-80dce024-441d-45a3-89b0-5fa57c033863 button');\n",
              "      quickchartButtonEl.style.display =\n",
              "        google.colab.kernel.accessAllowed ? 'block' : 'none';\n",
              "    })();\n",
              "  </script>\n",
              "</div>\n",
              "\n",
              "    </div>\n",
              "  </div>\n"
            ],
            "application/vnd.google.colaboratory.intrinsic+json": {
              "type": "dataframe"
            }
          },
          "metadata": {},
          "execution_count": 10
        }
      ]
    },
    {
      "cell_type": "code",
      "source": [
        "mode_value = data['sex'].mode()[0]"
      ],
      "metadata": {
        "id": "cin-s5ltwCGY"
      },
      "execution_count": 11,
      "outputs": []
    },
    {
      "cell_type": "code",
      "source": [
        "print(mode_value)"
      ],
      "metadata": {
        "colab": {
          "base_uri": "https://localhost:8080/"
        },
        "id": "UfZ27HulwKTJ",
        "outputId": "2aed13e5-a06e-49bf-c837-fb5f89debb57"
      },
      "execution_count": 12,
      "outputs": [
        {
          "output_type": "stream",
          "name": "stdout",
          "text": [
            "Female\n"
          ]
        }
      ]
    },
    {
      "cell_type": "code",
      "source": [
        "data['sex'].fillna(mode_value, inplace=True)"
      ],
      "metadata": {
        "id": "Wjc7-MyfwYyM"
      },
      "execution_count": 15,
      "outputs": []
    },
    {
      "cell_type": "code",
      "source": [
        "data[data['residence'].isna()]"
      ],
      "metadata": {
        "colab": {
          "base_uri": "https://localhost:8080/",
          "height": 351
        },
        "id": "TsNzwWa1wb2B",
        "outputId": "fba26f70-81bd-4876-ecf1-ef2363926892"
      },
      "execution_count": 16,
      "outputs": [
        {
          "output_type": "execute_result",
          "data": {
            "text/plain": [
              "      age     sex marital_status residence               education  \\\n",
              "221  33.0    Male        Married       NaN                  Degree   \n",
              "224  40.0  Female        Married       NaN  Upper Secondary School   \n",
              "425  38.0  Female     Cohabiting       NaN  Upper Secondary School   \n",
              "437  40.0  Female        Married       NaN                  Degree   \n",
              "\n",
              "        occupation out_of_region_employment family_members  \\\n",
              "221  Self-Employed                       No              4   \n",
              "224       Employee                       No              4   \n",
              "425       Employee                       No              3   \n",
              "437       Employee                       No              4   \n",
              "\n",
              "    family_disabilities       house_floor earthquake80 political_orientation  \\\n",
              "221                  No                 4           No                 Right   \n",
              "224                  No                 1           No                   NaN   \n",
              "425                  No  0 (Ground Floor)           No                Center   \n",
              "437                  No                 5           No                   NaN   \n",
              "\n",
              "     shocks  fear  anxiety  physiological_symptoms  decision_timeliness  \\\n",
              "221       2     3        2                       1                    3   \n",
              "224       2     3        4                       2                    2   \n",
              "425       3     5        5                       1                    1   \n",
              "437       3     4        5                       2                    3   \n",
              "\n",
              "     insomnia  seismic_concern abroad out_of_region out_of_region_earthquake  \\\n",
              "221         2                4    Yes            No                       No   \n",
              "224         4                4    Yes           Yes                       No   \n",
              "425         3                5    Yes            No                       No   \n",
              "437         4                5    Yes           Yes                      Yes   \n",
              "\n",
              "    change_of_residence change_of_residence_earthquake red_zone_frequency  \\\n",
              "221                  No                             No                Yes   \n",
              "224                 Yes                             No                 No   \n",
              "425                 Yes                            Yes                Yes   \n",
              "437                 Yes                            Yes                Yes   \n",
              "\n",
              "     radio_info  TV_info  social_media_info  newspaper_info  app_info  \\\n",
              "221           3        3                  3               3         3   \n",
              "224           3        2                  1               3         3   \n",
              "425           2        2                  3               2         2   \n",
              "437           2        1                  3               3         5   \n",
              "\n",
              "     municipal_institutions_trust  regional_institutions_trust  \\\n",
              "221                             1                            1   \n",
              "224                             4                            4   \n",
              "425                             2                            2   \n",
              "437                             1                            1   \n",
              "\n",
              "     national_institutions_trust  INGV_trust  security reception_centers  \\\n",
              "221                            1           3         1                No   \n",
              "224                            4           4         3                No   \n",
              "425                            1           3         2                No   \n",
              "437                            2           3         3                No   \n",
              "\n",
              "    property_house housing_type elevator  n_vehicles        vehicle_type  \\\n",
              "221            Yes    Apartment       No           1                 Car   \n",
              "224             No    Apartment       No           2                 Car   \n",
              "425            Yes    Apartment       No           2  Motorcycle/Scooter   \n",
              "437            Yes    Apartment      Yes           1                 Car   \n",
              "\n",
              "     end_of_month                     salary  \n",
              "221             2                        NaN  \n",
              "224             3  Between €15000 and €28000  \n",
              "425             3               Up to €15000  \n",
              "437             3  Between €15000 and €28000  "
            ],
            "text/html": [
              "\n",
              "  <div id=\"df-f58c35bf-f49a-4690-b65b-65abbc235f5f\" class=\"colab-df-container\">\n",
              "    <div>\n",
              "<style scoped>\n",
              "    .dataframe tbody tr th:only-of-type {\n",
              "        vertical-align: middle;\n",
              "    }\n",
              "\n",
              "    .dataframe tbody tr th {\n",
              "        vertical-align: top;\n",
              "    }\n",
              "\n",
              "    .dataframe thead th {\n",
              "        text-align: right;\n",
              "    }\n",
              "</style>\n",
              "<table border=\"1\" class=\"dataframe\">\n",
              "  <thead>\n",
              "    <tr style=\"text-align: right;\">\n",
              "      <th></th>\n",
              "      <th>age</th>\n",
              "      <th>sex</th>\n",
              "      <th>marital_status</th>\n",
              "      <th>residence</th>\n",
              "      <th>education</th>\n",
              "      <th>occupation</th>\n",
              "      <th>out_of_region_employment</th>\n",
              "      <th>family_members</th>\n",
              "      <th>family_disabilities</th>\n",
              "      <th>house_floor</th>\n",
              "      <th>earthquake80</th>\n",
              "      <th>political_orientation</th>\n",
              "      <th>shocks</th>\n",
              "      <th>fear</th>\n",
              "      <th>anxiety</th>\n",
              "      <th>physiological_symptoms</th>\n",
              "      <th>decision_timeliness</th>\n",
              "      <th>insomnia</th>\n",
              "      <th>seismic_concern</th>\n",
              "      <th>abroad</th>\n",
              "      <th>out_of_region</th>\n",
              "      <th>out_of_region_earthquake</th>\n",
              "      <th>change_of_residence</th>\n",
              "      <th>change_of_residence_earthquake</th>\n",
              "      <th>red_zone_frequency</th>\n",
              "      <th>radio_info</th>\n",
              "      <th>TV_info</th>\n",
              "      <th>social_media_info</th>\n",
              "      <th>newspaper_info</th>\n",
              "      <th>app_info</th>\n",
              "      <th>municipal_institutions_trust</th>\n",
              "      <th>regional_institutions_trust</th>\n",
              "      <th>national_institutions_trust</th>\n",
              "      <th>INGV_trust</th>\n",
              "      <th>security</th>\n",
              "      <th>reception_centers</th>\n",
              "      <th>property_house</th>\n",
              "      <th>housing_type</th>\n",
              "      <th>elevator</th>\n",
              "      <th>n_vehicles</th>\n",
              "      <th>vehicle_type</th>\n",
              "      <th>end_of_month</th>\n",
              "      <th>salary</th>\n",
              "    </tr>\n",
              "  </thead>\n",
              "  <tbody>\n",
              "    <tr>\n",
              "      <th>221</th>\n",
              "      <td>33.0</td>\n",
              "      <td>Male</td>\n",
              "      <td>Married</td>\n",
              "      <td>NaN</td>\n",
              "      <td>Degree</td>\n",
              "      <td>Self-Employed</td>\n",
              "      <td>No</td>\n",
              "      <td>4</td>\n",
              "      <td>No</td>\n",
              "      <td>4</td>\n",
              "      <td>No</td>\n",
              "      <td>Right</td>\n",
              "      <td>2</td>\n",
              "      <td>3</td>\n",
              "      <td>2</td>\n",
              "      <td>1</td>\n",
              "      <td>3</td>\n",
              "      <td>2</td>\n",
              "      <td>4</td>\n",
              "      <td>Yes</td>\n",
              "      <td>No</td>\n",
              "      <td>No</td>\n",
              "      <td>No</td>\n",
              "      <td>No</td>\n",
              "      <td>Yes</td>\n",
              "      <td>3</td>\n",
              "      <td>3</td>\n",
              "      <td>3</td>\n",
              "      <td>3</td>\n",
              "      <td>3</td>\n",
              "      <td>1</td>\n",
              "      <td>1</td>\n",
              "      <td>1</td>\n",
              "      <td>3</td>\n",
              "      <td>1</td>\n",
              "      <td>No</td>\n",
              "      <td>Yes</td>\n",
              "      <td>Apartment</td>\n",
              "      <td>No</td>\n",
              "      <td>1</td>\n",
              "      <td>Car</td>\n",
              "      <td>2</td>\n",
              "      <td>NaN</td>\n",
              "    </tr>\n",
              "    <tr>\n",
              "      <th>224</th>\n",
              "      <td>40.0</td>\n",
              "      <td>Female</td>\n",
              "      <td>Married</td>\n",
              "      <td>NaN</td>\n",
              "      <td>Upper Secondary School</td>\n",
              "      <td>Employee</td>\n",
              "      <td>No</td>\n",
              "      <td>4</td>\n",
              "      <td>No</td>\n",
              "      <td>1</td>\n",
              "      <td>No</td>\n",
              "      <td>NaN</td>\n",
              "      <td>2</td>\n",
              "      <td>3</td>\n",
              "      <td>4</td>\n",
              "      <td>2</td>\n",
              "      <td>2</td>\n",
              "      <td>4</td>\n",
              "      <td>4</td>\n",
              "      <td>Yes</td>\n",
              "      <td>Yes</td>\n",
              "      <td>No</td>\n",
              "      <td>Yes</td>\n",
              "      <td>No</td>\n",
              "      <td>No</td>\n",
              "      <td>3</td>\n",
              "      <td>2</td>\n",
              "      <td>1</td>\n",
              "      <td>3</td>\n",
              "      <td>3</td>\n",
              "      <td>4</td>\n",
              "      <td>4</td>\n",
              "      <td>4</td>\n",
              "      <td>4</td>\n",
              "      <td>3</td>\n",
              "      <td>No</td>\n",
              "      <td>No</td>\n",
              "      <td>Apartment</td>\n",
              "      <td>No</td>\n",
              "      <td>2</td>\n",
              "      <td>Car</td>\n",
              "      <td>3</td>\n",
              "      <td>Between €15000 and €28000</td>\n",
              "    </tr>\n",
              "    <tr>\n",
              "      <th>425</th>\n",
              "      <td>38.0</td>\n",
              "      <td>Female</td>\n",
              "      <td>Cohabiting</td>\n",
              "      <td>NaN</td>\n",
              "      <td>Upper Secondary School</td>\n",
              "      <td>Employee</td>\n",
              "      <td>No</td>\n",
              "      <td>3</td>\n",
              "      <td>No</td>\n",
              "      <td>0 (Ground Floor)</td>\n",
              "      <td>No</td>\n",
              "      <td>Center</td>\n",
              "      <td>3</td>\n",
              "      <td>5</td>\n",
              "      <td>5</td>\n",
              "      <td>1</td>\n",
              "      <td>1</td>\n",
              "      <td>3</td>\n",
              "      <td>5</td>\n",
              "      <td>Yes</td>\n",
              "      <td>No</td>\n",
              "      <td>No</td>\n",
              "      <td>Yes</td>\n",
              "      <td>Yes</td>\n",
              "      <td>Yes</td>\n",
              "      <td>2</td>\n",
              "      <td>2</td>\n",
              "      <td>3</td>\n",
              "      <td>2</td>\n",
              "      <td>2</td>\n",
              "      <td>2</td>\n",
              "      <td>2</td>\n",
              "      <td>1</td>\n",
              "      <td>3</td>\n",
              "      <td>2</td>\n",
              "      <td>No</td>\n",
              "      <td>Yes</td>\n",
              "      <td>Apartment</td>\n",
              "      <td>No</td>\n",
              "      <td>2</td>\n",
              "      <td>Motorcycle/Scooter</td>\n",
              "      <td>3</td>\n",
              "      <td>Up to €15000</td>\n",
              "    </tr>\n",
              "    <tr>\n",
              "      <th>437</th>\n",
              "      <td>40.0</td>\n",
              "      <td>Female</td>\n",
              "      <td>Married</td>\n",
              "      <td>NaN</td>\n",
              "      <td>Degree</td>\n",
              "      <td>Employee</td>\n",
              "      <td>No</td>\n",
              "      <td>4</td>\n",
              "      <td>No</td>\n",
              "      <td>5</td>\n",
              "      <td>No</td>\n",
              "      <td>NaN</td>\n",
              "      <td>3</td>\n",
              "      <td>4</td>\n",
              "      <td>5</td>\n",
              "      <td>2</td>\n",
              "      <td>3</td>\n",
              "      <td>4</td>\n",
              "      <td>5</td>\n",
              "      <td>Yes</td>\n",
              "      <td>Yes</td>\n",
              "      <td>Yes</td>\n",
              "      <td>Yes</td>\n",
              "      <td>Yes</td>\n",
              "      <td>Yes</td>\n",
              "      <td>2</td>\n",
              "      <td>1</td>\n",
              "      <td>3</td>\n",
              "      <td>3</td>\n",
              "      <td>5</td>\n",
              "      <td>1</td>\n",
              "      <td>1</td>\n",
              "      <td>2</td>\n",
              "      <td>3</td>\n",
              "      <td>3</td>\n",
              "      <td>No</td>\n",
              "      <td>Yes</td>\n",
              "      <td>Apartment</td>\n",
              "      <td>Yes</td>\n",
              "      <td>1</td>\n",
              "      <td>Car</td>\n",
              "      <td>3</td>\n",
              "      <td>Between €15000 and €28000</td>\n",
              "    </tr>\n",
              "  </tbody>\n",
              "</table>\n",
              "</div>\n",
              "    <div class=\"colab-df-buttons\">\n",
              "\n",
              "  <div class=\"colab-df-container\">\n",
              "    <button class=\"colab-df-convert\" onclick=\"convertToInteractive('df-f58c35bf-f49a-4690-b65b-65abbc235f5f')\"\n",
              "            title=\"Convert this dataframe to an interactive table.\"\n",
              "            style=\"display:none;\">\n",
              "\n",
              "  <svg xmlns=\"http://www.w3.org/2000/svg\" height=\"24px\" viewBox=\"0 -960 960 960\">\n",
              "    <path d=\"M120-120v-720h720v720H120Zm60-500h600v-160H180v160Zm220 220h160v-160H400v160Zm0 220h160v-160H400v160ZM180-400h160v-160H180v160Zm440 0h160v-160H620v160ZM180-180h160v-160H180v160Zm440 0h160v-160H620v160Z\"/>\n",
              "  </svg>\n",
              "    </button>\n",
              "\n",
              "  <style>\n",
              "    .colab-df-container {\n",
              "      display:flex;\n",
              "      gap: 12px;\n",
              "    }\n",
              "\n",
              "    .colab-df-convert {\n",
              "      background-color: #E8F0FE;\n",
              "      border: none;\n",
              "      border-radius: 50%;\n",
              "      cursor: pointer;\n",
              "      display: none;\n",
              "      fill: #1967D2;\n",
              "      height: 32px;\n",
              "      padding: 0 0 0 0;\n",
              "      width: 32px;\n",
              "    }\n",
              "\n",
              "    .colab-df-convert:hover {\n",
              "      background-color: #E2EBFA;\n",
              "      box-shadow: 0px 1px 2px rgba(60, 64, 67, 0.3), 0px 1px 3px 1px rgba(60, 64, 67, 0.15);\n",
              "      fill: #174EA6;\n",
              "    }\n",
              "\n",
              "    .colab-df-buttons div {\n",
              "      margin-bottom: 4px;\n",
              "    }\n",
              "\n",
              "    [theme=dark] .colab-df-convert {\n",
              "      background-color: #3B4455;\n",
              "      fill: #D2E3FC;\n",
              "    }\n",
              "\n",
              "    [theme=dark] .colab-df-convert:hover {\n",
              "      background-color: #434B5C;\n",
              "      box-shadow: 0px 1px 3px 1px rgba(0, 0, 0, 0.15);\n",
              "      filter: drop-shadow(0px 1px 2px rgba(0, 0, 0, 0.3));\n",
              "      fill: #FFFFFF;\n",
              "    }\n",
              "  </style>\n",
              "\n",
              "    <script>\n",
              "      const buttonEl =\n",
              "        document.querySelector('#df-f58c35bf-f49a-4690-b65b-65abbc235f5f button.colab-df-convert');\n",
              "      buttonEl.style.display =\n",
              "        google.colab.kernel.accessAllowed ? 'block' : 'none';\n",
              "\n",
              "      async function convertToInteractive(key) {\n",
              "        const element = document.querySelector('#df-f58c35bf-f49a-4690-b65b-65abbc235f5f');\n",
              "        const dataTable =\n",
              "          await google.colab.kernel.invokeFunction('convertToInteractive',\n",
              "                                                    [key], {});\n",
              "        if (!dataTable) return;\n",
              "\n",
              "        const docLinkHtml = 'Like what you see? Visit the ' +\n",
              "          '<a target=\"_blank\" href=https://colab.research.google.com/notebooks/data_table.ipynb>data table notebook</a>'\n",
              "          + ' to learn more about interactive tables.';\n",
              "        element.innerHTML = '';\n",
              "        dataTable['output_type'] = 'display_data';\n",
              "        await google.colab.output.renderOutput(dataTable, element);\n",
              "        const docLink = document.createElement('div');\n",
              "        docLink.innerHTML = docLinkHtml;\n",
              "        element.appendChild(docLink);\n",
              "      }\n",
              "    </script>\n",
              "  </div>\n",
              "\n",
              "\n",
              "<div id=\"df-ae38013d-fa9a-485d-8c50-68f4e55bb853\">\n",
              "  <button class=\"colab-df-quickchart\" onclick=\"quickchart('df-ae38013d-fa9a-485d-8c50-68f4e55bb853')\"\n",
              "            title=\"Suggest charts\"\n",
              "            style=\"display:none;\">\n",
              "\n",
              "<svg xmlns=\"http://www.w3.org/2000/svg\" height=\"24px\"viewBox=\"0 0 24 24\"\n",
              "     width=\"24px\">\n",
              "    <g>\n",
              "        <path d=\"M19 3H5c-1.1 0-2 .9-2 2v14c0 1.1.9 2 2 2h14c1.1 0 2-.9 2-2V5c0-1.1-.9-2-2-2zM9 17H7v-7h2v7zm4 0h-2V7h2v10zm4 0h-2v-4h2v4z\"/>\n",
              "    </g>\n",
              "</svg>\n",
              "  </button>\n",
              "\n",
              "<style>\n",
              "  .colab-df-quickchart {\n",
              "      --bg-color: #E8F0FE;\n",
              "      --fill-color: #1967D2;\n",
              "      --hover-bg-color: #E2EBFA;\n",
              "      --hover-fill-color: #174EA6;\n",
              "      --disabled-fill-color: #AAA;\n",
              "      --disabled-bg-color: #DDD;\n",
              "  }\n",
              "\n",
              "  [theme=dark] .colab-df-quickchart {\n",
              "      --bg-color: #3B4455;\n",
              "      --fill-color: #D2E3FC;\n",
              "      --hover-bg-color: #434B5C;\n",
              "      --hover-fill-color: #FFFFFF;\n",
              "      --disabled-bg-color: #3B4455;\n",
              "      --disabled-fill-color: #666;\n",
              "  }\n",
              "\n",
              "  .colab-df-quickchart {\n",
              "    background-color: var(--bg-color);\n",
              "    border: none;\n",
              "    border-radius: 50%;\n",
              "    cursor: pointer;\n",
              "    display: none;\n",
              "    fill: var(--fill-color);\n",
              "    height: 32px;\n",
              "    padding: 0;\n",
              "    width: 32px;\n",
              "  }\n",
              "\n",
              "  .colab-df-quickchart:hover {\n",
              "    background-color: var(--hover-bg-color);\n",
              "    box-shadow: 0 1px 2px rgba(60, 64, 67, 0.3), 0 1px 3px 1px rgba(60, 64, 67, 0.15);\n",
              "    fill: var(--button-hover-fill-color);\n",
              "  }\n",
              "\n",
              "  .colab-df-quickchart-complete:disabled,\n",
              "  .colab-df-quickchart-complete:disabled:hover {\n",
              "    background-color: var(--disabled-bg-color);\n",
              "    fill: var(--disabled-fill-color);\n",
              "    box-shadow: none;\n",
              "  }\n",
              "\n",
              "  .colab-df-spinner {\n",
              "    border: 2px solid var(--fill-color);\n",
              "    border-color: transparent;\n",
              "    border-bottom-color: var(--fill-color);\n",
              "    animation:\n",
              "      spin 1s steps(1) infinite;\n",
              "  }\n",
              "\n",
              "  @keyframes spin {\n",
              "    0% {\n",
              "      border-color: transparent;\n",
              "      border-bottom-color: var(--fill-color);\n",
              "      border-left-color: var(--fill-color);\n",
              "    }\n",
              "    20% {\n",
              "      border-color: transparent;\n",
              "      border-left-color: var(--fill-color);\n",
              "      border-top-color: var(--fill-color);\n",
              "    }\n",
              "    30% {\n",
              "      border-color: transparent;\n",
              "      border-left-color: var(--fill-color);\n",
              "      border-top-color: var(--fill-color);\n",
              "      border-right-color: var(--fill-color);\n",
              "    }\n",
              "    40% {\n",
              "      border-color: transparent;\n",
              "      border-right-color: var(--fill-color);\n",
              "      border-top-color: var(--fill-color);\n",
              "    }\n",
              "    60% {\n",
              "      border-color: transparent;\n",
              "      border-right-color: var(--fill-color);\n",
              "    }\n",
              "    80% {\n",
              "      border-color: transparent;\n",
              "      border-right-color: var(--fill-color);\n",
              "      border-bottom-color: var(--fill-color);\n",
              "    }\n",
              "    90% {\n",
              "      border-color: transparent;\n",
              "      border-bottom-color: var(--fill-color);\n",
              "    }\n",
              "  }\n",
              "</style>\n",
              "\n",
              "  <script>\n",
              "    async function quickchart(key) {\n",
              "      const quickchartButtonEl =\n",
              "        document.querySelector('#' + key + ' button');\n",
              "      quickchartButtonEl.disabled = true;  // To prevent multiple clicks.\n",
              "      quickchartButtonEl.classList.add('colab-df-spinner');\n",
              "      try {\n",
              "        const charts = await google.colab.kernel.invokeFunction(\n",
              "            'suggestCharts', [key], {});\n",
              "      } catch (error) {\n",
              "        console.error('Error during call to suggestCharts:', error);\n",
              "      }\n",
              "      quickchartButtonEl.classList.remove('colab-df-spinner');\n",
              "      quickchartButtonEl.classList.add('colab-df-quickchart-complete');\n",
              "    }\n",
              "    (() => {\n",
              "      let quickchartButtonEl =\n",
              "        document.querySelector('#df-ae38013d-fa9a-485d-8c50-68f4e55bb853 button');\n",
              "      quickchartButtonEl.style.display =\n",
              "        google.colab.kernel.accessAllowed ? 'block' : 'none';\n",
              "    })();\n",
              "  </script>\n",
              "</div>\n",
              "\n",
              "    </div>\n",
              "  </div>\n"
            ],
            "application/vnd.google.colaboratory.intrinsic+json": {
              "type": "dataframe"
            }
          },
          "metadata": {},
          "execution_count": 16
        }
      ]
    },
    {
      "cell_type": "code",
      "source": [
        "mode_value_residence = data['residence'].mode()[0]"
      ],
      "metadata": {
        "id": "XzB8i01BCN6P"
      },
      "execution_count": 17,
      "outputs": []
    },
    {
      "cell_type": "code",
      "source": [
        "print(mode_value_residence)"
      ],
      "metadata": {
        "colab": {
          "base_uri": "https://localhost:8080/"
        },
        "id": "TOa-yVRJCTsj",
        "outputId": "89fb1839-f8e5-4a3c-c3f8-dba2f1c2fc5d"
      },
      "execution_count": 18,
      "outputs": [
        {
          "output_type": "stream",
          "name": "stdout",
          "text": [
            "Napoli\n"
          ]
        }
      ]
    },
    {
      "cell_type": "code",
      "source": [
        "data.groupby('residence')['residence'].count().sort_values(ascending = False)"
      ],
      "metadata": {
        "colab": {
          "base_uri": "https://localhost:8080/"
        },
        "id": "62AYgVsFCcN1",
        "outputId": "dbe5b931-2e7b-4522-d638-50fcabd0dac4"
      },
      "execution_count": 19,
      "outputs": [
        {
          "output_type": "execute_result",
          "data": {
            "text/plain": [
              "residence\n",
              "Napoli             162\n",
              "Pozzuoli           114\n",
              "Somma Vesuviana     17\n",
              "Quarto              15\n",
              "Qualiano            15\n",
              "                  ... \n",
              "Morcone              1\n",
              "Mori                 1\n",
              "Mugnano              1\n",
              "Boscoreale           1\n",
              "Poggiomarino         1\n",
              "Name: residence, Length: 87, dtype: int64"
            ]
          },
          "metadata": {},
          "execution_count": 19
        }
      ]
    },
    {
      "cell_type": "code",
      "source": [
        "data['residence'].fillna(mode_value_residence, inplace=True)"
      ],
      "metadata": {
        "id": "RaHKPRHVMy_b"
      },
      "execution_count": 20,
      "outputs": []
    },
    {
      "cell_type": "code",
      "source": [
        "data.groupby('family_disabilities')['family_disabilities'].count().sort_values(ascending = False)"
      ],
      "metadata": {
        "colab": {
          "base_uri": "https://localhost:8080/"
        },
        "id": "TonARa3EM__u",
        "outputId": "74eb8ecb-5ef7-4c2a-a3bd-578a7dfef9de"
      },
      "execution_count": 21,
      "outputs": [
        {
          "output_type": "execute_result",
          "data": {
            "text/plain": [
              "family_disabilities\n",
              "No     422\n",
              "Yes     42\n",
              "Name: family_disabilities, dtype: int64"
            ]
          },
          "metadata": {},
          "execution_count": 21
        }
      ]
    },
    {
      "cell_type": "code",
      "source": [
        "data[data['family_disabilities'].isna()]"
      ],
      "metadata": {
        "colab": {
          "base_uri": "https://localhost:8080/",
          "height": 632
        },
        "id": "pGNbVV6UNMWv",
        "outputId": "54b5c5be-8daf-4769-b188-0f32f3a803e1"
      },
      "execution_count": 22,
      "outputs": [
        {
          "output_type": "execute_result",
          "data": {
            "text/plain": [
              "      age     sex marital_status         residence               education  \\\n",
              "12   22.0  Female      Unmarried            Quarto  Upper Secondary School   \n",
              "49   22.0  Female      Unmarried            Napoli  Upper Secondary School   \n",
              "50   43.0  Female      Unmarried            Napoli  Upper Secondary School   \n",
              "99   56.0  Female     Cohabiting          Pozzuoli  Lower Secondary School   \n",
              "132  51.0  Female        Married          Pozzuoli                  Degree   \n",
              "153  47.0  Female        Married            Napoli  Upper Secondary School   \n",
              "242  48.0  Female     Cohabiting            Quarto  Upper Secondary School   \n",
              "433  27.0    Male      Unmarried  Monte Di Procida  Upper Secondary School   \n",
              "\n",
              "        occupation out_of_region_employment family_members  \\\n",
              "12         Student                       No              5   \n",
              "49         Student                       No              4   \n",
              "50        Employee                       No              3   \n",
              "99      Unemployed                       No              2   \n",
              "132  Self-Employed                       No         Over 5   \n",
              "153       Employee                       No              3   \n",
              "242       Employee                       No              2   \n",
              "433       Employee                       No              5   \n",
              "\n",
              "    family_disabilities       house_floor earthquake80 political_orientation  \\\n",
              "12                  NaN  0 (Ground Floor)           No                   NaN   \n",
              "49                  NaN  0 (Ground Floor)           No                  Left   \n",
              "50                  NaN  0 (Ground Floor)           No                   NaN   \n",
              "99                  NaN                 1          Yes                   NaN   \n",
              "132                 NaN                 1          Yes                   NaN   \n",
              "153                 NaN                 1          Yes                  Left   \n",
              "242                 NaN                 1           No                   NaN   \n",
              "433                 NaN  0 (Ground Floor)           No                 Right   \n",
              "\n",
              "     shocks  fear  anxiety  physiological_symptoms  decision_timeliness  \\\n",
              "12        2     1        2                       2                    1   \n",
              "49        1     3        3                       1                    2   \n",
              "50        2     3        4                       3                    4   \n",
              "99        4     4        4                       4                    3   \n",
              "132       3     3        2                       3                    3   \n",
              "153       3     3        3                       3                    3   \n",
              "242       4     4        4                       2                    2   \n",
              "433       3     2        2                       3                    1   \n",
              "\n",
              "     insomnia  seismic_concern abroad out_of_region out_of_region_earthquake  \\\n",
              "12          1                2    Yes           Yes                       No   \n",
              "49          3                5    Yes           Yes                      Yes   \n",
              "50          4                4    Yes            No                       No   \n",
              "99          4                4    Yes           Yes                       No   \n",
              "132         2                2    Yes            No                       No   \n",
              "153         3                3    Yes           Yes                      Yes   \n",
              "242         1                5     No            No                       No   \n",
              "433         4                4    Yes           Yes                       No   \n",
              "\n",
              "    change_of_residence change_of_residence_earthquake red_zone_frequency  \\\n",
              "12                  Yes                             No                Yes   \n",
              "49                  Yes                            Yes                 No   \n",
              "50                   No                             No                 No   \n",
              "99                  Yes                            Yes                Yes   \n",
              "132                  No                             No                Yes   \n",
              "153                 Yes                            Yes                Yes   \n",
              "242                 Yes                             No                Yes   \n",
              "433                 Yes                             No                Yes   \n",
              "\n",
              "     radio_info  TV_info  social_media_info  newspaper_info  app_info  \\\n",
              "12            3        3                  3               3         3   \n",
              "49            3        3                  3               3         3   \n",
              "50            2        2                  2               2         2   \n",
              "99            1        2                  3               3         3   \n",
              "132           4        4                  2               3         4   \n",
              "153           2        2                  4               3         4   \n",
              "242           3        3                  5               1         5   \n",
              "433           2        2                  2               2         3   \n",
              "\n",
              "     municipal_institutions_trust  regional_institutions_trust  \\\n",
              "12                              1                            1   \n",
              "49                              2                            2   \n",
              "50                              3                            3   \n",
              "99                              2                            2   \n",
              "132                             1                            1   \n",
              "153                             3                            2   \n",
              "242                             1                            2   \n",
              "433                             2                            2   \n",
              "\n",
              "     national_institutions_trust  INGV_trust  security reception_centers  \\\n",
              "12                             1           4         3                No   \n",
              "49                             1           4         2               Yes   \n",
              "50                             3           4         4                No   \n",
              "99                             3           3         2                No   \n",
              "132                            2           3         2               Yes   \n",
              "153                            2           4         3               Yes   \n",
              "242                            1           3         1                No   \n",
              "433                            3           4         2               Yes   \n",
              "\n",
              "    property_house       housing_type elevator  n_vehicles  \\\n",
              "12              No  Villa/Small Villa       No           1   \n",
              "49             Yes          Apartment      Yes           2   \n",
              "50              No  Villa/Small Villa       No           3   \n",
              "99              No          Apartment       No           0   \n",
              "132            Yes          Apartment       No           1   \n",
              "153            Yes  Villa/Small Villa       No           1   \n",
              "242             No          Apartment       No           1   \n",
              "433            Yes          Apartment       No           2   \n",
              "\n",
              "           vehicle_type  end_of_month                     salary  \n",
              "12                  Car             3                        NaN  \n",
              "49                  Car             2  Between €15000 and €28000  \n",
              "50                  Car             3               Up to €15000  \n",
              "99                  NaN             4                        NaN  \n",
              "132                 Car             2                        NaN  \n",
              "153                 Car             3                        NaN  \n",
              "242                 Car             3  Between €15000 and €28000  \n",
              "433  Car and Motorcycle             2  Between €15000 and €28000  "
            ],
            "text/html": [
              "\n",
              "  <div id=\"df-8f72305c-004d-4f98-a72d-e9d1c4cb3913\" class=\"colab-df-container\">\n",
              "    <div>\n",
              "<style scoped>\n",
              "    .dataframe tbody tr th:only-of-type {\n",
              "        vertical-align: middle;\n",
              "    }\n",
              "\n",
              "    .dataframe tbody tr th {\n",
              "        vertical-align: top;\n",
              "    }\n",
              "\n",
              "    .dataframe thead th {\n",
              "        text-align: right;\n",
              "    }\n",
              "</style>\n",
              "<table border=\"1\" class=\"dataframe\">\n",
              "  <thead>\n",
              "    <tr style=\"text-align: right;\">\n",
              "      <th></th>\n",
              "      <th>age</th>\n",
              "      <th>sex</th>\n",
              "      <th>marital_status</th>\n",
              "      <th>residence</th>\n",
              "      <th>education</th>\n",
              "      <th>occupation</th>\n",
              "      <th>out_of_region_employment</th>\n",
              "      <th>family_members</th>\n",
              "      <th>family_disabilities</th>\n",
              "      <th>house_floor</th>\n",
              "      <th>earthquake80</th>\n",
              "      <th>political_orientation</th>\n",
              "      <th>shocks</th>\n",
              "      <th>fear</th>\n",
              "      <th>anxiety</th>\n",
              "      <th>physiological_symptoms</th>\n",
              "      <th>decision_timeliness</th>\n",
              "      <th>insomnia</th>\n",
              "      <th>seismic_concern</th>\n",
              "      <th>abroad</th>\n",
              "      <th>out_of_region</th>\n",
              "      <th>out_of_region_earthquake</th>\n",
              "      <th>change_of_residence</th>\n",
              "      <th>change_of_residence_earthquake</th>\n",
              "      <th>red_zone_frequency</th>\n",
              "      <th>radio_info</th>\n",
              "      <th>TV_info</th>\n",
              "      <th>social_media_info</th>\n",
              "      <th>newspaper_info</th>\n",
              "      <th>app_info</th>\n",
              "      <th>municipal_institutions_trust</th>\n",
              "      <th>regional_institutions_trust</th>\n",
              "      <th>national_institutions_trust</th>\n",
              "      <th>INGV_trust</th>\n",
              "      <th>security</th>\n",
              "      <th>reception_centers</th>\n",
              "      <th>property_house</th>\n",
              "      <th>housing_type</th>\n",
              "      <th>elevator</th>\n",
              "      <th>n_vehicles</th>\n",
              "      <th>vehicle_type</th>\n",
              "      <th>end_of_month</th>\n",
              "      <th>salary</th>\n",
              "    </tr>\n",
              "  </thead>\n",
              "  <tbody>\n",
              "    <tr>\n",
              "      <th>12</th>\n",
              "      <td>22.0</td>\n",
              "      <td>Female</td>\n",
              "      <td>Unmarried</td>\n",
              "      <td>Quarto</td>\n",
              "      <td>Upper Secondary School</td>\n",
              "      <td>Student</td>\n",
              "      <td>No</td>\n",
              "      <td>5</td>\n",
              "      <td>NaN</td>\n",
              "      <td>0 (Ground Floor)</td>\n",
              "      <td>No</td>\n",
              "      <td>NaN</td>\n",
              "      <td>2</td>\n",
              "      <td>1</td>\n",
              "      <td>2</td>\n",
              "      <td>2</td>\n",
              "      <td>1</td>\n",
              "      <td>1</td>\n",
              "      <td>2</td>\n",
              "      <td>Yes</td>\n",
              "      <td>Yes</td>\n",
              "      <td>No</td>\n",
              "      <td>Yes</td>\n",
              "      <td>No</td>\n",
              "      <td>Yes</td>\n",
              "      <td>3</td>\n",
              "      <td>3</td>\n",
              "      <td>3</td>\n",
              "      <td>3</td>\n",
              "      <td>3</td>\n",
              "      <td>1</td>\n",
              "      <td>1</td>\n",
              "      <td>1</td>\n",
              "      <td>4</td>\n",
              "      <td>3</td>\n",
              "      <td>No</td>\n",
              "      <td>No</td>\n",
              "      <td>Villa/Small Villa</td>\n",
              "      <td>No</td>\n",
              "      <td>1</td>\n",
              "      <td>Car</td>\n",
              "      <td>3</td>\n",
              "      <td>NaN</td>\n",
              "    </tr>\n",
              "    <tr>\n",
              "      <th>49</th>\n",
              "      <td>22.0</td>\n",
              "      <td>Female</td>\n",
              "      <td>Unmarried</td>\n",
              "      <td>Napoli</td>\n",
              "      <td>Upper Secondary School</td>\n",
              "      <td>Student</td>\n",
              "      <td>No</td>\n",
              "      <td>4</td>\n",
              "      <td>NaN</td>\n",
              "      <td>0 (Ground Floor)</td>\n",
              "      <td>No</td>\n",
              "      <td>Left</td>\n",
              "      <td>1</td>\n",
              "      <td>3</td>\n",
              "      <td>3</td>\n",
              "      <td>1</td>\n",
              "      <td>2</td>\n",
              "      <td>3</td>\n",
              "      <td>5</td>\n",
              "      <td>Yes</td>\n",
              "      <td>Yes</td>\n",
              "      <td>Yes</td>\n",
              "      <td>Yes</td>\n",
              "      <td>Yes</td>\n",
              "      <td>No</td>\n",
              "      <td>3</td>\n",
              "      <td>3</td>\n",
              "      <td>3</td>\n",
              "      <td>3</td>\n",
              "      <td>3</td>\n",
              "      <td>2</td>\n",
              "      <td>2</td>\n",
              "      <td>1</td>\n",
              "      <td>4</td>\n",
              "      <td>2</td>\n",
              "      <td>Yes</td>\n",
              "      <td>Yes</td>\n",
              "      <td>Apartment</td>\n",
              "      <td>Yes</td>\n",
              "      <td>2</td>\n",
              "      <td>Car</td>\n",
              "      <td>2</td>\n",
              "      <td>Between €15000 and €28000</td>\n",
              "    </tr>\n",
              "    <tr>\n",
              "      <th>50</th>\n",
              "      <td>43.0</td>\n",
              "      <td>Female</td>\n",
              "      <td>Unmarried</td>\n",
              "      <td>Napoli</td>\n",
              "      <td>Upper Secondary School</td>\n",
              "      <td>Employee</td>\n",
              "      <td>No</td>\n",
              "      <td>3</td>\n",
              "      <td>NaN</td>\n",
              "      <td>0 (Ground Floor)</td>\n",
              "      <td>No</td>\n",
              "      <td>NaN</td>\n",
              "      <td>2</td>\n",
              "      <td>3</td>\n",
              "      <td>4</td>\n",
              "      <td>3</td>\n",
              "      <td>4</td>\n",
              "      <td>4</td>\n",
              "      <td>4</td>\n",
              "      <td>Yes</td>\n",
              "      <td>No</td>\n",
              "      <td>No</td>\n",
              "      <td>No</td>\n",
              "      <td>No</td>\n",
              "      <td>No</td>\n",
              "      <td>2</td>\n",
              "      <td>2</td>\n",
              "      <td>2</td>\n",
              "      <td>2</td>\n",
              "      <td>2</td>\n",
              "      <td>3</td>\n",
              "      <td>3</td>\n",
              "      <td>3</td>\n",
              "      <td>4</td>\n",
              "      <td>4</td>\n",
              "      <td>No</td>\n",
              "      <td>No</td>\n",
              "      <td>Villa/Small Villa</td>\n",
              "      <td>No</td>\n",
              "      <td>3</td>\n",
              "      <td>Car</td>\n",
              "      <td>3</td>\n",
              "      <td>Up to €15000</td>\n",
              "    </tr>\n",
              "    <tr>\n",
              "      <th>99</th>\n",
              "      <td>56.0</td>\n",
              "      <td>Female</td>\n",
              "      <td>Cohabiting</td>\n",
              "      <td>Pozzuoli</td>\n",
              "      <td>Lower Secondary School</td>\n",
              "      <td>Unemployed</td>\n",
              "      <td>No</td>\n",
              "      <td>2</td>\n",
              "      <td>NaN</td>\n",
              "      <td>1</td>\n",
              "      <td>Yes</td>\n",
              "      <td>NaN</td>\n",
              "      <td>4</td>\n",
              "      <td>4</td>\n",
              "      <td>4</td>\n",
              "      <td>4</td>\n",
              "      <td>3</td>\n",
              "      <td>4</td>\n",
              "      <td>4</td>\n",
              "      <td>Yes</td>\n",
              "      <td>Yes</td>\n",
              "      <td>No</td>\n",
              "      <td>Yes</td>\n",
              "      <td>Yes</td>\n",
              "      <td>Yes</td>\n",
              "      <td>1</td>\n",
              "      <td>2</td>\n",
              "      <td>3</td>\n",
              "      <td>3</td>\n",
              "      <td>3</td>\n",
              "      <td>2</td>\n",
              "      <td>2</td>\n",
              "      <td>3</td>\n",
              "      <td>3</td>\n",
              "      <td>2</td>\n",
              "      <td>No</td>\n",
              "      <td>No</td>\n",
              "      <td>Apartment</td>\n",
              "      <td>No</td>\n",
              "      <td>0</td>\n",
              "      <td>NaN</td>\n",
              "      <td>4</td>\n",
              "      <td>NaN</td>\n",
              "    </tr>\n",
              "    <tr>\n",
              "      <th>132</th>\n",
              "      <td>51.0</td>\n",
              "      <td>Female</td>\n",
              "      <td>Married</td>\n",
              "      <td>Pozzuoli</td>\n",
              "      <td>Degree</td>\n",
              "      <td>Self-Employed</td>\n",
              "      <td>No</td>\n",
              "      <td>Over 5</td>\n",
              "      <td>NaN</td>\n",
              "      <td>1</td>\n",
              "      <td>Yes</td>\n",
              "      <td>NaN</td>\n",
              "      <td>3</td>\n",
              "      <td>3</td>\n",
              "      <td>2</td>\n",
              "      <td>3</td>\n",
              "      <td>3</td>\n",
              "      <td>2</td>\n",
              "      <td>2</td>\n",
              "      <td>Yes</td>\n",
              "      <td>No</td>\n",
              "      <td>No</td>\n",
              "      <td>No</td>\n",
              "      <td>No</td>\n",
              "      <td>Yes</td>\n",
              "      <td>4</td>\n",
              "      <td>4</td>\n",
              "      <td>2</td>\n",
              "      <td>3</td>\n",
              "      <td>4</td>\n",
              "      <td>1</td>\n",
              "      <td>1</td>\n",
              "      <td>2</td>\n",
              "      <td>3</td>\n",
              "      <td>2</td>\n",
              "      <td>Yes</td>\n",
              "      <td>Yes</td>\n",
              "      <td>Apartment</td>\n",
              "      <td>No</td>\n",
              "      <td>1</td>\n",
              "      <td>Car</td>\n",
              "      <td>2</td>\n",
              "      <td>NaN</td>\n",
              "    </tr>\n",
              "    <tr>\n",
              "      <th>153</th>\n",
              "      <td>47.0</td>\n",
              "      <td>Female</td>\n",
              "      <td>Married</td>\n",
              "      <td>Napoli</td>\n",
              "      <td>Upper Secondary School</td>\n",
              "      <td>Employee</td>\n",
              "      <td>No</td>\n",
              "      <td>3</td>\n",
              "      <td>NaN</td>\n",
              "      <td>1</td>\n",
              "      <td>Yes</td>\n",
              "      <td>Left</td>\n",
              "      <td>3</td>\n",
              "      <td>3</td>\n",
              "      <td>3</td>\n",
              "      <td>3</td>\n",
              "      <td>3</td>\n",
              "      <td>3</td>\n",
              "      <td>3</td>\n",
              "      <td>Yes</td>\n",
              "      <td>Yes</td>\n",
              "      <td>Yes</td>\n",
              "      <td>Yes</td>\n",
              "      <td>Yes</td>\n",
              "      <td>Yes</td>\n",
              "      <td>2</td>\n",
              "      <td>2</td>\n",
              "      <td>4</td>\n",
              "      <td>3</td>\n",
              "      <td>4</td>\n",
              "      <td>3</td>\n",
              "      <td>2</td>\n",
              "      <td>2</td>\n",
              "      <td>4</td>\n",
              "      <td>3</td>\n",
              "      <td>Yes</td>\n",
              "      <td>Yes</td>\n",
              "      <td>Villa/Small Villa</td>\n",
              "      <td>No</td>\n",
              "      <td>1</td>\n",
              "      <td>Car</td>\n",
              "      <td>3</td>\n",
              "      <td>NaN</td>\n",
              "    </tr>\n",
              "    <tr>\n",
              "      <th>242</th>\n",
              "      <td>48.0</td>\n",
              "      <td>Female</td>\n",
              "      <td>Cohabiting</td>\n",
              "      <td>Quarto</td>\n",
              "      <td>Upper Secondary School</td>\n",
              "      <td>Employee</td>\n",
              "      <td>No</td>\n",
              "      <td>2</td>\n",
              "      <td>NaN</td>\n",
              "      <td>1</td>\n",
              "      <td>No</td>\n",
              "      <td>NaN</td>\n",
              "      <td>4</td>\n",
              "      <td>4</td>\n",
              "      <td>4</td>\n",
              "      <td>2</td>\n",
              "      <td>2</td>\n",
              "      <td>1</td>\n",
              "      <td>5</td>\n",
              "      <td>No</td>\n",
              "      <td>No</td>\n",
              "      <td>No</td>\n",
              "      <td>Yes</td>\n",
              "      <td>No</td>\n",
              "      <td>Yes</td>\n",
              "      <td>3</td>\n",
              "      <td>3</td>\n",
              "      <td>5</td>\n",
              "      <td>1</td>\n",
              "      <td>5</td>\n",
              "      <td>1</td>\n",
              "      <td>2</td>\n",
              "      <td>1</td>\n",
              "      <td>3</td>\n",
              "      <td>1</td>\n",
              "      <td>No</td>\n",
              "      <td>No</td>\n",
              "      <td>Apartment</td>\n",
              "      <td>No</td>\n",
              "      <td>1</td>\n",
              "      <td>Car</td>\n",
              "      <td>3</td>\n",
              "      <td>Between €15000 and €28000</td>\n",
              "    </tr>\n",
              "    <tr>\n",
              "      <th>433</th>\n",
              "      <td>27.0</td>\n",
              "      <td>Male</td>\n",
              "      <td>Unmarried</td>\n",
              "      <td>Monte Di Procida</td>\n",
              "      <td>Upper Secondary School</td>\n",
              "      <td>Employee</td>\n",
              "      <td>No</td>\n",
              "      <td>5</td>\n",
              "      <td>NaN</td>\n",
              "      <td>0 (Ground Floor)</td>\n",
              "      <td>No</td>\n",
              "      <td>Right</td>\n",
              "      <td>3</td>\n",
              "      <td>2</td>\n",
              "      <td>2</td>\n",
              "      <td>3</td>\n",
              "      <td>1</td>\n",
              "      <td>4</td>\n",
              "      <td>4</td>\n",
              "      <td>Yes</td>\n",
              "      <td>Yes</td>\n",
              "      <td>No</td>\n",
              "      <td>Yes</td>\n",
              "      <td>No</td>\n",
              "      <td>Yes</td>\n",
              "      <td>2</td>\n",
              "      <td>2</td>\n",
              "      <td>2</td>\n",
              "      <td>2</td>\n",
              "      <td>3</td>\n",
              "      <td>2</td>\n",
              "      <td>2</td>\n",
              "      <td>3</td>\n",
              "      <td>4</td>\n",
              "      <td>2</td>\n",
              "      <td>Yes</td>\n",
              "      <td>Yes</td>\n",
              "      <td>Apartment</td>\n",
              "      <td>No</td>\n",
              "      <td>2</td>\n",
              "      <td>Car and Motorcycle</td>\n",
              "      <td>2</td>\n",
              "      <td>Between €15000 and €28000</td>\n",
              "    </tr>\n",
              "  </tbody>\n",
              "</table>\n",
              "</div>\n",
              "    <div class=\"colab-df-buttons\">\n",
              "\n",
              "  <div class=\"colab-df-container\">\n",
              "    <button class=\"colab-df-convert\" onclick=\"convertToInteractive('df-8f72305c-004d-4f98-a72d-e9d1c4cb3913')\"\n",
              "            title=\"Convert this dataframe to an interactive table.\"\n",
              "            style=\"display:none;\">\n",
              "\n",
              "  <svg xmlns=\"http://www.w3.org/2000/svg\" height=\"24px\" viewBox=\"0 -960 960 960\">\n",
              "    <path d=\"M120-120v-720h720v720H120Zm60-500h600v-160H180v160Zm220 220h160v-160H400v160Zm0 220h160v-160H400v160ZM180-400h160v-160H180v160Zm440 0h160v-160H620v160ZM180-180h160v-160H180v160Zm440 0h160v-160H620v160Z\"/>\n",
              "  </svg>\n",
              "    </button>\n",
              "\n",
              "  <style>\n",
              "    .colab-df-container {\n",
              "      display:flex;\n",
              "      gap: 12px;\n",
              "    }\n",
              "\n",
              "    .colab-df-convert {\n",
              "      background-color: #E8F0FE;\n",
              "      border: none;\n",
              "      border-radius: 50%;\n",
              "      cursor: pointer;\n",
              "      display: none;\n",
              "      fill: #1967D2;\n",
              "      height: 32px;\n",
              "      padding: 0 0 0 0;\n",
              "      width: 32px;\n",
              "    }\n",
              "\n",
              "    .colab-df-convert:hover {\n",
              "      background-color: #E2EBFA;\n",
              "      box-shadow: 0px 1px 2px rgba(60, 64, 67, 0.3), 0px 1px 3px 1px rgba(60, 64, 67, 0.15);\n",
              "      fill: #174EA6;\n",
              "    }\n",
              "\n",
              "    .colab-df-buttons div {\n",
              "      margin-bottom: 4px;\n",
              "    }\n",
              "\n",
              "    [theme=dark] .colab-df-convert {\n",
              "      background-color: #3B4455;\n",
              "      fill: #D2E3FC;\n",
              "    }\n",
              "\n",
              "    [theme=dark] .colab-df-convert:hover {\n",
              "      background-color: #434B5C;\n",
              "      box-shadow: 0px 1px 3px 1px rgba(0, 0, 0, 0.15);\n",
              "      filter: drop-shadow(0px 1px 2px rgba(0, 0, 0, 0.3));\n",
              "      fill: #FFFFFF;\n",
              "    }\n",
              "  </style>\n",
              "\n",
              "    <script>\n",
              "      const buttonEl =\n",
              "        document.querySelector('#df-8f72305c-004d-4f98-a72d-e9d1c4cb3913 button.colab-df-convert');\n",
              "      buttonEl.style.display =\n",
              "        google.colab.kernel.accessAllowed ? 'block' : 'none';\n",
              "\n",
              "      async function convertToInteractive(key) {\n",
              "        const element = document.querySelector('#df-8f72305c-004d-4f98-a72d-e9d1c4cb3913');\n",
              "        const dataTable =\n",
              "          await google.colab.kernel.invokeFunction('convertToInteractive',\n",
              "                                                    [key], {});\n",
              "        if (!dataTable) return;\n",
              "\n",
              "        const docLinkHtml = 'Like what you see? Visit the ' +\n",
              "          '<a target=\"_blank\" href=https://colab.research.google.com/notebooks/data_table.ipynb>data table notebook</a>'\n",
              "          + ' to learn more about interactive tables.';\n",
              "        element.innerHTML = '';\n",
              "        dataTable['output_type'] = 'display_data';\n",
              "        await google.colab.output.renderOutput(dataTable, element);\n",
              "        const docLink = document.createElement('div');\n",
              "        docLink.innerHTML = docLinkHtml;\n",
              "        element.appendChild(docLink);\n",
              "      }\n",
              "    </script>\n",
              "  </div>\n",
              "\n",
              "\n",
              "<div id=\"df-8926500f-7835-4ed4-9751-97450cf65225\">\n",
              "  <button class=\"colab-df-quickchart\" onclick=\"quickchart('df-8926500f-7835-4ed4-9751-97450cf65225')\"\n",
              "            title=\"Suggest charts\"\n",
              "            style=\"display:none;\">\n",
              "\n",
              "<svg xmlns=\"http://www.w3.org/2000/svg\" height=\"24px\"viewBox=\"0 0 24 24\"\n",
              "     width=\"24px\">\n",
              "    <g>\n",
              "        <path d=\"M19 3H5c-1.1 0-2 .9-2 2v14c0 1.1.9 2 2 2h14c1.1 0 2-.9 2-2V5c0-1.1-.9-2-2-2zM9 17H7v-7h2v7zm4 0h-2V7h2v10zm4 0h-2v-4h2v4z\"/>\n",
              "    </g>\n",
              "</svg>\n",
              "  </button>\n",
              "\n",
              "<style>\n",
              "  .colab-df-quickchart {\n",
              "      --bg-color: #E8F0FE;\n",
              "      --fill-color: #1967D2;\n",
              "      --hover-bg-color: #E2EBFA;\n",
              "      --hover-fill-color: #174EA6;\n",
              "      --disabled-fill-color: #AAA;\n",
              "      --disabled-bg-color: #DDD;\n",
              "  }\n",
              "\n",
              "  [theme=dark] .colab-df-quickchart {\n",
              "      --bg-color: #3B4455;\n",
              "      --fill-color: #D2E3FC;\n",
              "      --hover-bg-color: #434B5C;\n",
              "      --hover-fill-color: #FFFFFF;\n",
              "      --disabled-bg-color: #3B4455;\n",
              "      --disabled-fill-color: #666;\n",
              "  }\n",
              "\n",
              "  .colab-df-quickchart {\n",
              "    background-color: var(--bg-color);\n",
              "    border: none;\n",
              "    border-radius: 50%;\n",
              "    cursor: pointer;\n",
              "    display: none;\n",
              "    fill: var(--fill-color);\n",
              "    height: 32px;\n",
              "    padding: 0;\n",
              "    width: 32px;\n",
              "  }\n",
              "\n",
              "  .colab-df-quickchart:hover {\n",
              "    background-color: var(--hover-bg-color);\n",
              "    box-shadow: 0 1px 2px rgba(60, 64, 67, 0.3), 0 1px 3px 1px rgba(60, 64, 67, 0.15);\n",
              "    fill: var(--button-hover-fill-color);\n",
              "  }\n",
              "\n",
              "  .colab-df-quickchart-complete:disabled,\n",
              "  .colab-df-quickchart-complete:disabled:hover {\n",
              "    background-color: var(--disabled-bg-color);\n",
              "    fill: var(--disabled-fill-color);\n",
              "    box-shadow: none;\n",
              "  }\n",
              "\n",
              "  .colab-df-spinner {\n",
              "    border: 2px solid var(--fill-color);\n",
              "    border-color: transparent;\n",
              "    border-bottom-color: var(--fill-color);\n",
              "    animation:\n",
              "      spin 1s steps(1) infinite;\n",
              "  }\n",
              "\n",
              "  @keyframes spin {\n",
              "    0% {\n",
              "      border-color: transparent;\n",
              "      border-bottom-color: var(--fill-color);\n",
              "      border-left-color: var(--fill-color);\n",
              "    }\n",
              "    20% {\n",
              "      border-color: transparent;\n",
              "      border-left-color: var(--fill-color);\n",
              "      border-top-color: var(--fill-color);\n",
              "    }\n",
              "    30% {\n",
              "      border-color: transparent;\n",
              "      border-left-color: var(--fill-color);\n",
              "      border-top-color: var(--fill-color);\n",
              "      border-right-color: var(--fill-color);\n",
              "    }\n",
              "    40% {\n",
              "      border-color: transparent;\n",
              "      border-right-color: var(--fill-color);\n",
              "      border-top-color: var(--fill-color);\n",
              "    }\n",
              "    60% {\n",
              "      border-color: transparent;\n",
              "      border-right-color: var(--fill-color);\n",
              "    }\n",
              "    80% {\n",
              "      border-color: transparent;\n",
              "      border-right-color: var(--fill-color);\n",
              "      border-bottom-color: var(--fill-color);\n",
              "    }\n",
              "    90% {\n",
              "      border-color: transparent;\n",
              "      border-bottom-color: var(--fill-color);\n",
              "    }\n",
              "  }\n",
              "</style>\n",
              "\n",
              "  <script>\n",
              "    async function quickchart(key) {\n",
              "      const quickchartButtonEl =\n",
              "        document.querySelector('#' + key + ' button');\n",
              "      quickchartButtonEl.disabled = true;  // To prevent multiple clicks.\n",
              "      quickchartButtonEl.classList.add('colab-df-spinner');\n",
              "      try {\n",
              "        const charts = await google.colab.kernel.invokeFunction(\n",
              "            'suggestCharts', [key], {});\n",
              "      } catch (error) {\n",
              "        console.error('Error during call to suggestCharts:', error);\n",
              "      }\n",
              "      quickchartButtonEl.classList.remove('colab-df-spinner');\n",
              "      quickchartButtonEl.classList.add('colab-df-quickchart-complete');\n",
              "    }\n",
              "    (() => {\n",
              "      let quickchartButtonEl =\n",
              "        document.querySelector('#df-8926500f-7835-4ed4-9751-97450cf65225 button');\n",
              "      quickchartButtonEl.style.display =\n",
              "        google.colab.kernel.accessAllowed ? 'block' : 'none';\n",
              "    })();\n",
              "  </script>\n",
              "</div>\n",
              "\n",
              "    </div>\n",
              "  </div>\n"
            ],
            "application/vnd.google.colaboratory.intrinsic+json": {
              "type": "dataframe"
            }
          },
          "metadata": {},
          "execution_count": 22
        }
      ]
    },
    {
      "cell_type": "code",
      "source": [
        "data['family_disabilities'].fillna('No', inplace=True)"
      ],
      "metadata": {
        "id": "VIg1HSAYNZBd"
      },
      "execution_count": 23,
      "outputs": []
    },
    {
      "cell_type": "code",
      "source": [
        "data.groupby('age')['age'].count().sort_values(ascending = False)"
      ],
      "metadata": {
        "colab": {
          "base_uri": "https://localhost:8080/"
        },
        "id": "jd0XzKe1WbG1",
        "outputId": "3e44fc43-f258-490d-f389-5e10c2b89680"
      },
      "execution_count": 24,
      "outputs": [
        {
          "output_type": "execute_result",
          "data": {
            "text/plain": [
              "age\n",
              "25.0    23\n",
              "23.0    21\n",
              "22.0    20\n",
              "24.0    17\n",
              "34.0    17\n",
              "45.0    14\n",
              "29.0    14\n",
              "21.0    14\n",
              "44.0    12\n",
              "47.0    12\n",
              "27.0    12\n",
              "40.0    12\n",
              "43.0    12\n",
              "30.0    11\n",
              "19.0    11\n",
              "51.0    10\n",
              "48.0    10\n",
              "52.0    10\n",
              "56.0     9\n",
              "42.0     9\n",
              "26.0     9\n",
              "32.0     9\n",
              "36.0     9\n",
              "28.0     9\n",
              "61.0     8\n",
              "59.0     8\n",
              "20.0     8\n",
              "54.0     8\n",
              "31.0     8\n",
              "38.0     8\n",
              "46.0     7\n",
              "39.0     7\n",
              "60.0     7\n",
              "62.0     6\n",
              "65.0     6\n",
              "33.0     6\n",
              "55.0     6\n",
              "64.0     6\n",
              "58.0     6\n",
              "35.0     5\n",
              "41.0     5\n",
              "37.0     5\n",
              "53.0     4\n",
              "63.0     4\n",
              "57.0     3\n",
              "49.0     3\n",
              "50.0     3\n",
              "66.0     3\n",
              "70.0     2\n",
              "18.0     2\n",
              "67.0     2\n",
              "68.0     1\n",
              "83.0     1\n",
              "84.0     1\n",
              "90.0     1\n",
              "Name: age, dtype: int64"
            ]
          },
          "metadata": {},
          "execution_count": 24
        }
      ]
    },
    {
      "cell_type": "code",
      "source": [
        "median_value_age = data['age'].median()\n",
        "print(median_value_age)"
      ],
      "metadata": {
        "id": "wu64PYPVWr2Z",
        "colab": {
          "base_uri": "https://localhost:8080/"
        },
        "outputId": "bd431611-2653-40ac-d112-595a09d01e7e"
      },
      "execution_count": 27,
      "outputs": [
        {
          "output_type": "stream",
          "name": "stdout",
          "text": [
            "37.0\n"
          ]
        }
      ]
    },
    {
      "cell_type": "code",
      "source": [
        "data['age'].fillna(median_value_age,  inplace=True)"
      ],
      "metadata": {
        "id": "O0sc8BLuWzyC"
      },
      "execution_count": 28,
      "outputs": []
    },
    {
      "cell_type": "markdown",
      "source": [
        "For missing vaues in  below features:\n",
        "- political_orientation             270\n",
        "- salary                            168\n",
        "- vehicle_type                       63 - **replacing by no vehicle category**\n",
        "\n",
        "We will try to fill based on some prediction models.  "
      ],
      "metadata": {
        "id": "4MI12WucXXiF"
      }
    },
    {
      "cell_type": "code",
      "source": [
        "data.groupby('vehicle_type')['vehicle_type'].count().sort_values(ascending = False)"
      ],
      "metadata": {
        "colab": {
          "base_uri": "https://localhost:8080/"
        },
        "id": "Y9aosXHzXwja",
        "outputId": "8924b604-51ce-4fdb-8497-0c45b88165c6"
      },
      "execution_count": 29,
      "outputs": [
        {
          "output_type": "execute_result",
          "data": {
            "text/plain": [
              "vehicle_type\n",
              "Car                   339\n",
              "Car and Motorcycle     67\n",
              "Motorcycle/Scooter      3\n",
              "Name: vehicle_type, dtype: int64"
            ]
          },
          "metadata": {},
          "execution_count": 29
        }
      ]
    },
    {
      "cell_type": "markdown",
      "source": [
        "spróbuj dodać nową kategorię - brak pojazdu"
      ],
      "metadata": {
        "id": "IU_kQs2hXkVN"
      }
    },
    {
      "cell_type": "code",
      "source": [
        "data['vehicle_type'].isna().sum()"
      ],
      "metadata": {
        "colab": {
          "base_uri": "https://localhost:8080/"
        },
        "id": "M6SL8FlhX7su",
        "outputId": "8001c9c2-ec65-4482-b8f4-4ecbbf733fcc"
      },
      "execution_count": 30,
      "outputs": [
        {
          "output_type": "execute_result",
          "data": {
            "text/plain": [
              "63"
            ]
          },
          "metadata": {},
          "execution_count": 30
        }
      ]
    },
    {
      "cell_type": "code",
      "source": [
        "data['vehicle_type'].fillna('no vehicle',  inplace=True)"
      ],
      "metadata": {
        "id": "CgW2XgGGrytr"
      },
      "execution_count": 31,
      "outputs": []
    },
    {
      "cell_type": "code",
      "source": [
        "data['vehicle_type'].isna().sum()"
      ],
      "metadata": {
        "colab": {
          "base_uri": "https://localhost:8080/"
        },
        "id": "GZcRxMHrr6uS",
        "outputId": "d9ba5b2b-d591-4a08-a318-793b1a6a6b0e"
      },
      "execution_count": 32,
      "outputs": [
        {
          "output_type": "execute_result",
          "data": {
            "text/plain": [
              "0"
            ]
          },
          "metadata": {},
          "execution_count": 32
        }
      ]
    },
    {
      "cell_type": "markdown",
      "source": [
        "random choice imputig for salary"
      ],
      "metadata": {
        "id": "fpMAgauvablf"
      }
    },
    {
      "cell_type": "code",
      "source": [
        "# Funkcja do losowego wyboru wartości na podstawie istniejącego rozkładu\n",
        "def random_fillna(series, proportions):\n",
        "    na_indices = series[series.isna()].index\n",
        "    fill_values = np.random.choice(proportions.index, size=len(na_indices), p=proportions.values)\n",
        "    series.loc[na_indices] = fill_values\n",
        "    return series\n"
      ],
      "metadata": {
        "id": "ORHMyTMoam19"
      },
      "execution_count": 33,
      "outputs": []
    },
    {
      "cell_type": "code",
      "source": [
        "data.groupby('salary')['salary'].count().sort_values(ascending = False)"
      ],
      "metadata": {
        "colab": {
          "base_uri": "https://localhost:8080/"
        },
        "id": "pEqZWCEGeY6s",
        "outputId": "555ffd0c-050e-42ec-e8c3-bc2924c22b5b"
      },
      "execution_count": 34,
      "outputs": [
        {
          "output_type": "execute_result",
          "data": {
            "text/plain": [
              "salary\n",
              "Up to €15000                 127\n",
              "Between €15000 and €28000    104\n",
              "Between €28000 and €50000     59\n",
              "Over €50000                   14\n",
              "Name: salary, dtype: int64"
            ]
          },
          "metadata": {},
          "execution_count": 34
        }
      ]
    },
    {
      "cell_type": "code",
      "source": [
        "# Rozkład istniejących wartości\n",
        "proportions_salary = data['salary'].value_counts(normalize=True)\n",
        "print(proportions_salary)"
      ],
      "metadata": {
        "colab": {
          "base_uri": "https://localhost:8080/"
        },
        "id": "q-SNaRt_gV2T",
        "outputId": "46180230-f91b-4578-f585-a972106f7ba0"
      },
      "execution_count": 35,
      "outputs": [
        {
          "output_type": "stream",
          "name": "stdout",
          "text": [
            "salary\n",
            "Up to €15000                 0.417763\n",
            "Between €15000 and €28000    0.342105\n",
            "Between €28000 and €50000    0.194079\n",
            "Over €50000                  0.046053\n",
            "Name: proportion, dtype: float64\n"
          ]
        }
      ]
    },
    {
      "cell_type": "code",
      "source": [
        "data['salary'] = random_fillna(data['salary'], proportions_salary) # tu poprawione"
      ],
      "metadata": {
        "colab": {
          "base_uri": "https://localhost:8080/"
        },
        "id": "kG0_remggbTa",
        "outputId": "206da732-6447-40cc-96d1-3478665bb948"
      },
      "execution_count": 36,
      "outputs": [
        {
          "output_type": "stream",
          "name": "stderr",
          "text": [
            "<ipython-input-33-a0d5548a0d38>:5: SettingWithCopyWarning: \n",
            "A value is trying to be set on a copy of a slice from a DataFrame\n",
            "\n",
            "See the caveats in the documentation: https://pandas.pydata.org/pandas-docs/stable/user_guide/indexing.html#returning-a-view-versus-a-copy\n",
            "  series.loc[na_indices] = fill_values\n"
          ]
        }
      ]
    },
    {
      "cell_type": "code",
      "source": [
        "data['salary'].isna().sum()"
      ],
      "metadata": {
        "colab": {
          "base_uri": "https://localhost:8080/"
        },
        "id": "qcIuJ04Sgl33",
        "outputId": "1c4a65d6-2e13-4b44-fc70-7fbe36e25835"
      },
      "execution_count": 37,
      "outputs": [
        {
          "output_type": "execute_result",
          "data": {
            "text/plain": [
              "0"
            ]
          },
          "metadata": {},
          "execution_count": 37
        }
      ]
    },
    {
      "cell_type": "code",
      "source": [
        "data.groupby('political_orientation')['political_orientation'].count().sort_values(ascending = False)"
      ],
      "metadata": {
        "colab": {
          "base_uri": "https://localhost:8080/"
        },
        "id": "pPGapnEFsxuV",
        "outputId": "e101aa53-3b0c-4594-c623-7a58e2abb818"
      },
      "execution_count": 38,
      "outputs": [
        {
          "output_type": "execute_result",
          "data": {
            "text/plain": [
              "political_orientation\n",
              "Left      148\n",
              "Right      29\n",
              "Center     25\n",
              "Name: political_orientation, dtype: int64"
            ]
          },
          "metadata": {},
          "execution_count": 38
        }
      ]
    },
    {
      "cell_type": "code",
      "source": [
        "data['political_orientation'].fillna('not specified',  inplace=True)"
      ],
      "metadata": {
        "id": "96c2xdDes7XM"
      },
      "execution_count": 39,
      "outputs": []
    },
    {
      "cell_type": "code",
      "source": [
        "data['political_orientation'].isna().sum()"
      ],
      "metadata": {
        "colab": {
          "base_uri": "https://localhost:8080/"
        },
        "id": "67GSBdGFtST9",
        "outputId": "b628ee99-6456-43eb-f02b-8f1fbc46ea26"
      },
      "execution_count": 40,
      "outputs": [
        {
          "output_type": "execute_result",
          "data": {
            "text/plain": [
              "0"
            ]
          },
          "metadata": {},
          "execution_count": 40
        }
      ]
    },
    {
      "cell_type": "code",
      "source": [
        "data.info()"
      ],
      "metadata": {
        "colab": {
          "base_uri": "https://localhost:8080/"
        },
        "id": "TdfO7WnKkxZb",
        "outputId": "7728ad4a-ddb7-4607-d982-532833b9d46e"
      },
      "execution_count": 41,
      "outputs": [
        {
          "output_type": "stream",
          "name": "stdout",
          "text": [
            "<class 'pandas.core.frame.DataFrame'>\n",
            "RangeIndex: 472 entries, 0 to 471\n",
            "Data columns (total 43 columns):\n",
            " #   Column                          Non-Null Count  Dtype  \n",
            "---  ------                          --------------  -----  \n",
            " 0   age                             472 non-null    float64\n",
            " 1   sex                             472 non-null    object \n",
            " 2   marital_status                  472 non-null    object \n",
            " 3   residence                       472 non-null    object \n",
            " 4   education                       472 non-null    object \n",
            " 5   occupation                      472 non-null    object \n",
            " 6   out_of_region_employment        472 non-null    object \n",
            " 7   family_members                  472 non-null    object \n",
            " 8   family_disabilities             472 non-null    object \n",
            " 9   house_floor                     472 non-null    object \n",
            " 10  earthquake80                    472 non-null    object \n",
            " 11  political_orientation           472 non-null    object \n",
            " 12  shocks                          472 non-null    int64  \n",
            " 13  fear                            472 non-null    int64  \n",
            " 14  anxiety                         472 non-null    int64  \n",
            " 15  physiological_symptoms          472 non-null    int64  \n",
            " 16  decision_timeliness             472 non-null    int64  \n",
            " 17  insomnia                        472 non-null    int64  \n",
            " 18  seismic_concern                 472 non-null    int64  \n",
            " 19  abroad                          472 non-null    object \n",
            " 20  out_of_region                   472 non-null    object \n",
            " 21  out_of_region_earthquake        472 non-null    object \n",
            " 22  change_of_residence             472 non-null    object \n",
            " 23  change_of_residence_earthquake  472 non-null    object \n",
            " 24  red_zone_frequency              472 non-null    object \n",
            " 25  radio_info                      472 non-null    int64  \n",
            " 26  TV_info                         472 non-null    int64  \n",
            " 27  social_media_info               472 non-null    int64  \n",
            " 28  newspaper_info                  472 non-null    int64  \n",
            " 29  app_info                        472 non-null    int64  \n",
            " 30  municipal_institutions_trust    472 non-null    int64  \n",
            " 31  regional_institutions_trust     472 non-null    int64  \n",
            " 32  national_institutions_trust     472 non-null    int64  \n",
            " 33  INGV_trust                      472 non-null    int64  \n",
            " 34  security                        472 non-null    int64  \n",
            " 35  reception_centers               472 non-null    object \n",
            " 36  property_house                  472 non-null    object \n",
            " 37  housing_type                    472 non-null    object \n",
            " 38  elevator                        472 non-null    object \n",
            " 39  n_vehicles                      472 non-null    int64  \n",
            " 40  vehicle_type                    472 non-null    object \n",
            " 41  end_of_month                    472 non-null    int64  \n",
            " 42  salary                          472 non-null    object \n",
            "dtypes: float64(1), int64(19), object(23)\n",
            "memory usage: 158.7+ KB\n"
          ]
        }
      ]
    },
    {
      "cell_type": "markdown",
      "source": [
        "## Encoding - converting on numeric values"
      ],
      "metadata": {
        "id": "8-YSq2aDlfPe"
      }
    },
    {
      "cell_type": "code",
      "source": [
        "# Identyfikacja kolumn typu object\n",
        "object_columns = data.select_dtypes(include='object').columns\n",
        "print(f\"\\nColumns of type object: {object_columns}\")"
      ],
      "metadata": {
        "colab": {
          "base_uri": "https://localhost:8080/"
        },
        "id": "QRgtn0HrlcQr",
        "outputId": "e3e58797-3842-45bf-b8bb-1fd5aa6fa0ba"
      },
      "execution_count": 42,
      "outputs": [
        {
          "output_type": "stream",
          "name": "stdout",
          "text": [
            "\n",
            "Columns of type object: Index(['sex', 'marital_status', 'residence', 'education', 'occupation',\n",
            "       'out_of_region_employment', 'family_members', 'family_disabilities',\n",
            "       'house_floor', 'earthquake80', 'political_orientation', 'abroad',\n",
            "       'out_of_region', 'out_of_region_earthquake', 'change_of_residence',\n",
            "       'change_of_residence_earthquake', 'red_zone_frequency',\n",
            "       'reception_centers', 'property_house', 'housing_type', 'elevator',\n",
            "       'vehicle_type', 'salary'],\n",
            "      dtype='object')\n"
          ]
        }
      ]
    },
    {
      "cell_type": "code",
      "source": [
        "# Inicjalizacja LabelEncoder\n",
        "label_encoders = {}\n",
        "\n",
        "# Kodowanie wartości kategorycznych\n",
        "for col in object_columns:\n",
        "    if data[col].dtype == 'object':\n",
        "        le = LabelEncoder()\n",
        "        data[col] = le.fit_transform(data[col])\n",
        "        label_encoders[col] = le"
      ],
      "metadata": {
        "id": "FR2447nMyWFc"
      },
      "execution_count": 43,
      "outputs": []
    },
    {
      "cell_type": "code",
      "source": [
        "data.info()"
      ],
      "metadata": {
        "colab": {
          "base_uri": "https://localhost:8080/"
        },
        "id": "VnQTuf4Pytby",
        "outputId": "8b6eb69d-c46c-4c51-e1d0-53aa235b543b"
      },
      "execution_count": 44,
      "outputs": [
        {
          "output_type": "stream",
          "name": "stdout",
          "text": [
            "<class 'pandas.core.frame.DataFrame'>\n",
            "RangeIndex: 472 entries, 0 to 471\n",
            "Data columns (total 43 columns):\n",
            " #   Column                          Non-Null Count  Dtype  \n",
            "---  ------                          --------------  -----  \n",
            " 0   age                             472 non-null    float64\n",
            " 1   sex                             472 non-null    int64  \n",
            " 2   marital_status                  472 non-null    int64  \n",
            " 3   residence                       472 non-null    int64  \n",
            " 4   education                       472 non-null    int64  \n",
            " 5   occupation                      472 non-null    int64  \n",
            " 6   out_of_region_employment        472 non-null    int64  \n",
            " 7   family_members                  472 non-null    int64  \n",
            " 8   family_disabilities             472 non-null    int64  \n",
            " 9   house_floor                     472 non-null    int64  \n",
            " 10  earthquake80                    472 non-null    int64  \n",
            " 11  political_orientation           472 non-null    int64  \n",
            " 12  shocks                          472 non-null    int64  \n",
            " 13  fear                            472 non-null    int64  \n",
            " 14  anxiety                         472 non-null    int64  \n",
            " 15  physiological_symptoms          472 non-null    int64  \n",
            " 16  decision_timeliness             472 non-null    int64  \n",
            " 17  insomnia                        472 non-null    int64  \n",
            " 18  seismic_concern                 472 non-null    int64  \n",
            " 19  abroad                          472 non-null    int64  \n",
            " 20  out_of_region                   472 non-null    int64  \n",
            " 21  out_of_region_earthquake        472 non-null    int64  \n",
            " 22  change_of_residence             472 non-null    int64  \n",
            " 23  change_of_residence_earthquake  472 non-null    int64  \n",
            " 24  red_zone_frequency              472 non-null    int64  \n",
            " 25  radio_info                      472 non-null    int64  \n",
            " 26  TV_info                         472 non-null    int64  \n",
            " 27  social_media_info               472 non-null    int64  \n",
            " 28  newspaper_info                  472 non-null    int64  \n",
            " 29  app_info                        472 non-null    int64  \n",
            " 30  municipal_institutions_trust    472 non-null    int64  \n",
            " 31  regional_institutions_trust     472 non-null    int64  \n",
            " 32  national_institutions_trust     472 non-null    int64  \n",
            " 33  INGV_trust                      472 non-null    int64  \n",
            " 34  security                        472 non-null    int64  \n",
            " 35  reception_centers               472 non-null    int64  \n",
            " 36  property_house                  472 non-null    int64  \n",
            " 37  housing_type                    472 non-null    int64  \n",
            " 38  elevator                        472 non-null    int64  \n",
            " 39  n_vehicles                      472 non-null    int64  \n",
            " 40  vehicle_type                    472 non-null    int64  \n",
            " 41  end_of_month                    472 non-null    int64  \n",
            " 42  salary                          472 non-null    int64  \n",
            "dtypes: float64(1), int64(42)\n",
            "memory usage: 158.7 KB\n"
          ]
        }
      ]
    },
    {
      "cell_type": "code",
      "source": [
        "data['change_of_residence_earthquake'].unique()"
      ],
      "metadata": {
        "colab": {
          "base_uri": "https://localhost:8080/"
        },
        "id": "Nii0TU3py2jd",
        "outputId": "a8e6c7e7-3b2e-49f0-9587-b7f47439770b"
      },
      "execution_count": 45,
      "outputs": [
        {
          "output_type": "execute_result",
          "data": {
            "text/plain": [
              "array([0, 1])"
            ]
          },
          "metadata": {},
          "execution_count": 45
        }
      ]
    },
    {
      "cell_type": "markdown",
      "source": [
        "## Correlation check\n",
        "\n",
        "spróbować z inną korelacja do danych kategorycznych  "
      ],
      "metadata": {
        "id": "7R-y55YoKA7L"
      }
    },
    {
      "cell_type": "code",
      "source": [
        "data_corr = data.corr()"
      ],
      "metadata": {
        "id": "MHruGPCQzHG9"
      },
      "execution_count": 46,
      "outputs": []
    },
    {
      "cell_type": "code",
      "source": [
        "plt.figure(figsize=(10, 8))\n",
        "sns.heatmap(data_corr, annot=False, cmap='coolwarm', vmin=-1, vmax=1)\n",
        "\n",
        "# Dodanie tytułu\n",
        "plt.title('Correlation Heatmap')\n",
        "plt.show()"
      ],
      "metadata": {
        "colab": {
          "base_uri": "https://localhost:8080/",
          "height": 917
        },
        "id": "MTzhH88ezPvF",
        "outputId": "dc412799-7c4a-417d-fdac-3ee0473c8877"
      },
      "execution_count": 47,
      "outputs": [
        {
          "output_type": "display_data",
          "data": {
            "text/plain": [
              "<Figure size 1000x800 with 2 Axes>"
            ],
            "image/png": "[encoded data removed]"
          },
          "metadata": {}
        }
      ]
    },
    {
      "cell_type": "markdown",
      "source": [
        "Let's now split the data into train and test set."
      ],
      "metadata": {
        "id": "vadoT7c5bRsy"
      }
    },
    {
      "cell_type": "code",
      "source": [
        "# zdefiniowanie zmiennych X i y do modelu\n",
        "y = data.pop('change_of_residence_earthquake')\n",
        "X = data"
      ],
      "metadata": {
        "id": "_bT9IYo5cI8H"
      },
      "execution_count": 48,
      "outputs": []
    },
    {
      "cell_type": "code",
      "source": [
        "y.shape"
      ],
      "metadata": {
        "colab": {
          "base_uri": "https://localhost:8080/"
        },
        "id": "yE6wAdjAce91",
        "outputId": "1aad99e3-4f50-4922-bf9e-f58c95daed8d"
      },
      "execution_count": 49,
      "outputs": [
        {
          "output_type": "execute_result",
          "data": {
            "text/plain": [
              "(472,)"
            ]
          },
          "metadata": {},
          "execution_count": 49
        }
      ]
    },
    {
      "cell_type": "code",
      "source": [
        "y.value_counts()"
      ],
      "metadata": {
        "colab": {
          "base_uri": "https://localhost:8080/"
        },
        "id": "W5SJoVQJcgz5",
        "outputId": "e4141233-fc9c-418f-8a7f-639ef3d58e8d"
      },
      "execution_count": 50,
      "outputs": [
        {
          "output_type": "execute_result",
          "data": {
            "text/plain": [
              "change_of_residence_earthquake\n",
              "0    273\n",
              "1    199\n",
              "Name: count, dtype: int64"
            ]
          },
          "metadata": {},
          "execution_count": 50
        }
      ]
    },
    {
      "cell_type": "markdown",
      "source": [
        "It looks like we have quite balanaced data. 199 is willing to move due to earthquake and 273 no.  "
      ],
      "metadata": {
        "id": "gdrhlxT9c5SL"
      }
    },
    {
      "cell_type": "code",
      "source": [
        "X_train, X_test, y_train, y_test = train_test_split(X, y, test_size=0.2, random_state=123)"
      ],
      "metadata": {
        "id": "R4-YZpsTcWv2"
      },
      "execution_count": 51,
      "outputs": []
    },
    {
      "cell_type": "markdown",
      "source": [
        "## Logistic Regression model"
      ],
      "metadata": {
        "id": "DNzWH3sNdyP-"
      }
    },
    {
      "cell_type": "code",
      "source": [
        "# inicjalizacja regresji logistycznej\n",
        "model = LogisticRegression()\n",
        "# trenowanie modelu\n",
        "model.fit(X_train, y_train)"
      ],
      "metadata": {
        "colab": {
          "base_uri": "https://localhost:8080/",
          "height": 213
        },
        "id": "D12ifwx_caKl",
        "outputId": "a7e71d24-4cae-403d-baf4-7bb1dfea0b9b"
      },
      "execution_count": 52,
      "outputs": [
        {
          "output_type": "stream",
          "name": "stderr",
          "text": [
            "/usr/local/lib/python3.10/dist-packages/sklearn/linear_model/_logistic.py:458: ConvergenceWarning: lbfgs failed to converge (status=1):\n",
            "STOP: TOTAL NO. of ITERATIONS REACHED LIMIT.\n",
            "\n",
            "Increase the number of iterations (max_iter) or scale the data as shown in:\n",
            "    https://scikit-learn.org/stable/modules/preprocessing.html\n",
            "Please also refer to the documentation for alternative solver options:\n",
            "    https://scikit-learn.org/stable/modules/linear_model.html#logistic-regression\n",
            "  n_iter_i = _check_optimize_result(\n"
          ]
        },
        {
          "output_type": "execute_result",
          "data": {
            "text/plain": [
              "LogisticRegression()"
            ],
            "text/html": [
              "<style>#sk-container-id-1 {color: black;background-color: white;}#sk-container-id-1 pre{padding: 0;}#sk-container-id-1 div.sk-toggleable {background-color: white;}#sk-container-id-1 label.sk-toggleable__label {cursor: pointer;display: block;width: 100%;margin-bottom: 0;padding: 0.3em;box-sizing: border-box;text-align: center;}#sk-container-id-1 label.sk-toggleable__label-arrow:before {content: \"▸\";float: left;margin-right: 0.25em;color: #696969;}#sk-container-id-1 label.sk-toggleable__label-arrow:hover:before {color: black;}#sk-container-id-1 div.sk-estimator:hover label.sk-toggleable__label-arrow:before {color: black;}#sk-container-id-1 div.sk-toggleable__content {max-height: 0;max-width: 0;overflow: hidden;text-align: left;background-color: #f0f8ff;}#sk-container-id-1 div.sk-toggleable__content pre {margin: 0.2em;color: black;border-radius: 0.25em;background-color: #f0f8ff;}#sk-container-id-1 input.sk-toggleable__control:checked~div.sk-toggleable__content {max-height: 200px;max-width: 100%;overflow: auto;}#sk-container-id-1 input.sk-toggleable__control:checked~label.sk-toggleable__label-arrow:before {content: \"▾\";}#sk-container-id-1 div.sk-estimator input.sk-toggleable__control:checked~label.sk-toggleable__label {background-color: #d4ebff;}#sk-container-id-1 div.sk-label input.sk-toggleable__control:checked~label.sk-toggleable__label {background-color: #d4ebff;}#sk-container-id-1 input.sk-hidden--visually {border: 0;clip: rect(1px 1px 1px 1px);clip: rect(1px, 1px, 1px, 1px);height: 1px;margin: -1px;overflow: hidden;padding: 0;position: absolute;width: 1px;}#sk-container-id-1 div.sk-estimator {font-family: monospace;background-color: #f0f8ff;border: 1px dotted black;border-radius: 0.25em;box-sizing: border-box;margin-bottom: 0.5em;}#sk-container-id-1 div.sk-estimator:hover {background-color: #d4ebff;}#sk-container-id-1 div.sk-parallel-item::after {content: \"\";width: 100%;border-bottom: 1px solid gray;flex-grow: 1;}#sk-container-id-1 div.sk-label:hover label.sk-toggleable__label {background-color: #d4ebff;}#sk-container-id-1 div.sk-serial::before {content: \"\";position: absolute;border-left: 1px solid gray;box-sizing: border-box;top: 0;bottom: 0;left: 50%;z-index: 0;}#sk-container-id-1 div.sk-serial {display: flex;flex-direction: column;align-items: center;background-color: white;padding-right: 0.2em;padding-left: 0.2em;position: relative;}#sk-container-id-1 div.sk-item {position: relative;z-index: 1;}#sk-container-id-1 div.sk-parallel {display: flex;align-items: stretch;justify-content: center;background-color: white;position: relative;}#sk-container-id-1 div.sk-item::before, #sk-container-id-1 div.sk-parallel-item::before {content: \"\";position: absolute;border-left: 1px solid gray;box-sizing: border-box;top: 0;bottom: 0;left: 50%;z-index: -1;}#sk-container-id-1 div.sk-parallel-item {display: flex;flex-direction: column;z-index: 1;position: relative;background-color: white;}#sk-container-id-1 div.sk-parallel-item:first-child::after {align-self: flex-end;width: 50%;}#sk-container-id-1 div.sk-parallel-item:last-child::after {align-self: flex-start;width: 50%;}#sk-container-id-1 div.sk-parallel-item:only-child::after {width: 0;}#sk-container-id-1 div.sk-dashed-wrapped {border: 1px dashed gray;margin: 0 0.4em 0.5em 0.4em;box-sizing: border-box;padding-bottom: 0.4em;background-color: white;}#sk-container-id-1 div.sk-label label {font-family: monospace;font-weight: bold;display: inline-block;line-height: 1.2em;}#sk-container-id-1 div.sk-label-container {text-align: center;}#sk-container-id-1 div.sk-container {/* jupyter's `normalize.less` sets `[hidden] { display: none; }` but bootstrap.min.css set `[hidden] { display: none !important; }` so we also need the `!important` here to be able to override the default hidden behavior on the sphinx rendered scikit-learn.org. See: https://github.com/scikit-learn/scikit-learn/issues/21755 */display: inline-block !important;position: relative;}#sk-container-id-1 div.sk-text-repr-fallback {display: none;}</style><div id=\"sk-container-id-1\" class=\"sk-top-container\"><div class=\"sk-text-repr-fallback\"><pre>LogisticRegression()</pre><b>In a Jupyter environment, please rerun this cell to show the HTML representation or trust the notebook. <br />On GitHub, the HTML representation is unable to render, please try loading this page with nbviewer.org.</b></div><div class=\"sk-container\" hidden><div class=\"sk-item\"><div class=\"sk-estimator sk-toggleable\"><input class=\"sk-toggleable__control sk-hidden--visually\" id=\"sk-estimator-id-1\" type=\"checkbox\" checked><label for=\"sk-estimator-id-1\" class=\"sk-toggleable__label sk-toggleable__label-arrow\">LogisticRegression</label><div class=\"sk-toggleable__content\"><pre>LogisticRegression()</pre></div></div></div></div></div>"
            ]
          },
          "metadata": {},
          "execution_count": 52
        }
      ]
    },
    {
      "cell_type": "code",
      "source": [
        "y_pred = model.predict(X_test)"
      ],
      "metadata": {
        "id": "qwn5OMX4dM-K"
      },
      "execution_count": 53,
      "outputs": []
    },
    {
      "cell_type": "code",
      "source": [
        "print(classification_report(y_test, y_pred))"
      ],
      "metadata": {
        "colab": {
          "base_uri": "https://localhost:8080/"
        },
        "id": "2GFSazaBdcq2",
        "outputId": "d40c1833-e486-43c1-a9a6-0172aa27d3ea"
      },
      "execution_count": 54,
      "outputs": [
        {
          "output_type": "stream",
          "name": "stdout",
          "text": [
            "              precision    recall  f1-score   support\n",
            "\n",
            "           0       0.88      0.92      0.90        53\n",
            "           1       0.90      0.83      0.86        42\n",
            "\n",
            "    accuracy                           0.88        95\n",
            "   macro avg       0.89      0.88      0.88        95\n",
            "weighted avg       0.88      0.88      0.88        95\n",
            "\n"
          ]
        }
      ]
    },
    {
      "cell_type": "code",
      "source": [
        "# get importance\n",
        "importance = model.coef_[0]\n",
        "# summarize feature importance\n",
        "for i,v in enumerate(importance):\n",
        " print('Feature: %0d, Score: %.5f' % (i,v))\n",
        "# plot feature importance\n",
        "plt.figure(figsize=(15, 6))\n",
        "plt.bar(X.columns, importance)\n",
        "plt.xticks(rotation=90)\n",
        "plt.show()"
      ],
      "metadata": {
        "colab": {
          "base_uri": "https://localhost:8080/",
          "height": 1000
        },
        "id": "ymtIOoND7_22",
        "outputId": "b1224b6d-49b3-40f6-aeca-5157ba9d7893"
      },
      "execution_count": 55,
      "outputs": [
        {
          "output_type": "stream",
          "name": "stdout",
          "text": [
            "Feature: 0, Score: -0.00488\n",
            "Feature: 1, Score: -0.01976\n",
            "Feature: 2, Score: -0.15491\n",
            "Feature: 3, Score: -0.00445\n",
            "Feature: 4, Score: 0.00225\n",
            "Feature: 5, Score: -0.03894\n",
            "Feature: 6, Score: 0.02278\n",
            "Feature: 7, Score: -0.01160\n",
            "Feature: 8, Score: -0.31479\n",
            "Feature: 9, Score: -0.13937\n",
            "Feature: 10, Score: 0.17079\n",
            "Feature: 11, Score: -0.10787\n",
            "Feature: 12, Score: 0.19394\n",
            "Feature: 13, Score: -0.18400\n",
            "Feature: 14, Score: 0.02225\n",
            "Feature: 15, Score: 0.17950\n",
            "Feature: 16, Score: -0.07049\n",
            "Feature: 17, Score: 0.06306\n",
            "Feature: 18, Score: 0.48101\n",
            "Feature: 19, Score: -0.58340\n",
            "Feature: 20, Score: -1.24416\n",
            "Feature: 21, Score: 3.71206\n",
            "Feature: 22, Score: 1.10591\n",
            "Feature: 23, Score: 0.76301\n",
            "Feature: 24, Score: -0.66011\n",
            "Feature: 25, Score: 0.05695\n",
            "Feature: 26, Score: 0.10425\n",
            "Feature: 27, Score: 0.03386\n",
            "Feature: 28, Score: 0.05962\n",
            "Feature: 29, Score: 0.27690\n",
            "Feature: 30, Score: -0.38594\n",
            "Feature: 31, Score: -0.04444\n",
            "Feature: 32, Score: -0.03557\n",
            "Feature: 33, Score: -0.20207\n",
            "Feature: 34, Score: 0.48082\n",
            "Feature: 35, Score: 0.15293\n",
            "Feature: 36, Score: -0.11654\n",
            "Feature: 37, Score: 0.54683\n",
            "Feature: 38, Score: 0.16940\n",
            "Feature: 39, Score: 0.08739\n",
            "Feature: 40, Score: -0.17828\n",
            "Feature: 41, Score: -0.08914\n"
          ]
        },
        {
          "output_type": "display_data",
          "data": {
            "text/plain": [
              "<Figure size 1500x600 with 1 Axes>"
            ],
            "image/png": "[encoded data removed]"
          },
          "metadata": {}
        }
      ]
    },
    {
      "cell_type": "markdown",
      "source": [
        "out_of_region_earthquake means \"Whether the participant works or studies outside the Campania region\"\n",
        "\n",
        "sprawdz z out of region employment"
      ],
      "metadata": {
        "id": "QpcaKntE-_-P"
      }
    },
    {
      "cell_type": "markdown",
      "source": [
        "## SVM linear"
      ],
      "metadata": {
        "id": "YEKnh05aff3W"
      }
    },
    {
      "cell_type": "code",
      "source": [
        "svm_lin = SVC(kernel='linear')\n",
        "svm_lin.fit(X,y)\n",
        "pred_lin = svm_lin.predict(X)"
      ],
      "metadata": {
        "id": "91TE3roffQby"
      },
      "execution_count": 56,
      "outputs": []
    },
    {
      "cell_type": "code",
      "source": [
        "print(classification_report(y, pred_lin))"
      ],
      "metadata": {
        "colab": {
          "base_uri": "https://localhost:8080/"
        },
        "id": "ia-gD5H2fYZx",
        "outputId": "229c6c8b-923b-4d44-ad7d-7673dd8a9571"
      },
      "execution_count": 57,
      "outputs": [
        {
          "output_type": "stream",
          "name": "stdout",
          "text": [
            "              precision    recall  f1-score   support\n",
            "\n",
            "           0       0.88      0.94      0.91       273\n",
            "           1       0.91      0.82      0.86       199\n",
            "\n",
            "    accuracy                           0.89       472\n",
            "   macro avg       0.89      0.88      0.89       472\n",
            "weighted avg       0.89      0.89      0.89       472\n",
            "\n"
          ]
        }
      ]
    },
    {
      "cell_type": "markdown",
      "source": [
        "gdzes musi byc zaleznosc liniowa"
      ],
      "metadata": {
        "id": "bVVAXaJVc9zp"
      }
    },
    {
      "cell_type": "code",
      "source": [
        "svm_poly = SVC(kernel='poly')\n",
        "svm_poly.fit(X,y)\n",
        "pred_poly = svm_poly.predict(X)"
      ],
      "metadata": {
        "id": "QR62Kw_7g1G0"
      },
      "execution_count": 58,
      "outputs": []
    },
    {
      "cell_type": "code",
      "source": [
        "print(classification_report(y, pred_poly))"
      ],
      "metadata": {
        "colab": {
          "base_uri": "https://localhost:8080/"
        },
        "id": "a5tkzi2Ag4B6",
        "outputId": "f746c6ba-bb80-44f7-a2ed-fd8f0fdad467"
      },
      "execution_count": 59,
      "outputs": [
        {
          "output_type": "stream",
          "name": "stdout",
          "text": [
            "              precision    recall  f1-score   support\n",
            "\n",
            "           0       0.72      0.88      0.79       273\n",
            "           1       0.76      0.53      0.62       199\n",
            "\n",
            "    accuracy                           0.73       472\n",
            "   macro avg       0.74      0.70      0.71       472\n",
            "weighted avg       0.74      0.73      0.72       472\n",
            "\n"
          ]
        }
      ]
    },
    {
      "cell_type": "code",
      "source": [
        "svm_rbf = SVC(kernel='rbf')\n",
        "svm_rbf.fit(X,y)\n",
        "pred_rbf = svm_rbf.predict(X)"
      ],
      "metadata": {
        "id": "EzJq8t_Gg7u5"
      },
      "execution_count": 60,
      "outputs": []
    },
    {
      "cell_type": "code",
      "source": [
        "print(classification_report(y, pred_rbf))"
      ],
      "metadata": {
        "colab": {
          "base_uri": "https://localhost:8080/"
        },
        "id": "CiU5JBxMg9AA",
        "outputId": "4201e126-b166-4a61-a34e-e9da1de69ed1"
      },
      "execution_count": 61,
      "outputs": [
        {
          "output_type": "stream",
          "name": "stdout",
          "text": [
            "              precision    recall  f1-score   support\n",
            "\n",
            "           0       0.72      0.82      0.77       273\n",
            "           1       0.70      0.56      0.62       199\n",
            "\n",
            "    accuracy                           0.71       472\n",
            "   macro avg       0.71      0.69      0.69       472\n",
            "weighted avg       0.71      0.71      0.71       472\n",
            "\n"
          ]
        }
      ]
    },
    {
      "cell_type": "markdown",
      "source": [
        "SVM **linear** is giving the best accuracy"
      ],
      "metadata": {
        "id": "tbJldR7LnL2H"
      }
    },
    {
      "cell_type": "markdown",
      "source": [
        "## Naive Bayes"
      ],
      "metadata": {
        "id": "lKCeQjIrnTbF"
      }
    },
    {
      "cell_type": "code",
      "source": [
        "mnb = MultinomialNB()\n",
        "mnb.fit(X_train, y_train)"
      ],
      "metadata": {
        "colab": {
          "base_uri": "https://localhost:8080/",
          "height": 74
        },
        "id": "nVjL64LHpA5V",
        "outputId": "ac0d062a-20f1-4169-bc98-194ae77b06e8"
      },
      "execution_count": 62,
      "outputs": [
        {
          "output_type": "execute_result",
          "data": {
            "text/plain": [
              "MultinomialNB()"
            ],
            "text/html": [
              "<style>#sk-container-id-2 {color: black;background-color: white;}#sk-container-id-2 pre{padding: 0;}#sk-container-id-2 div.sk-toggleable {background-color: white;}#sk-container-id-2 label.sk-toggleable__label {cursor: pointer;display: block;width: 100%;margin-bottom: 0;padding: 0.3em;box-sizing: border-box;text-align: center;}#sk-container-id-2 label.sk-toggleable__label-arrow:before {content: \"▸\";float: left;margin-right: 0.25em;color: #696969;}#sk-container-id-2 label.sk-toggleable__label-arrow:hover:before {color: black;}#sk-container-id-2 div.sk-estimator:hover label.sk-toggleable__label-arrow:before {color: black;}#sk-container-id-2 div.sk-toggleable__content {max-height: 0;max-width: 0;overflow: hidden;text-align: left;background-color: #f0f8ff;}#sk-container-id-2 div.sk-toggleable__content pre {margin: 0.2em;color: black;border-radius: 0.25em;background-color: #f0f8ff;}#sk-container-id-2 input.sk-toggleable__control:checked~div.sk-toggleable__content {max-height: 200px;max-width: 100%;overflow: auto;}#sk-container-id-2 input.sk-toggleable__control:checked~label.sk-toggleable__label-arrow:before {content: \"▾\";}#sk-container-id-2 div.sk-estimator input.sk-toggleable__control:checked~label.sk-toggleable__label {background-color: #d4ebff;}#sk-container-id-2 div.sk-label input.sk-toggleable__control:checked~label.sk-toggleable__label {background-color: #d4ebff;}#sk-container-id-2 input.sk-hidden--visually {border: 0;clip: rect(1px 1px 1px 1px);clip: rect(1px, 1px, 1px, 1px);height: 1px;margin: -1px;overflow: hidden;padding: 0;position: absolute;width: 1px;}#sk-container-id-2 div.sk-estimator {font-family: monospace;background-color: #f0f8ff;border: 1px dotted black;border-radius: 0.25em;box-sizing: border-box;margin-bottom: 0.5em;}#sk-container-id-2 div.sk-estimator:hover {background-color: #d4ebff;}#sk-container-id-2 div.sk-parallel-item::after {content: \"\";width: 100%;border-bottom: 1px solid gray;flex-grow: 1;}#sk-container-id-2 div.sk-label:hover label.sk-toggleable__label {background-color: #d4ebff;}#sk-container-id-2 div.sk-serial::before {content: \"\";position: absolute;border-left: 1px solid gray;box-sizing: border-box;top: 0;bottom: 0;left: 50%;z-index: 0;}#sk-container-id-2 div.sk-serial {display: flex;flex-direction: column;align-items: center;background-color: white;padding-right: 0.2em;padding-left: 0.2em;position: relative;}#sk-container-id-2 div.sk-item {position: relative;z-index: 1;}#sk-container-id-2 div.sk-parallel {display: flex;align-items: stretch;justify-content: center;background-color: white;position: relative;}#sk-container-id-2 div.sk-item::before, #sk-container-id-2 div.sk-parallel-item::before {content: \"\";position: absolute;border-left: 1px solid gray;box-sizing: border-box;top: 0;bottom: 0;left: 50%;z-index: -1;}#sk-container-id-2 div.sk-parallel-item {display: flex;flex-direction: column;z-index: 1;position: relative;background-color: white;}#sk-container-id-2 div.sk-parallel-item:first-child::after {align-self: flex-end;width: 50%;}#sk-container-id-2 div.sk-parallel-item:last-child::after {align-self: flex-start;width: 50%;}#sk-container-id-2 div.sk-parallel-item:only-child::after {width: 0;}#sk-container-id-2 div.sk-dashed-wrapped {border: 1px dashed gray;margin: 0 0.4em 0.5em 0.4em;box-sizing: border-box;padding-bottom: 0.4em;background-color: white;}#sk-container-id-2 div.sk-label label {font-family: monospace;font-weight: bold;display: inline-block;line-height: 1.2em;}#sk-container-id-2 div.sk-label-container {text-align: center;}#sk-container-id-2 div.sk-container {/* jupyter's `normalize.less` sets `[hidden] { display: none; }` but bootstrap.min.css set `[hidden] { display: none !important; }` so we also need the `!important` here to be able to override the default hidden behavior on the sphinx rendered scikit-learn.org. See: https://github.com/scikit-learn/scikit-learn/issues/21755 */display: inline-block !important;position: relative;}#sk-container-id-2 div.sk-text-repr-fallback {display: none;}</style><div id=\"sk-container-id-2\" class=\"sk-top-container\"><div class=\"sk-text-repr-fallback\"><pre>MultinomialNB()</pre><b>In a Jupyter environment, please rerun this cell to show the HTML representation or trust the notebook. <br />On GitHub, the HTML representation is unable to render, please try loading this page with nbviewer.org.</b></div><div class=\"sk-container\" hidden><div class=\"sk-item\"><div class=\"sk-estimator sk-toggleable\"><input class=\"sk-toggleable__control sk-hidden--visually\" id=\"sk-estimator-id-2\" type=\"checkbox\" checked><label for=\"sk-estimator-id-2\" class=\"sk-toggleable__label sk-toggleable__label-arrow\">MultinomialNB</label><div class=\"sk-toggleable__content\"><pre>MultinomialNB()</pre></div></div></div></div></div>"
            ]
          },
          "metadata": {},
          "execution_count": 62
        }
      ]
    },
    {
      "cell_type": "code",
      "source": [
        "y_pred_mnb= mnb.predict(X_test)"
      ],
      "metadata": {
        "id": "IX_gOKWxpG4M"
      },
      "execution_count": 63,
      "outputs": []
    },
    {
      "cell_type": "code",
      "source": [
        "print(classification_report(y_test, y_pred_mnb))"
      ],
      "metadata": {
        "colab": {
          "base_uri": "https://localhost:8080/"
        },
        "id": "zjjY3-kmpMC1",
        "outputId": "514fc76d-2198-423b-ba6c-7e1e4559fd00"
      },
      "execution_count": 64,
      "outputs": [
        {
          "output_type": "stream",
          "name": "stdout",
          "text": [
            "              precision    recall  f1-score   support\n",
            "\n",
            "           0       0.87      0.85      0.86        53\n",
            "           1       0.81      0.83      0.82        42\n",
            "\n",
            "    accuracy                           0.84        95\n",
            "   macro avg       0.84      0.84      0.84        95\n",
            "weighted avg       0.84      0.84      0.84        95\n",
            "\n"
          ]
        }
      ]
    },
    {
      "cell_type": "code",
      "source": [
        "gnb = GaussianNB()\n",
        "gnb.fit(X_train, y_train)"
      ],
      "metadata": {
        "colab": {
          "base_uri": "https://localhost:8080/",
          "height": 74
        },
        "id": "nlXoUjCGpZoA",
        "outputId": "6456abad-e792-43d1-ef9d-86c16ea62500"
      },
      "execution_count": 65,
      "outputs": [
        {
          "output_type": "execute_result",
          "data": {
            "text/plain": [
              "GaussianNB()"
            ],
            "text/html": [
              "<style>#sk-container-id-3 {color: black;background-color: white;}#sk-container-id-3 pre{padding: 0;}#sk-container-id-3 div.sk-toggleable {background-color: white;}#sk-container-id-3 label.sk-toggleable__label {cursor: pointer;display: block;width: 100%;margin-bottom: 0;padding: 0.3em;box-sizing: border-box;text-align: center;}#sk-container-id-3 label.sk-toggleable__label-arrow:before {content: \"▸\";float: left;margin-right: 0.25em;color: #696969;}#sk-container-id-3 label.sk-toggleable__label-arrow:hover:before {color: black;}#sk-container-id-3 div.sk-estimator:hover label.sk-toggleable__label-arrow:before {color: black;}#sk-container-id-3 div.sk-toggleable__content {max-height: 0;max-width: 0;overflow: hidden;text-align: left;background-color: #f0f8ff;}#sk-container-id-3 div.sk-toggleable__content pre {margin: 0.2em;color: black;border-radius: 0.25em;background-color: #f0f8ff;}#sk-container-id-3 input.sk-toggleable__control:checked~div.sk-toggleable__content {max-height: 200px;max-width: 100%;overflow: auto;}#sk-container-id-3 input.sk-toggleable__control:checked~label.sk-toggleable__label-arrow:before {content: \"▾\";}#sk-container-id-3 div.sk-estimator input.sk-toggleable__control:checked~label.sk-toggleable__label {background-color: #d4ebff;}#sk-container-id-3 div.sk-label input.sk-toggleable__control:checked~label.sk-toggleable__label {background-color: #d4ebff;}#sk-container-id-3 input.sk-hidden--visually {border: 0;clip: rect(1px 1px 1px 1px);clip: rect(1px, 1px, 1px, 1px);height: 1px;margin: -1px;overflow: hidden;padding: 0;position: absolute;width: 1px;}#sk-container-id-3 div.sk-estimator {font-family: monospace;background-color: #f0f8ff;border: 1px dotted black;border-radius: 0.25em;box-sizing: border-box;margin-bottom: 0.5em;}#sk-container-id-3 div.sk-estimator:hover {background-color: #d4ebff;}#sk-container-id-3 div.sk-parallel-item::after {content: \"\";width: 100%;border-bottom: 1px solid gray;flex-grow: 1;}#sk-container-id-3 div.sk-label:hover label.sk-toggleable__label {background-color: #d4ebff;}#sk-container-id-3 div.sk-serial::before {content: \"\";position: absolute;border-left: 1px solid gray;box-sizing: border-box;top: 0;bottom: 0;left: 50%;z-index: 0;}#sk-container-id-3 div.sk-serial {display: flex;flex-direction: column;align-items: center;background-color: white;padding-right: 0.2em;padding-left: 0.2em;position: relative;}#sk-container-id-3 div.sk-item {position: relative;z-index: 1;}#sk-container-id-3 div.sk-parallel {display: flex;align-items: stretch;justify-content: center;background-color: white;position: relative;}#sk-container-id-3 div.sk-item::before, #sk-container-id-3 div.sk-parallel-item::before {content: \"\";position: absolute;border-left: 1px solid gray;box-sizing: border-box;top: 0;bottom: 0;left: 50%;z-index: -1;}#sk-container-id-3 div.sk-parallel-item {display: flex;flex-direction: column;z-index: 1;position: relative;background-color: white;}#sk-container-id-3 div.sk-parallel-item:first-child::after {align-self: flex-end;width: 50%;}#sk-container-id-3 div.sk-parallel-item:last-child::after {align-self: flex-start;width: 50%;}#sk-container-id-3 div.sk-parallel-item:only-child::after {width: 0;}#sk-container-id-3 div.sk-dashed-wrapped {border: 1px dashed gray;margin: 0 0.4em 0.5em 0.4em;box-sizing: border-box;padding-bottom: 0.4em;background-color: white;}#sk-container-id-3 div.sk-label label {font-family: monospace;font-weight: bold;display: inline-block;line-height: 1.2em;}#sk-container-id-3 div.sk-label-container {text-align: center;}#sk-container-id-3 div.sk-container {/* jupyter's `normalize.less` sets `[hidden] { display: none; }` but bootstrap.min.css set `[hidden] { display: none !important; }` so we also need the `!important` here to be able to override the default hidden behavior on the sphinx rendered scikit-learn.org. See: https://github.com/scikit-learn/scikit-learn/issues/21755 */display: inline-block !important;position: relative;}#sk-container-id-3 div.sk-text-repr-fallback {display: none;}</style><div id=\"sk-container-id-3\" class=\"sk-top-container\"><div class=\"sk-text-repr-fallback\"><pre>GaussianNB()</pre><b>In a Jupyter environment, please rerun this cell to show the HTML representation or trust the notebook. <br />On GitHub, the HTML representation is unable to render, please try loading this page with nbviewer.org.</b></div><div class=\"sk-container\" hidden><div class=\"sk-item\"><div class=\"sk-estimator sk-toggleable\"><input class=\"sk-toggleable__control sk-hidden--visually\" id=\"sk-estimator-id-3\" type=\"checkbox\" checked><label for=\"sk-estimator-id-3\" class=\"sk-toggleable__label sk-toggleable__label-arrow\">GaussianNB</label><div class=\"sk-toggleable__content\"><pre>GaussianNB()</pre></div></div></div></div></div>"
            ]
          },
          "metadata": {},
          "execution_count": 65
        }
      ]
    },
    {
      "cell_type": "code",
      "source": [
        "y_pred_gnb = gnb.predict(X_test)"
      ],
      "metadata": {
        "id": "Uu44F0SFpb97"
      },
      "execution_count": 66,
      "outputs": []
    },
    {
      "cell_type": "code",
      "source": [
        "print(classification_report(y_test, y_pred_gnb))"
      ],
      "metadata": {
        "colab": {
          "base_uri": "https://localhost:8080/"
        },
        "id": "lD5U8CSWpfDa",
        "outputId": "26e9c4e1-fce6-4308-c513-bdc34dd9cc45"
      },
      "execution_count": 67,
      "outputs": [
        {
          "output_type": "stream",
          "name": "stdout",
          "text": [
            "              precision    recall  f1-score   support\n",
            "\n",
            "           0       0.90      0.85      0.87        53\n",
            "           1       0.82      0.88      0.85        42\n",
            "\n",
            "    accuracy                           0.86        95\n",
            "   macro avg       0.86      0.87      0.86        95\n",
            "weighted avg       0.87      0.86      0.86        95\n",
            "\n"
          ]
        }
      ]
    },
    {
      "cell_type": "code",
      "source": [
        "bnb = BernoulliNB()\n",
        "bnb.fit(X_train, y_train)"
      ],
      "metadata": {
        "colab": {
          "base_uri": "https://localhost:8080/",
          "height": 74
        },
        "id": "0FFojdavpqqj",
        "outputId": "b756f217-7b7d-4706-8d87-2580701866eb"
      },
      "execution_count": 68,
      "outputs": [
        {
          "output_type": "execute_result",
          "data": {
            "text/plain": [
              "BernoulliNB()"
            ],
            "text/html": [
              "<style>#sk-container-id-4 {color: black;background-color: white;}#sk-container-id-4 pre{padding: 0;}#sk-container-id-4 div.sk-toggleable {background-color: white;}#sk-container-id-4 label.sk-toggleable__label {cursor: pointer;display: block;width: 100%;margin-bottom: 0;padding: 0.3em;box-sizing: border-box;text-align: center;}#sk-container-id-4 label.sk-toggleable__label-arrow:before {content: \"▸\";float: left;margin-right: 0.25em;color: #696969;}#sk-container-id-4 label.sk-toggleable__label-arrow:hover:before {color: black;}#sk-container-id-4 div.sk-estimator:hover label.sk-toggleable__label-arrow:before {color: black;}#sk-container-id-4 div.sk-toggleable__content {max-height: 0;max-width: 0;overflow: hidden;text-align: left;background-color: #f0f8ff;}#sk-container-id-4 div.sk-toggleable__content pre {margin: 0.2em;color: black;border-radius: 0.25em;background-color: #f0f8ff;}#sk-container-id-4 input.sk-toggleable__control:checked~div.sk-toggleable__content {max-height: 200px;max-width: 100%;overflow: auto;}#sk-container-id-4 input.sk-toggleable__control:checked~label.sk-toggleable__label-arrow:before {content: \"▾\";}#sk-container-id-4 div.sk-estimator input.sk-toggleable__control:checked~label.sk-toggleable__label {background-color: #d4ebff;}#sk-container-id-4 div.sk-label input.sk-toggleable__control:checked~label.sk-toggleable__label {background-color: #d4ebff;}#sk-container-id-4 input.sk-hidden--visually {border: 0;clip: rect(1px 1px 1px 1px);clip: rect(1px, 1px, 1px, 1px);height: 1px;margin: -1px;overflow: hidden;padding: 0;position: absolute;width: 1px;}#sk-container-id-4 div.sk-estimator {font-family: monospace;background-color: #f0f8ff;border: 1px dotted black;border-radius: 0.25em;box-sizing: border-box;margin-bottom: 0.5em;}#sk-container-id-4 div.sk-estimator:hover {background-color: #d4ebff;}#sk-container-id-4 div.sk-parallel-item::after {content: \"\";width: 100%;border-bottom: 1px solid gray;flex-grow: 1;}#sk-container-id-4 div.sk-label:hover label.sk-toggleable__label {background-color: #d4ebff;}#sk-container-id-4 div.sk-serial::before {content: \"\";position: absolute;border-left: 1px solid gray;box-sizing: border-box;top: 0;bottom: 0;left: 50%;z-index: 0;}#sk-container-id-4 div.sk-serial {display: flex;flex-direction: column;align-items: center;background-color: white;padding-right: 0.2em;padding-left: 0.2em;position: relative;}#sk-container-id-4 div.sk-item {position: relative;z-index: 1;}#sk-container-id-4 div.sk-parallel {display: flex;align-items: stretch;justify-content: center;background-color: white;position: relative;}#sk-container-id-4 div.sk-item::before, #sk-container-id-4 div.sk-parallel-item::before {content: \"\";position: absolute;border-left: 1px solid gray;box-sizing: border-box;top: 0;bottom: 0;left: 50%;z-index: -1;}#sk-container-id-4 div.sk-parallel-item {display: flex;flex-direction: column;z-index: 1;position: relative;background-color: white;}#sk-container-id-4 div.sk-parallel-item:first-child::after {align-self: flex-end;width: 50%;}#sk-container-id-4 div.sk-parallel-item:last-child::after {align-self: flex-start;width: 50%;}#sk-container-id-4 div.sk-parallel-item:only-child::after {width: 0;}#sk-container-id-4 div.sk-dashed-wrapped {border: 1px dashed gray;margin: 0 0.4em 0.5em 0.4em;box-sizing: border-box;padding-bottom: 0.4em;background-color: white;}#sk-container-id-4 div.sk-label label {font-family: monospace;font-weight: bold;display: inline-block;line-height: 1.2em;}#sk-container-id-4 div.sk-label-container {text-align: center;}#sk-container-id-4 div.sk-container {/* jupyter's `normalize.less` sets `[hidden] { display: none; }` but bootstrap.min.css set `[hidden] { display: none !important; }` so we also need the `!important` here to be able to override the default hidden behavior on the sphinx rendered scikit-learn.org. See: https://github.com/scikit-learn/scikit-learn/issues/21755 */display: inline-block !important;position: relative;}#sk-container-id-4 div.sk-text-repr-fallback {display: none;}</style><div id=\"sk-container-id-4\" class=\"sk-top-container\"><div class=\"sk-text-repr-fallback\"><pre>BernoulliNB()</pre><b>In a Jupyter environment, please rerun this cell to show the HTML representation or trust the notebook. <br />On GitHub, the HTML representation is unable to render, please try loading this page with nbviewer.org.</b></div><div class=\"sk-container\" hidden><div class=\"sk-item\"><div class=\"sk-estimator sk-toggleable\"><input class=\"sk-toggleable__control sk-hidden--visually\" id=\"sk-estimator-id-4\" type=\"checkbox\" checked><label for=\"sk-estimator-id-4\" class=\"sk-toggleable__label sk-toggleable__label-arrow\">BernoulliNB</label><div class=\"sk-toggleable__content\"><pre>BernoulliNB()</pre></div></div></div></div></div>"
            ]
          },
          "metadata": {},
          "execution_count": 68
        }
      ]
    },
    {
      "cell_type": "code",
      "source": [
        "y_pred_bnb = bnb.predict(X_test)"
      ],
      "metadata": {
        "id": "B87lDRPxpvPJ"
      },
      "execution_count": 69,
      "outputs": []
    },
    {
      "cell_type": "code",
      "source": [
        "print(classification_report(y_test, y_pred_bnb))"
      ],
      "metadata": {
        "colab": {
          "base_uri": "https://localhost:8080/"
        },
        "id": "_t_t8vLCp0Hz",
        "outputId": "4df6a512-c52c-46a8-a7b7-902a1a772aec"
      },
      "execution_count": 70,
      "outputs": [
        {
          "output_type": "stream",
          "name": "stdout",
          "text": [
            "              precision    recall  f1-score   support\n",
            "\n",
            "           0       0.84      0.91      0.87        53\n",
            "           1       0.87      0.79      0.82        42\n",
            "\n",
            "    accuracy                           0.85        95\n",
            "   macro avg       0.86      0.85      0.85        95\n",
            "weighted avg       0.85      0.85      0.85        95\n",
            "\n"
          ]
        }
      ]
    },
    {
      "cell_type": "markdown",
      "source": [
        "## Boosting"
      ],
      "metadata": {
        "id": "s0mVxzV6fLjF"
      }
    },
    {
      "cell_type": "code",
      "source": [
        "model_xgb = xgb.XGBClassifier(objective='binary:logistic', n_estimators=10, seed=123)\n",
        "model_xgb.fit(X_train, y_train)"
      ],
      "metadata": {
        "colab": {
          "base_uri": "https://localhost:8080/",
          "height": 248
        },
        "id": "SFJPf6izsVpW",
        "outputId": "7e9b596f-3848-42ca-9c80-a60a9b781ceb"
      },
      "execution_count": 75,
      "outputs": [
        {
          "output_type": "execute_result",
          "data": {
            "text/plain": [
              "XGBClassifier(base_score=None, booster=None, callbacks=None,\n",
              "              colsample_bylevel=None, colsample_bynode=None,\n",
              "              colsample_bytree=None, device=None, early_stopping_rounds=None,\n",
              "              enable_categorical=False, eval_metric=None, feature_types=None,\n",
              "              gamma=None, grow_policy=None, importance_type=None,\n",
              "              interaction_constraints=None, learning_rate=None, max_bin=None,\n",
              "              max_cat_threshold=None, max_cat_to_onehot=None,\n",
              "              max_delta_step=None, max_depth=None, max_leaves=None,\n",
              "              min_child_weight=None, missing=nan, monotone_constraints=None,\n",
              "              multi_strategy=None, n_estimators=10, n_jobs=None,\n",
              "              num_parallel_tree=None, random_state=None, ...)"
            ],
            "text/html": [
              "<style>#sk-container-id-6 {color: black;background-color: white;}#sk-container-id-6 pre{padding: 0;}#sk-container-id-6 div.sk-toggleable {background-color: white;}#sk-container-id-6 label.sk-toggleable__label {cursor: pointer;display: block;width: 100%;margin-bottom: 0;padding: 0.3em;box-sizing: border-box;text-align: center;}#sk-container-id-6 label.sk-toggleable__label-arrow:before {content: \"▸\";float: left;margin-right: 0.25em;color: #696969;}#sk-container-id-6 label.sk-toggleable__label-arrow:hover:before {color: black;}#sk-container-id-6 div.sk-estimator:hover label.sk-toggleable__label-arrow:before {color: black;}#sk-container-id-6 div.sk-toggleable__content {max-height: 0;max-width: 0;overflow: hidden;text-align: left;background-color: #f0f8ff;}#sk-container-id-6 div.sk-toggleable__content pre {margin: 0.2em;color: black;border-radius: 0.25em;background-color: #f0f8ff;}#sk-container-id-6 input.sk-toggleable__control:checked~div.sk-toggleable__content {max-height: 200px;max-width: 100%;overflow: auto;}#sk-container-id-6 input.sk-toggleable__control:checked~label.sk-toggleable__label-arrow:before {content: \"▾\";}#sk-container-id-6 div.sk-estimator input.sk-toggleable__control:checked~label.sk-toggleable__label {background-color: #d4ebff;}#sk-container-id-6 div.sk-label input.sk-toggleable__control:checked~label.sk-toggleable__label {background-color: #d4ebff;}#sk-container-id-6 input.sk-hidden--visually {border: 0;clip: rect(1px 1px 1px 1px);clip: rect(1px, 1px, 1px, 1px);height: 1px;margin: -1px;overflow: hidden;padding: 0;position: absolute;width: 1px;}#sk-container-id-6 div.sk-estimator {font-family: monospace;background-color: #f0f8ff;border: 1px dotted black;border-radius: 0.25em;box-sizing: border-box;margin-bottom: 0.5em;}#sk-container-id-6 div.sk-estimator:hover {background-color: #d4ebff;}#sk-container-id-6 div.sk-parallel-item::after {content: \"\";width: 100%;border-bottom: 1px solid gray;flex-grow: 1;}#sk-container-id-6 div.sk-label:hover label.sk-toggleable__label {background-color: #d4ebff;}#sk-container-id-6 div.sk-serial::before {content: \"\";position: absolute;border-left: 1px solid gray;box-sizing: border-box;top: 0;bottom: 0;left: 50%;z-index: 0;}#sk-container-id-6 div.sk-serial {display: flex;flex-direction: column;align-items: center;background-color: white;padding-right: 0.2em;padding-left: 0.2em;position: relative;}#sk-container-id-6 div.sk-item {position: relative;z-index: 1;}#sk-container-id-6 div.sk-parallel {display: flex;align-items: stretch;justify-content: center;background-color: white;position: relative;}#sk-container-id-6 div.sk-item::before, #sk-container-id-6 div.sk-parallel-item::before {content: \"\";position: absolute;border-left: 1px solid gray;box-sizing: border-box;top: 0;bottom: 0;left: 50%;z-index: -1;}#sk-container-id-6 div.sk-parallel-item {display: flex;flex-direction: column;z-index: 1;position: relative;background-color: white;}#sk-container-id-6 div.sk-parallel-item:first-child::after {align-self: flex-end;width: 50%;}#sk-container-id-6 div.sk-parallel-item:last-child::after {align-self: flex-start;width: 50%;}#sk-container-id-6 div.sk-parallel-item:only-child::after {width: 0;}#sk-container-id-6 div.sk-dashed-wrapped {border: 1px dashed gray;margin: 0 0.4em 0.5em 0.4em;box-sizing: border-box;padding-bottom: 0.4em;background-color: white;}#sk-container-id-6 div.sk-label label {font-family: monospace;font-weight: bold;display: inline-block;line-height: 1.2em;}#sk-container-id-6 div.sk-label-container {text-align: center;}#sk-container-id-6 div.sk-container {/* jupyter's `normalize.less` sets `[hidden] { display: none; }` but bootstrap.min.css set `[hidden] { display: none !important; }` so we also need the `!important` here to be able to override the default hidden behavior on the sphinx rendered scikit-learn.org. See: https://github.com/scikit-learn/scikit-learn/issues/21755 */display: inline-block !important;position: relative;}#sk-container-id-6 div.sk-text-repr-fallback {display: none;}</style><div id=\"sk-container-id-6\" class=\"sk-top-container\"><div class=\"sk-text-repr-fallback\"><pre>XGBClassifier(base_score=None, booster=None, callbacks=None,\n",
              "              colsample_bylevel=None, colsample_bynode=None,\n",
              "              colsample_bytree=None, device=None, early_stopping_rounds=None,\n",
              "              enable_categorical=False, eval_metric=None, feature_types=None,\n",
              "              gamma=None, grow_policy=None, importance_type=None,\n",
              "              interaction_constraints=None, learning_rate=None, max_bin=None,\n",
              "              max_cat_threshold=None, max_cat_to_onehot=None,\n",
              "              max_delta_step=None, max_depth=None, max_leaves=None,\n",
              "              min_child_weight=None, missing=nan, monotone_constraints=None,\n",
              "              multi_strategy=None, n_estimators=10, n_jobs=None,\n",
              "              num_parallel_tree=None, random_state=None, ...)</pre><b>In a Jupyter environment, please rerun this cell to show the HTML representation or trust the notebook. <br />On GitHub, the HTML representation is unable to render, please try loading this page with nbviewer.org.</b></div><div class=\"sk-container\" hidden><div class=\"sk-item\"><div class=\"sk-estimator sk-toggleable\"><input class=\"sk-toggleable__control sk-hidden--visually\" id=\"sk-estimator-id-8\" type=\"checkbox\" checked><label for=\"sk-estimator-id-8\" class=\"sk-toggleable__label sk-toggleable__label-arrow\">XGBClassifier</label><div class=\"sk-toggleable__content\"><pre>XGBClassifier(base_score=None, booster=None, callbacks=None,\n",
              "              colsample_bylevel=None, colsample_bynode=None,\n",
              "              colsample_bytree=None, device=None, early_stopping_rounds=None,\n",
              "              enable_categorical=False, eval_metric=None, feature_types=None,\n",
              "              gamma=None, grow_policy=None, importance_type=None,\n",
              "              interaction_constraints=None, learning_rate=None, max_bin=None,\n",
              "              max_cat_threshold=None, max_cat_to_onehot=None,\n",
              "              max_delta_step=None, max_depth=None, max_leaves=None,\n",
              "              min_child_weight=None, missing=nan, monotone_constraints=None,\n",
              "              multi_strategy=None, n_estimators=10, n_jobs=None,\n",
              "              num_parallel_tree=None, random_state=None, ...)</pre></div></div></div></div></div>"
            ]
          },
          "metadata": {},
          "execution_count": 75
        }
      ]
    },
    {
      "cell_type": "code",
      "source": [
        "y_pred_train_xb = model_xgb.predict(X_train)\n",
        "y_pred_test_xb = model_xgb.predict(X_test)"
      ],
      "metadata": {
        "id": "9qeh9Ef7sZJg"
      },
      "execution_count": 76,
      "outputs": []
    },
    {
      "cell_type": "code",
      "source": [
        "print('Accuracy on train data set: ', accuracy_score(y_train, y_pred_train_xb))\n",
        "print('Accuracy na test data set: ', accuracy_score(y_test, y_pred_test_xb))"
      ],
      "metadata": {
        "colab": {
          "base_uri": "https://localhost:8080/"
        },
        "id": "9jCO9mz6sc5Y",
        "outputId": "27168676-4a7e-4670-d3f4-304fcc029cc5"
      },
      "execution_count": 77,
      "outputs": [
        {
          "output_type": "stream",
          "name": "stdout",
          "text": [
            "Accuracy on train data set:  0.9840848806366048\n",
            "Accuracy na test data set:  0.8736842105263158\n"
          ]
        }
      ]
    },
    {
      "cell_type": "code",
      "source": [
        "print(classification_report(y_test, y_pred_test_xb))"
      ],
      "metadata": {
        "colab": {
          "base_uri": "https://localhost:8080/"
        },
        "id": "JPbfkJtLsvZp",
        "outputId": "de305a85-7f11-42e3-dc0d-050c23d8b48e"
      },
      "execution_count": 78,
      "outputs": [
        {
          "output_type": "stream",
          "name": "stdout",
          "text": [
            "              precision    recall  f1-score   support\n",
            "\n",
            "           0       0.89      0.89      0.89        53\n",
            "           1       0.86      0.86      0.86        42\n",
            "\n",
            "    accuracy                           0.87        95\n",
            "   macro avg       0.87      0.87      0.87        95\n",
            "weighted avg       0.87      0.87      0.87        95\n",
            "\n"
          ]
        }
      ]
    },
    {
      "cell_type": "code",
      "source": [
        "gb = GradientBoostingClassifier(n_estimators=10, random_state=0, learning_rate=1.0)\n",
        "gb.fit(X_train, y_train)"
      ],
      "metadata": {
        "colab": {
          "base_uri": "https://localhost:8080/",
          "height": 74
        },
        "id": "MuMcbNWGy443",
        "outputId": "586b1024-36e6-40a3-97e7-f47987c3f73e"
      },
      "execution_count": 79,
      "outputs": [
        {
          "output_type": "execute_result",
          "data": {
            "text/plain": [
              "GradientBoostingClassifier(learning_rate=1.0, n_estimators=10, random_state=0)"
            ],
            "text/html": [
              "<style>#sk-container-id-7 {color: black;background-color: white;}#sk-container-id-7 pre{padding: 0;}#sk-container-id-7 div.sk-toggleable {background-color: white;}#sk-container-id-7 label.sk-toggleable__label {cursor: pointer;display: block;width: 100%;margin-bottom: 0;padding: 0.3em;box-sizing: border-box;text-align: center;}#sk-container-id-7 label.sk-toggleable__label-arrow:before {content: \"▸\";float: left;margin-right: 0.25em;color: #696969;}#sk-container-id-7 label.sk-toggleable__label-arrow:hover:before {color: black;}#sk-container-id-7 div.sk-estimator:hover label.sk-toggleable__label-arrow:before {color: black;}#sk-container-id-7 div.sk-toggleable__content {max-height: 0;max-width: 0;overflow: hidden;text-align: left;background-color: #f0f8ff;}#sk-container-id-7 div.sk-toggleable__content pre {margin: 0.2em;color: black;border-radius: 0.25em;background-color: #f0f8ff;}#sk-container-id-7 input.sk-toggleable__control:checked~div.sk-toggleable__content {max-height: 200px;max-width: 100%;overflow: auto;}#sk-container-id-7 input.sk-toggleable__control:checked~label.sk-toggleable__label-arrow:before {content: \"▾\";}#sk-container-id-7 div.sk-estimator input.sk-toggleable__control:checked~label.sk-toggleable__label {background-color: #d4ebff;}#sk-container-id-7 div.sk-label input.sk-toggleable__control:checked~label.sk-toggleable__label {background-color: #d4ebff;}#sk-container-id-7 input.sk-hidden--visually {border: 0;clip: rect(1px 1px 1px 1px);clip: rect(1px, 1px, 1px, 1px);height: 1px;margin: -1px;overflow: hidden;padding: 0;position: absolute;width: 1px;}#sk-container-id-7 div.sk-estimator {font-family: monospace;background-color: #f0f8ff;border: 1px dotted black;border-radius: 0.25em;box-sizing: border-box;margin-bottom: 0.5em;}#sk-container-id-7 div.sk-estimator:hover {background-color: #d4ebff;}#sk-container-id-7 div.sk-parallel-item::after {content: \"\";width: 100%;border-bottom: 1px solid gray;flex-grow: 1;}#sk-container-id-7 div.sk-label:hover label.sk-toggleable__label {background-color: #d4ebff;}#sk-container-id-7 div.sk-serial::before {content: \"\";position: absolute;border-left: 1px solid gray;box-sizing: border-box;top: 0;bottom: 0;left: 50%;z-index: 0;}#sk-container-id-7 div.sk-serial {display: flex;flex-direction: column;align-items: center;background-color: white;padding-right: 0.2em;padding-left: 0.2em;position: relative;}#sk-container-id-7 div.sk-item {position: relative;z-index: 1;}#sk-container-id-7 div.sk-parallel {display: flex;align-items: stretch;justify-content: center;background-color: white;position: relative;}#sk-container-id-7 div.sk-item::before, #sk-container-id-7 div.sk-parallel-item::before {content: \"\";position: absolute;border-left: 1px solid gray;box-sizing: border-box;top: 0;bottom: 0;left: 50%;z-index: -1;}#sk-container-id-7 div.sk-parallel-item {display: flex;flex-direction: column;z-index: 1;position: relative;background-color: white;}#sk-container-id-7 div.sk-parallel-item:first-child::after {align-self: flex-end;width: 50%;}#sk-container-id-7 div.sk-parallel-item:last-child::after {align-self: flex-start;width: 50%;}#sk-container-id-7 div.sk-parallel-item:only-child::after {width: 0;}#sk-container-id-7 div.sk-dashed-wrapped {border: 1px dashed gray;margin: 0 0.4em 0.5em 0.4em;box-sizing: border-box;padding-bottom: 0.4em;background-color: white;}#sk-container-id-7 div.sk-label label {font-family: monospace;font-weight: bold;display: inline-block;line-height: 1.2em;}#sk-container-id-7 div.sk-label-container {text-align: center;}#sk-container-id-7 div.sk-container {/* jupyter's `normalize.less` sets `[hidden] { display: none; }` but bootstrap.min.css set `[hidden] { display: none !important; }` so we also need the `!important` here to be able to override the default hidden behavior on the sphinx rendered scikit-learn.org. See: https://github.com/scikit-learn/scikit-learn/issues/21755 */display: inline-block !important;position: relative;}#sk-container-id-7 div.sk-text-repr-fallback {display: none;}</style><div id=\"sk-container-id-7\" class=\"sk-top-container\"><div class=\"sk-text-repr-fallback\"><pre>GradientBoostingClassifier(learning_rate=1.0, n_estimators=10, random_state=0)</pre><b>In a Jupyter environment, please rerun this cell to show the HTML representation or trust the notebook. <br />On GitHub, the HTML representation is unable to render, please try loading this page with nbviewer.org.</b></div><div class=\"sk-container\" hidden><div class=\"sk-item\"><div class=\"sk-estimator sk-toggleable\"><input class=\"sk-toggleable__control sk-hidden--visually\" id=\"sk-estimator-id-9\" type=\"checkbox\" checked><label for=\"sk-estimator-id-9\" class=\"sk-toggleable__label sk-toggleable__label-arrow\">GradientBoostingClassifier</label><div class=\"sk-toggleable__content\"><pre>GradientBoostingClassifier(learning_rate=1.0, n_estimators=10, random_state=0)</pre></div></div></div></div></div>"
            ]
          },
          "metadata": {},
          "execution_count": 79
        }
      ]
    },
    {
      "cell_type": "code",
      "source": [
        "y_pred_train_gb = gb.predict(X_train)\n",
        "y_pred_test_gb = gb.predict(X_test)"
      ],
      "metadata": {
        "id": "KXAAoKimy6jB"
      },
      "execution_count": 80,
      "outputs": []
    },
    {
      "cell_type": "code",
      "source": [
        "print('Accuracy on train data set: ', accuracy_score(y_train, y_pred_train_gb))\n",
        "print('Accuracy on test data set: ', accuracy_score(y_test, y_pred_test_gb))"
      ],
      "metadata": {
        "colab": {
          "base_uri": "https://localhost:8080/"
        },
        "id": "xWNNYGw4z5fF",
        "outputId": "26575cdf-f578-4b31-ae70-9b432a702762"
      },
      "execution_count": null,
      "outputs": [
        {
          "output_type": "stream",
          "name": "stdout",
          "text": [
            "Accuracy on train data set:  0.986737400530504\n",
            "Accuracy on test data set:  0.8736842105263158\n"
          ]
        }
      ]
    },
    {
      "cell_type": "code",
      "source": [
        "print(classification_report(y_test, y_pred_test_gb))"
      ],
      "metadata": {
        "id": "o1celWuoz7Yr",
        "outputId": "4d11140a-48c8-46da-9fe7-f058f1fe0fb7",
        "colab": {
          "base_uri": "https://localhost:8080/"
        }
      },
      "execution_count": 81,
      "outputs": [
        {
          "output_type": "stream",
          "name": "stdout",
          "text": [
            "              precision    recall  f1-score   support\n",
            "\n",
            "           0       0.89      0.91      0.90        53\n",
            "           1       0.88      0.86      0.87        42\n",
            "\n",
            "    accuracy                           0.88        95\n",
            "   macro avg       0.88      0.88      0.88        95\n",
            "weighted avg       0.88      0.88      0.88        95\n",
            "\n"
          ]
        }
      ]
    },
    {
      "cell_type": "markdown",
      "source": [
        "Bagging niepotrzebny, bo za mało danych.  \n",
        "\n",
        "Zrobić przed modelami jeszcze klasteryzacje, feature importance, żeby trochę lepiej poznać dane.  "
      ],
      "metadata": {
        "id": "3RKCs7Hoqs9x"
      }
    },
    {
      "cell_type": "markdown",
      "source": [
        "## Clustering - K-means"
      ],
      "metadata": {
        "id": "A_oei2_7QfRL"
      }
    },
    {
      "cell_type": "code",
      "source": [
        "model_kmeans = KMeans(n_clusters=5)\n",
        "model_kmeans.fit(X)   # wrzucić bez y,"
      ],
      "metadata": {
        "colab": {
          "base_uri": "https://localhost:8080/",
          "height": 129
        },
        "id": "5PCWWoNBW9EV",
        "outputId": "1668d052-dfc3-4b1d-d77a-a066605968c1"
      },
      "execution_count": 84,
      "outputs": [
        {
          "output_type": "stream",
          "name": "stderr",
          "text": [
            "/usr/local/lib/python3.10/dist-packages/sklearn/cluster/_kmeans.py:870: FutureWarning: The default value of `n_init` will change from 10 to 'auto' in 1.4. Set the value of `n_init` explicitly to suppress the warning\n",
            "  warnings.warn(\n"
          ]
        },
        {
          "output_type": "execute_result",
          "data": {
            "text/plain": [
              "KMeans(n_clusters=5)"
            ],
            "text/html": [
              "<style>#sk-container-id-10 {color: black;background-color: white;}#sk-container-id-10 pre{padding: 0;}#sk-container-id-10 div.sk-toggleable {background-color: white;}#sk-container-id-10 label.sk-toggleable__label {cursor: pointer;display: block;width: 100%;margin-bottom: 0;padding: 0.3em;box-sizing: border-box;text-align: center;}#sk-container-id-10 label.sk-toggleable__label-arrow:before {content: \"▸\";float: left;margin-right: 0.25em;color: #696969;}#sk-container-id-10 label.sk-toggleable__label-arrow:hover:before {color: black;}#sk-container-id-10 div.sk-estimator:hover label.sk-toggleable__label-arrow:before {color: black;}#sk-container-id-10 div.sk-toggleable__content {max-height: 0;max-width: 0;overflow: hidden;text-align: left;background-color: #f0f8ff;}#sk-container-id-10 div.sk-toggleable__content pre {margin: 0.2em;color: black;border-radius: 0.25em;background-color: #f0f8ff;}#sk-container-id-10 input.sk-toggleable__control:checked~div.sk-toggleable__content {max-height: 200px;max-width: 100%;overflow: auto;}#sk-container-id-10 input.sk-toggleable__control:checked~label.sk-toggleable__label-arrow:before {content: \"▾\";}#sk-container-id-10 div.sk-estimator input.sk-toggleable__control:checked~label.sk-toggleable__label {background-color: #d4ebff;}#sk-container-id-10 div.sk-label input.sk-toggleable__control:checked~label.sk-toggleable__label {background-color: #d4ebff;}#sk-container-id-10 input.sk-hidden--visually {border: 0;clip: rect(1px 1px 1px 1px);clip: rect(1px, 1px, 1px, 1px);height: 1px;margin: -1px;overflow: hidden;padding: 0;position: absolute;width: 1px;}#sk-container-id-10 div.sk-estimator {font-family: monospace;background-color: #f0f8ff;border: 1px dotted black;border-radius: 0.25em;box-sizing: border-box;margin-bottom: 0.5em;}#sk-container-id-10 div.sk-estimator:hover {background-color: #d4ebff;}#sk-container-id-10 div.sk-parallel-item::after {content: \"\";width: 100%;border-bottom: 1px solid gray;flex-grow: 1;}#sk-container-id-10 div.sk-label:hover label.sk-toggleable__label {background-color: #d4ebff;}#sk-container-id-10 div.sk-serial::before {content: \"\";position: absolute;border-left: 1px solid gray;box-sizing: border-box;top: 0;bottom: 0;left: 50%;z-index: 0;}#sk-container-id-10 div.sk-serial {display: flex;flex-direction: column;align-items: center;background-color: white;padding-right: 0.2em;padding-left: 0.2em;position: relative;}#sk-container-id-10 div.sk-item {position: relative;z-index: 1;}#sk-container-id-10 div.sk-parallel {display: flex;align-items: stretch;justify-content: center;background-color: white;position: relative;}#sk-container-id-10 div.sk-item::before, #sk-container-id-10 div.sk-parallel-item::before {content: \"\";position: absolute;border-left: 1px solid gray;box-sizing: border-box;top: 0;bottom: 0;left: 50%;z-index: -1;}#sk-container-id-10 div.sk-parallel-item {display: flex;flex-direction: column;z-index: 1;position: relative;background-color: white;}#sk-container-id-10 div.sk-parallel-item:first-child::after {align-self: flex-end;width: 50%;}#sk-container-id-10 div.sk-parallel-item:last-child::after {align-self: flex-start;width: 50%;}#sk-container-id-10 div.sk-parallel-item:only-child::after {width: 0;}#sk-container-id-10 div.sk-dashed-wrapped {border: 1px dashed gray;margin: 0 0.4em 0.5em 0.4em;box-sizing: border-box;padding-bottom: 0.4em;background-color: white;}#sk-container-id-10 div.sk-label label {font-family: monospace;font-weight: bold;display: inline-block;line-height: 1.2em;}#sk-container-id-10 div.sk-label-container {text-align: center;}#sk-container-id-10 div.sk-container {/* jupyter's `normalize.less` sets `[hidden] { display: none; }` but bootstrap.min.css set `[hidden] { display: none !important; }` so we also need the `!important` here to be able to override the default hidden behavior on the sphinx rendered scikit-learn.org. See: https://github.com/scikit-learn/scikit-learn/issues/21755 */display: inline-block !important;position: relative;}#sk-container-id-10 div.sk-text-repr-fallback {display: none;}</style><div id=\"sk-container-id-10\" class=\"sk-top-container\"><div class=\"sk-text-repr-fallback\"><pre>KMeans(n_clusters=5)</pre><b>In a Jupyter environment, please rerun this cell to show the HTML representation or trust the notebook. <br />On GitHub, the HTML representation is unable to render, please try loading this page with nbviewer.org.</b></div><div class=\"sk-container\" hidden><div class=\"sk-item\"><div class=\"sk-estimator sk-toggleable\"><input class=\"sk-toggleable__control sk-hidden--visually\" id=\"sk-estimator-id-12\" type=\"checkbox\" checked><label for=\"sk-estimator-id-12\" class=\"sk-toggleable__label sk-toggleable__label-arrow\">KMeans</label><div class=\"sk-toggleable__content\"><pre>KMeans(n_clusters=5)</pre></div></div></div></div></div>"
            ]
          },
          "metadata": {},
          "execution_count": 84
        }
      ]
    },
    {
      "cell_type": "code",
      "source": [
        "ks = range(1, 10)\n",
        "inertias = []\n",
        "\n",
        "for k in ks:\n",
        "  model = KMeans(n_clusters=k)\n",
        "  model.fit(data)\n",
        "  # wyliczanie sse dla każdego modelu\n",
        "  inertias.append(model.inertia_)"
      ],
      "metadata": {
        "colab": {
          "base_uri": "https://localhost:8080/"
        },
        "id": "jV16djGiXrdB",
        "outputId": "08b1a8d9-2624-4ad3-b2b8-1368f2332a02"
      },
      "execution_count": 85,
      "outputs": [
        {
          "output_type": "stream",
          "name": "stderr",
          "text": [
            "/usr/local/lib/python3.10/dist-packages/sklearn/cluster/_kmeans.py:870: FutureWarning: The default value of `n_init` will change from 10 to 'auto' in 1.4. Set the value of `n_init` explicitly to suppress the warning\n",
            "  warnings.warn(\n",
            "/usr/local/lib/python3.10/dist-packages/sklearn/cluster/_kmeans.py:870: FutureWarning: The default value of `n_init` will change from 10 to 'auto' in 1.4. Set the value of `n_init` explicitly to suppress the warning\n",
            "  warnings.warn(\n",
            "/usr/local/lib/python3.10/dist-packages/sklearn/cluster/_kmeans.py:870: FutureWarning: The default value of `n_init` will change from 10 to 'auto' in 1.4. Set the value of `n_init` explicitly to suppress the warning\n",
            "  warnings.warn(\n",
            "/usr/local/lib/python3.10/dist-packages/sklearn/cluster/_kmeans.py:870: FutureWarning: The default value of `n_init` will change from 10 to 'auto' in 1.4. Set the value of `n_init` explicitly to suppress the warning\n",
            "  warnings.warn(\n",
            "/usr/local/lib/python3.10/dist-packages/sklearn/cluster/_kmeans.py:870: FutureWarning: The default value of `n_init` will change from 10 to 'auto' in 1.4. Set the value of `n_init` explicitly to suppress the warning\n",
            "  warnings.warn(\n",
            "/usr/local/lib/python3.10/dist-packages/sklearn/cluster/_kmeans.py:870: FutureWarning: The default value of `n_init` will change from 10 to 'auto' in 1.4. Set the value of `n_init` explicitly to suppress the warning\n",
            "  warnings.warn(\n",
            "/usr/local/lib/python3.10/dist-packages/sklearn/cluster/_kmeans.py:870: FutureWarning: The default value of `n_init` will change from 10 to 'auto' in 1.4. Set the value of `n_init` explicitly to suppress the warning\n",
            "  warnings.warn(\n",
            "/usr/local/lib/python3.10/dist-packages/sklearn/cluster/_kmeans.py:870: FutureWarning: The default value of `n_init` will change from 10 to 'auto' in 1.4. Set the value of `n_init` explicitly to suppress the warning\n",
            "  warnings.warn(\n",
            "/usr/local/lib/python3.10/dist-packages/sklearn/cluster/_kmeans.py:870: FutureWarning: The default value of `n_init` will change from 10 to 'auto' in 1.4. Set the value of `n_init` explicitly to suppress the warning\n",
            "  warnings.warn(\n"
          ]
        }
      ]
    },
    {
      "cell_type": "code",
      "source": [
        "fig, ax = plt.subplots()\n",
        "ax.plot(ks, inertias, '-o')\n",
        "ax.set_xlabel('Number of clusters')\n",
        "ax.set_ylabel('SSE')\n",
        "ax.set_xticks(ks)\n",
        "plt.title('Elbow method')\n",
        "plt.show()"
      ],
      "metadata": {
        "colab": {
          "base_uri": "https://localhost:8080/",
          "height": 472
        },
        "id": "n8Q2HR_fXzFV",
        "outputId": "bfa4c384-aa64-4e3a-912a-868d92e4f4dc"
      },
      "execution_count": 86,
      "outputs": [
        {
          "output_type": "display_data",
          "data": {
            "text/plain": [
              "<Figure size 640x480 with 1 Axes>"
            ],
            "image/png": "[encoded data removed]"
          },
          "metadata": {}
        }
      ]
    },
    {
      "cell_type": "markdown",
      "source": [
        "sprawdzić co to są za trzy klastry\n",
        "\n",
        "- dodac nową kolumnę z labelkami po klasteryzacji  i wtedy pogrubować, żeby sprawdzić; sprawdzić liczebność tych klas"
      ],
      "metadata": {
        "id": "hpCje3QTeuc5"
      }
    },
    {
      "cell_type": "code",
      "source": [
        "# silhouette score\n",
        "ks = range(2, 6)\n",
        "sil = []\n",
        "\n",
        "for k in ks:\n",
        "  model = KMeans(n_clusters=k)\n",
        "  model.fit(data)\n",
        "  labels = model.predict(data)\n",
        "  # wyliczanie miary Silhouette dla każdego modelu\n",
        "  score = silhouette_score(data, labels)\n",
        "  sil.append(score)"
      ],
      "metadata": {
        "colab": {
          "base_uri": "https://localhost:8080/"
        },
        "id": "cAJri4zKX2Q8",
        "outputId": "4ef50182-46e9-4e7a-d582-d8448c4c6fef"
      },
      "execution_count": 87,
      "outputs": [
        {
          "output_type": "stream",
          "name": "stderr",
          "text": [
            "/usr/local/lib/python3.10/dist-packages/sklearn/cluster/_kmeans.py:870: FutureWarning: The default value of `n_init` will change from 10 to 'auto' in 1.4. Set the value of `n_init` explicitly to suppress the warning\n",
            "  warnings.warn(\n",
            "/usr/local/lib/python3.10/dist-packages/sklearn/cluster/_kmeans.py:870: FutureWarning: The default value of `n_init` will change from 10 to 'auto' in 1.4. Set the value of `n_init` explicitly to suppress the warning\n",
            "  warnings.warn(\n",
            "/usr/local/lib/python3.10/dist-packages/sklearn/cluster/_kmeans.py:870: FutureWarning: The default value of `n_init` will change from 10 to 'auto' in 1.4. Set the value of `n_init` explicitly to suppress the warning\n",
            "  warnings.warn(\n",
            "/usr/local/lib/python3.10/dist-packages/sklearn/cluster/_kmeans.py:870: FutureWarning: The default value of `n_init` will change from 10 to 'auto' in 1.4. Set the value of `n_init` explicitly to suppress the warning\n",
            "  warnings.warn(\n"
          ]
        }
      ]
    },
    {
      "cell_type": "code",
      "source": [
        "fig, ax = plt.subplots()\n",
        "ax.plot(ks, sil, '-o')\n",
        "ax.set_xlabel('Number of clusters')\n",
        "ax.set_ylabel('Silhouette score')\n",
        "ax.set_xticks(ks)\n",
        "plt.title(\"Silhouette score in KMeans model \")\n",
        "plt.show()"
      ],
      "metadata": {
        "colab": {
          "base_uri": "https://localhost:8080/",
          "height": 472
        },
        "id": "qzhWmo3hYF1j",
        "outputId": "5aaa9255-ba16-4042-92f0-ecf173e0fec0"
      },
      "execution_count": null,
      "outputs": [
        {
          "output_type": "display_data",
          "data": {
            "text/plain": [
              "<Figure size 640x480 with 1 Axes>"
            ],
            "image/png": "[encoded data removed]"
          },
          "metadata": {}
        }
      ]
    },
    {
      "cell_type": "markdown",
      "source": [
        "w obrębie y - porobic więcej analiz, czy stan cywilny ma wpływ, zarobki  itp.\n",
        "\n",
        "porównać clustry, jak są duże, kto w nich jest\n",
        "\n",
        "podsumownanie , który model dał najlepszy wynik -> kontekst biznesowy\n"
      ],
      "metadata": {
        "id": "1gh3m6IzfzmK"
      }
    }
  ]
}